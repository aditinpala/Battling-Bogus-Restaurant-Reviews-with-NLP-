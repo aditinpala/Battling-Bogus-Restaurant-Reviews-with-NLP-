{
  "nbformat": 4,
  "nbformat_minor": 0,
  "metadata": {
    "colab": {
      "provenance": []
    },
    "kernelspec": {
      "name": "python3",
      "display_name": "Python 3"
    },
    "language_info": {
      "name": "python"
    }
  },
  "cells": [
    {
      "cell_type": "markdown",
      "source": [
        "Name of student: ADITI PALA\n",
        "\n",
        "SUID: 210164262"
      ],
      "metadata": {
        "id": "CW4kW0_U08nm"
      }
    },
    {
      "cell_type": "code",
      "execution_count": 1,
      "metadata": {
        "colab": {
          "base_uri": "https://localhost:8080/"
        },
        "id": "lOI3Ao5n0mnz",
        "outputId": "e09afc0d-08ce-4a11-ffef-9ae2bca6cd9c"
      },
      "outputs": [
        {
          "output_type": "stream",
          "name": "stdout",
          "text": [
            "Drive already mounted at /content/drive; to attempt to forcibly remount, call drive.mount(\"/content/drive\", force_remount=True).\n"
          ]
        }
      ],
      "source": [
        "from google.colab import drive\n",
        "drive.mount('/content/drive')\n"
      ]
    },
    {
      "cell_type": "code",
      "source": [
        "\n",
        "import numpy as np\n",
        "import pandas as p\n",
        "df=p.read_csv(\"/content/drive/MyDrive/Colab Notebooks/Text Mining/deception_data_converted_final.tsv\", delimiter='\\t')\n"
      ],
      "metadata": {
        "id": "kiCl5p_l1S3w"
      },
      "execution_count": 2,
      "outputs": []
    },
    {
      "cell_type": "code",
      "source": [
        "display(df)"
      ],
      "metadata": {
        "colab": {
          "base_uri": "https://localhost:8080/",
          "height": 424
        },
        "id": "doxpDtYJ1gtC",
        "outputId": "aa134b73-3686-4482-cb92-463de80a21d5"
      },
      "execution_count": 3,
      "outputs": [
        {
          "output_type": "display_data",
          "data": {
            "text/plain": [
              "   lie sentiment                                             review\n",
              "0    f         n  'Mike\\'s Pizza High Point, NY Service was very...\n",
              "1    f         n  'i really like this buffet restaurant in Marsh...\n",
              "2    f         n  'After I went shopping with some of my friend,...\n",
              "3    f         n  'Olive Oil Garden was very disappointing. I ex...\n",
              "4    f         n  'The Seven Heaven restaurant was never known f...\n",
              "..  ..       ...                                                ...\n",
              "87   t         p  'Pastablities is a locally owned restaurant in...\n",
              "88   t         p  'I like the Pizza at Dominoes for their specia...\n",
              "89   t         p  'It was a really amazing Japanese restaurant. ...\n",
              "90   t         p  'How do I even pick a best experience at Joe\\'...\n",
              "91   t         p  'My sister and I ate at this restaurant called...\n",
              "\n",
              "[92 rows x 3 columns]"
            ],
            "text/html": [
              "\n",
              "  <div id=\"df-1c008a34-a40f-4329-bbf9-3e94f35eb4aa\" class=\"colab-df-container\">\n",
              "    <div>\n",
              "<style scoped>\n",
              "    .dataframe tbody tr th:only-of-type {\n",
              "        vertical-align: middle;\n",
              "    }\n",
              "\n",
              "    .dataframe tbody tr th {\n",
              "        vertical-align: top;\n",
              "    }\n",
              "\n",
              "    .dataframe thead th {\n",
              "        text-align: right;\n",
              "    }\n",
              "</style>\n",
              "<table border=\"1\" class=\"dataframe\">\n",
              "  <thead>\n",
              "    <tr style=\"text-align: right;\">\n",
              "      <th></th>\n",
              "      <th>lie</th>\n",
              "      <th>sentiment</th>\n",
              "      <th>review</th>\n",
              "    </tr>\n",
              "  </thead>\n",
              "  <tbody>\n",
              "    <tr>\n",
              "      <th>0</th>\n",
              "      <td>f</td>\n",
              "      <td>n</td>\n",
              "      <td>'Mike\\'s Pizza High Point, NY Service was very...</td>\n",
              "    </tr>\n",
              "    <tr>\n",
              "      <th>1</th>\n",
              "      <td>f</td>\n",
              "      <td>n</td>\n",
              "      <td>'i really like this buffet restaurant in Marsh...</td>\n",
              "    </tr>\n",
              "    <tr>\n",
              "      <th>2</th>\n",
              "      <td>f</td>\n",
              "      <td>n</td>\n",
              "      <td>'After I went shopping with some of my friend,...</td>\n",
              "    </tr>\n",
              "    <tr>\n",
              "      <th>3</th>\n",
              "      <td>f</td>\n",
              "      <td>n</td>\n",
              "      <td>'Olive Oil Garden was very disappointing. I ex...</td>\n",
              "    </tr>\n",
              "    <tr>\n",
              "      <th>4</th>\n",
              "      <td>f</td>\n",
              "      <td>n</td>\n",
              "      <td>'The Seven Heaven restaurant was never known f...</td>\n",
              "    </tr>\n",
              "    <tr>\n",
              "      <th>...</th>\n",
              "      <td>...</td>\n",
              "      <td>...</td>\n",
              "      <td>...</td>\n",
              "    </tr>\n",
              "    <tr>\n",
              "      <th>87</th>\n",
              "      <td>t</td>\n",
              "      <td>p</td>\n",
              "      <td>'Pastablities is a locally owned restaurant in...</td>\n",
              "    </tr>\n",
              "    <tr>\n",
              "      <th>88</th>\n",
              "      <td>t</td>\n",
              "      <td>p</td>\n",
              "      <td>'I like the Pizza at Dominoes for their specia...</td>\n",
              "    </tr>\n",
              "    <tr>\n",
              "      <th>89</th>\n",
              "      <td>t</td>\n",
              "      <td>p</td>\n",
              "      <td>'It was a really amazing Japanese restaurant. ...</td>\n",
              "    </tr>\n",
              "    <tr>\n",
              "      <th>90</th>\n",
              "      <td>t</td>\n",
              "      <td>p</td>\n",
              "      <td>'How do I even pick a best experience at Joe\\'...</td>\n",
              "    </tr>\n",
              "    <tr>\n",
              "      <th>91</th>\n",
              "      <td>t</td>\n",
              "      <td>p</td>\n",
              "      <td>'My sister and I ate at this restaurant called...</td>\n",
              "    </tr>\n",
              "  </tbody>\n",
              "</table>\n",
              "<p>92 rows × 3 columns</p>\n",
              "</div>\n",
              "    <div class=\"colab-df-buttons\">\n",
              "\n",
              "  <div class=\"colab-df-container\">\n",
              "    <button class=\"colab-df-convert\" onclick=\"convertToInteractive('df-1c008a34-a40f-4329-bbf9-3e94f35eb4aa')\"\n",
              "            title=\"Convert this dataframe to an interactive table.\"\n",
              "            style=\"display:none;\">\n",
              "\n",
              "  <svg xmlns=\"http://www.w3.org/2000/svg\" height=\"24px\" viewBox=\"0 -960 960 960\">\n",
              "    <path d=\"M120-120v-720h720v720H120Zm60-500h600v-160H180v160Zm220 220h160v-160H400v160Zm0 220h160v-160H400v160ZM180-400h160v-160H180v160Zm440 0h160v-160H620v160ZM180-180h160v-160H180v160Zm440 0h160v-160H620v160Z\"/>\n",
              "  </svg>\n",
              "    </button>\n",
              "\n",
              "  <style>\n",
              "    .colab-df-container {\n",
              "      display:flex;\n",
              "      gap: 12px;\n",
              "    }\n",
              "\n",
              "    .colab-df-convert {\n",
              "      background-color: #E8F0FE;\n",
              "      border: none;\n",
              "      border-radius: 50%;\n",
              "      cursor: pointer;\n",
              "      display: none;\n",
              "      fill: #1967D2;\n",
              "      height: 32px;\n",
              "      padding: 0 0 0 0;\n",
              "      width: 32px;\n",
              "    }\n",
              "\n",
              "    .colab-df-convert:hover {\n",
              "      background-color: #E2EBFA;\n",
              "      box-shadow: 0px 1px 2px rgba(60, 64, 67, 0.3), 0px 1px 3px 1px rgba(60, 64, 67, 0.15);\n",
              "      fill: #174EA6;\n",
              "    }\n",
              "\n",
              "    .colab-df-buttons div {\n",
              "      margin-bottom: 4px;\n",
              "    }\n",
              "\n",
              "    [theme=dark] .colab-df-convert {\n",
              "      background-color: #3B4455;\n",
              "      fill: #D2E3FC;\n",
              "    }\n",
              "\n",
              "    [theme=dark] .colab-df-convert:hover {\n",
              "      background-color: #434B5C;\n",
              "      box-shadow: 0px 1px 3px 1px rgba(0, 0, 0, 0.15);\n",
              "      filter: drop-shadow(0px 1px 2px rgba(0, 0, 0, 0.3));\n",
              "      fill: #FFFFFF;\n",
              "    }\n",
              "  </style>\n",
              "\n",
              "    <script>\n",
              "      const buttonEl =\n",
              "        document.querySelector('#df-1c008a34-a40f-4329-bbf9-3e94f35eb4aa button.colab-df-convert');\n",
              "      buttonEl.style.display =\n",
              "        google.colab.kernel.accessAllowed ? 'block' : 'none';\n",
              "\n",
              "      async function convertToInteractive(key) {\n",
              "        const element = document.querySelector('#df-1c008a34-a40f-4329-bbf9-3e94f35eb4aa');\n",
              "        const dataTable =\n",
              "          await google.colab.kernel.invokeFunction('convertToInteractive',\n",
              "                                                    [key], {});\n",
              "        if (!dataTable) return;\n",
              "\n",
              "        const docLinkHtml = 'Like what you see? Visit the ' +\n",
              "          '<a target=\"_blank\" href=https://colab.research.google.com/notebooks/data_table.ipynb>data table notebook</a>'\n",
              "          + ' to learn more about interactive tables.';\n",
              "        element.innerHTML = '';\n",
              "        dataTable['output_type'] = 'display_data';\n",
              "        await google.colab.output.renderOutput(dataTable, element);\n",
              "        const docLink = document.createElement('div');\n",
              "        docLink.innerHTML = docLinkHtml;\n",
              "        element.appendChild(docLink);\n",
              "      }\n",
              "    </script>\n",
              "  </div>\n",
              "\n",
              "\n",
              "<div id=\"df-69185111-4e16-431e-95ef-66744f13b333\">\n",
              "  <button class=\"colab-df-quickchart\" onclick=\"quickchart('df-69185111-4e16-431e-95ef-66744f13b333')\"\n",
              "            title=\"Suggest charts.\"\n",
              "            style=\"display:none;\">\n",
              "\n",
              "<svg xmlns=\"http://www.w3.org/2000/svg\" height=\"24px\"viewBox=\"0 0 24 24\"\n",
              "     width=\"24px\">\n",
              "    <g>\n",
              "        <path d=\"M19 3H5c-1.1 0-2 .9-2 2v14c0 1.1.9 2 2 2h14c1.1 0 2-.9 2-2V5c0-1.1-.9-2-2-2zM9 17H7v-7h2v7zm4 0h-2V7h2v10zm4 0h-2v-4h2v4z\"/>\n",
              "    </g>\n",
              "</svg>\n",
              "  </button>\n",
              "\n",
              "<style>\n",
              "  .colab-df-quickchart {\n",
              "      --bg-color: #E8F0FE;\n",
              "      --fill-color: #1967D2;\n",
              "      --hover-bg-color: #E2EBFA;\n",
              "      --hover-fill-color: #174EA6;\n",
              "      --disabled-fill-color: #AAA;\n",
              "      --disabled-bg-color: #DDD;\n",
              "  }\n",
              "\n",
              "  [theme=dark] .colab-df-quickchart {\n",
              "      --bg-color: #3B4455;\n",
              "      --fill-color: #D2E3FC;\n",
              "      --hover-bg-color: #434B5C;\n",
              "      --hover-fill-color: #FFFFFF;\n",
              "      --disabled-bg-color: #3B4455;\n",
              "      --disabled-fill-color: #666;\n",
              "  }\n",
              "\n",
              "  .colab-df-quickchart {\n",
              "    background-color: var(--bg-color);\n",
              "    border: none;\n",
              "    border-radius: 50%;\n",
              "    cursor: pointer;\n",
              "    display: none;\n",
              "    fill: var(--fill-color);\n",
              "    height: 32px;\n",
              "    padding: 0;\n",
              "    width: 32px;\n",
              "  }\n",
              "\n",
              "  .colab-df-quickchart:hover {\n",
              "    background-color: var(--hover-bg-color);\n",
              "    box-shadow: 0 1px 2px rgba(60, 64, 67, 0.3), 0 1px 3px 1px rgba(60, 64, 67, 0.15);\n",
              "    fill: var(--button-hover-fill-color);\n",
              "  }\n",
              "\n",
              "  .colab-df-quickchart-complete:disabled,\n",
              "  .colab-df-quickchart-complete:disabled:hover {\n",
              "    background-color: var(--disabled-bg-color);\n",
              "    fill: var(--disabled-fill-color);\n",
              "    box-shadow: none;\n",
              "  }\n",
              "\n",
              "  .colab-df-spinner {\n",
              "    border: 2px solid var(--fill-color);\n",
              "    border-color: transparent;\n",
              "    border-bottom-color: var(--fill-color);\n",
              "    animation:\n",
              "      spin 1s steps(1) infinite;\n",
              "  }\n",
              "\n",
              "  @keyframes spin {\n",
              "    0% {\n",
              "      border-color: transparent;\n",
              "      border-bottom-color: var(--fill-color);\n",
              "      border-left-color: var(--fill-color);\n",
              "    }\n",
              "    20% {\n",
              "      border-color: transparent;\n",
              "      border-left-color: var(--fill-color);\n",
              "      border-top-color: var(--fill-color);\n",
              "    }\n",
              "    30% {\n",
              "      border-color: transparent;\n",
              "      border-left-color: var(--fill-color);\n",
              "      border-top-color: var(--fill-color);\n",
              "      border-right-color: var(--fill-color);\n",
              "    }\n",
              "    40% {\n",
              "      border-color: transparent;\n",
              "      border-right-color: var(--fill-color);\n",
              "      border-top-color: var(--fill-color);\n",
              "    }\n",
              "    60% {\n",
              "      border-color: transparent;\n",
              "      border-right-color: var(--fill-color);\n",
              "    }\n",
              "    80% {\n",
              "      border-color: transparent;\n",
              "      border-right-color: var(--fill-color);\n",
              "      border-bottom-color: var(--fill-color);\n",
              "    }\n",
              "    90% {\n",
              "      border-color: transparent;\n",
              "      border-bottom-color: var(--fill-color);\n",
              "    }\n",
              "  }\n",
              "</style>\n",
              "\n",
              "  <script>\n",
              "    async function quickchart(key) {\n",
              "      const quickchartButtonEl =\n",
              "        document.querySelector('#' + key + ' button');\n",
              "      quickchartButtonEl.disabled = true;  // To prevent multiple clicks.\n",
              "      quickchartButtonEl.classList.add('colab-df-spinner');\n",
              "      try {\n",
              "        const charts = await google.colab.kernel.invokeFunction(\n",
              "            'suggestCharts', [key], {});\n",
              "      } catch (error) {\n",
              "        console.error('Error during call to suggestCharts:', error);\n",
              "      }\n",
              "      quickchartButtonEl.classList.remove('colab-df-spinner');\n",
              "      quickchartButtonEl.classList.add('colab-df-quickchart-complete');\n",
              "    }\n",
              "    (() => {\n",
              "      let quickchartButtonEl =\n",
              "        document.querySelector('#df-69185111-4e16-431e-95ef-66744f13b333 button');\n",
              "      quickchartButtonEl.style.display =\n",
              "        google.colab.kernel.accessAllowed ? 'block' : 'none';\n",
              "    })();\n",
              "  </script>\n",
              "</div>\n",
              "    </div>\n",
              "  </div>\n"
            ]
          },
          "metadata": {}
        }
      ]
    },
    {
      "cell_type": "code",
      "source": [
        "import pandas as pd\n",
        "import numpy as np\n",
        "import nltk\n",
        "from sklearn.model_selection import train_test_split, cross_val_score\n",
        "from sklearn.feature_extraction.text import CountVectorizer, TfidfVectorizer\n",
        "from sklearn.naive_bayes import MultinomialNB\n",
        "from sklearn.svm import SVC\n",
        "from sklearn.metrics import confusion_matrix, accuracy_score, precision_score, recall_score, f1_score\n",
        "from nltk.corpus import stopwords\n",
        "from nltk.stem import PorterStemmer\n",
        "from nltk.tokenize import word_tokenize\n",
        "from nltk.tokenize import word_tokenize\n",
        "from nltk.stem import WordNetLemmatizer"
      ],
      "metadata": {
        "id": "SqPVb18P1hrH"
      },
      "execution_count": 4,
      "outputs": []
    },
    {
      "cell_type": "code",
      "source": [
        "import nltk\n",
        "nltk.download('punkt')\n",
        "nltk.download('wordnet')"
      ],
      "metadata": {
        "colab": {
          "base_uri": "https://localhost:8080/"
        },
        "id": "FB_UWARx2ZlI",
        "outputId": "a5a9a034-e209-49d4-fb12-aa8dcbe31e66"
      },
      "execution_count": 5,
      "outputs": [
        {
          "output_type": "stream",
          "name": "stderr",
          "text": [
            "[nltk_data] Downloading package punkt to /root/nltk_data...\n",
            "[nltk_data]   Package punkt is already up-to-date!\n",
            "[nltk_data] Downloading package wordnet to /root/nltk_data...\n",
            "[nltk_data]   Package wordnet is already up-to-date!\n"
          ]
        },
        {
          "output_type": "execute_result",
          "data": {
            "text/plain": [
              "True"
            ]
          },
          "metadata": {},
          "execution_count": 5
        }
      ]
    },
    {
      "cell_type": "code",
      "source": [
        "# Ensure 'review' column contains only strings\n",
        "df['review'] = df['review'].apply(lambda x: str(x))\n"
      ],
      "metadata": {
        "id": "yNkJ_YzM2O1C"
      },
      "execution_count": 6,
      "outputs": []
    },
    {
      "cell_type": "code",
      "source": [
        "# Lowercase the text\n",
        "df['review'] = df['review'].str.lower()\n"
      ],
      "metadata": {
        "id": "8Mf1-HlW4H1w"
      },
      "execution_count": 7,
      "outputs": []
    },
    {
      "cell_type": "code",
      "source": [
        "# Tokenize the text\n",
        "df['review'] = df['review'].apply(word_tokenize)"
      ],
      "metadata": {
        "id": "IFaeSc5j4Jn1"
      },
      "execution_count": 8,
      "outputs": []
    },
    {
      "cell_type": "code",
      "source": [
        "# Remove punctuation and lemmatize\n",
        "nltk.download('stopwords')\n",
        "stop_words = set(stopwords.words('english'))\n",
        "lemmatizer = WordNetLemmatizer()\n",
        "df['review'] = df['review'].apply(lambda tokens: [lemmatizer.lemmatize(word) for word in tokens if word.isalnum() and word not in stop_words])"
      ],
      "metadata": {
        "colab": {
          "base_uri": "https://localhost:8080/"
        },
        "id": "YDMnX0u84Mzw",
        "outputId": "3867de31-31be-4a01-8c2c-7617db34f040"
      },
      "execution_count": 9,
      "outputs": [
        {
          "output_type": "stream",
          "name": "stderr",
          "text": [
            "[nltk_data] Downloading package stopwords to /root/nltk_data...\n",
            "[nltk_data]   Package stopwords is already up-to-date!\n"
          ]
        }
      ]
    },
    {
      "cell_type": "code",
      "source": [
        "display(df)"
      ],
      "metadata": {
        "colab": {
          "base_uri": "https://localhost:8080/",
          "height": 424
        },
        "id": "wYoQbzh42dMb",
        "outputId": "63027285-37ed-471f-9d88-559a38067bc7"
      },
      "execution_count": 10,
      "outputs": [
        {
          "output_type": "display_data",
          "data": {
            "text/plain": [
              "   lie sentiment                                             review\n",
              "0    f         n  [pizza, high, point, ny, service, slow, qualit...\n",
              "1    f         n  [really, like, buffet, restaurant, marshall, s...\n",
              "2    f         n  [went, shopping, friend, went, dodo, restauran...\n",
              "3    f         n  [oil, garden, disappointing, expect, good, foo...\n",
              "4    f         n  [seven, heaven, restaurant, never, known, supe...\n",
              "..  ..       ...                                                ...\n",
              "87   t         p  [locally, owned, restaurant, syracuse, food, s...\n",
              "88   t         p  [like, pizza, domino, special, ingredient, pri...\n",
              "89   t         p  [really, amazing, japanese, restaurant, waiter...\n",
              "90   t         p  [even, pick, best, experience, noodle, house, ...\n",
              "91   t         p  [sister, ate, restaurant, called, matador, ove...\n",
              "\n",
              "[92 rows x 3 columns]"
            ],
            "text/html": [
              "\n",
              "  <div id=\"df-17320a9b-8d63-408c-a64a-a8fdd5967705\" class=\"colab-df-container\">\n",
              "    <div>\n",
              "<style scoped>\n",
              "    .dataframe tbody tr th:only-of-type {\n",
              "        vertical-align: middle;\n",
              "    }\n",
              "\n",
              "    .dataframe tbody tr th {\n",
              "        vertical-align: top;\n",
              "    }\n",
              "\n",
              "    .dataframe thead th {\n",
              "        text-align: right;\n",
              "    }\n",
              "</style>\n",
              "<table border=\"1\" class=\"dataframe\">\n",
              "  <thead>\n",
              "    <tr style=\"text-align: right;\">\n",
              "      <th></th>\n",
              "      <th>lie</th>\n",
              "      <th>sentiment</th>\n",
              "      <th>review</th>\n",
              "    </tr>\n",
              "  </thead>\n",
              "  <tbody>\n",
              "    <tr>\n",
              "      <th>0</th>\n",
              "      <td>f</td>\n",
              "      <td>n</td>\n",
              "      <td>[pizza, high, point, ny, service, slow, qualit...</td>\n",
              "    </tr>\n",
              "    <tr>\n",
              "      <th>1</th>\n",
              "      <td>f</td>\n",
              "      <td>n</td>\n",
              "      <td>[really, like, buffet, restaurant, marshall, s...</td>\n",
              "    </tr>\n",
              "    <tr>\n",
              "      <th>2</th>\n",
              "      <td>f</td>\n",
              "      <td>n</td>\n",
              "      <td>[went, shopping, friend, went, dodo, restauran...</td>\n",
              "    </tr>\n",
              "    <tr>\n",
              "      <th>3</th>\n",
              "      <td>f</td>\n",
              "      <td>n</td>\n",
              "      <td>[oil, garden, disappointing, expect, good, foo...</td>\n",
              "    </tr>\n",
              "    <tr>\n",
              "      <th>4</th>\n",
              "      <td>f</td>\n",
              "      <td>n</td>\n",
              "      <td>[seven, heaven, restaurant, never, known, supe...</td>\n",
              "    </tr>\n",
              "    <tr>\n",
              "      <th>...</th>\n",
              "      <td>...</td>\n",
              "      <td>...</td>\n",
              "      <td>...</td>\n",
              "    </tr>\n",
              "    <tr>\n",
              "      <th>87</th>\n",
              "      <td>t</td>\n",
              "      <td>p</td>\n",
              "      <td>[locally, owned, restaurant, syracuse, food, s...</td>\n",
              "    </tr>\n",
              "    <tr>\n",
              "      <th>88</th>\n",
              "      <td>t</td>\n",
              "      <td>p</td>\n",
              "      <td>[like, pizza, domino, special, ingredient, pri...</td>\n",
              "    </tr>\n",
              "    <tr>\n",
              "      <th>89</th>\n",
              "      <td>t</td>\n",
              "      <td>p</td>\n",
              "      <td>[really, amazing, japanese, restaurant, waiter...</td>\n",
              "    </tr>\n",
              "    <tr>\n",
              "      <th>90</th>\n",
              "      <td>t</td>\n",
              "      <td>p</td>\n",
              "      <td>[even, pick, best, experience, noodle, house, ...</td>\n",
              "    </tr>\n",
              "    <tr>\n",
              "      <th>91</th>\n",
              "      <td>t</td>\n",
              "      <td>p</td>\n",
              "      <td>[sister, ate, restaurant, called, matador, ove...</td>\n",
              "    </tr>\n",
              "  </tbody>\n",
              "</table>\n",
              "<p>92 rows × 3 columns</p>\n",
              "</div>\n",
              "    <div class=\"colab-df-buttons\">\n",
              "\n",
              "  <div class=\"colab-df-container\">\n",
              "    <button class=\"colab-df-convert\" onclick=\"convertToInteractive('df-17320a9b-8d63-408c-a64a-a8fdd5967705')\"\n",
              "            title=\"Convert this dataframe to an interactive table.\"\n",
              "            style=\"display:none;\">\n",
              "\n",
              "  <svg xmlns=\"http://www.w3.org/2000/svg\" height=\"24px\" viewBox=\"0 -960 960 960\">\n",
              "    <path d=\"M120-120v-720h720v720H120Zm60-500h600v-160H180v160Zm220 220h160v-160H400v160Zm0 220h160v-160H400v160ZM180-400h160v-160H180v160Zm440 0h160v-160H620v160ZM180-180h160v-160H180v160Zm440 0h160v-160H620v160Z\"/>\n",
              "  </svg>\n",
              "    </button>\n",
              "\n",
              "  <style>\n",
              "    .colab-df-container {\n",
              "      display:flex;\n",
              "      gap: 12px;\n",
              "    }\n",
              "\n",
              "    .colab-df-convert {\n",
              "      background-color: #E8F0FE;\n",
              "      border: none;\n",
              "      border-radius: 50%;\n",
              "      cursor: pointer;\n",
              "      display: none;\n",
              "      fill: #1967D2;\n",
              "      height: 32px;\n",
              "      padding: 0 0 0 0;\n",
              "      width: 32px;\n",
              "    }\n",
              "\n",
              "    .colab-df-convert:hover {\n",
              "      background-color: #E2EBFA;\n",
              "      box-shadow: 0px 1px 2px rgba(60, 64, 67, 0.3), 0px 1px 3px 1px rgba(60, 64, 67, 0.15);\n",
              "      fill: #174EA6;\n",
              "    }\n",
              "\n",
              "    .colab-df-buttons div {\n",
              "      margin-bottom: 4px;\n",
              "    }\n",
              "\n",
              "    [theme=dark] .colab-df-convert {\n",
              "      background-color: #3B4455;\n",
              "      fill: #D2E3FC;\n",
              "    }\n",
              "\n",
              "    [theme=dark] .colab-df-convert:hover {\n",
              "      background-color: #434B5C;\n",
              "      box-shadow: 0px 1px 3px 1px rgba(0, 0, 0, 0.15);\n",
              "      filter: drop-shadow(0px 1px 2px rgba(0, 0, 0, 0.3));\n",
              "      fill: #FFFFFF;\n",
              "    }\n",
              "  </style>\n",
              "\n",
              "    <script>\n",
              "      const buttonEl =\n",
              "        document.querySelector('#df-17320a9b-8d63-408c-a64a-a8fdd5967705 button.colab-df-convert');\n",
              "      buttonEl.style.display =\n",
              "        google.colab.kernel.accessAllowed ? 'block' : 'none';\n",
              "\n",
              "      async function convertToInteractive(key) {\n",
              "        const element = document.querySelector('#df-17320a9b-8d63-408c-a64a-a8fdd5967705');\n",
              "        const dataTable =\n",
              "          await google.colab.kernel.invokeFunction('convertToInteractive',\n",
              "                                                    [key], {});\n",
              "        if (!dataTable) return;\n",
              "\n",
              "        const docLinkHtml = 'Like what you see? Visit the ' +\n",
              "          '<a target=\"_blank\" href=https://colab.research.google.com/notebooks/data_table.ipynb>data table notebook</a>'\n",
              "          + ' to learn more about interactive tables.';\n",
              "        element.innerHTML = '';\n",
              "        dataTable['output_type'] = 'display_data';\n",
              "        await google.colab.output.renderOutput(dataTable, element);\n",
              "        const docLink = document.createElement('div');\n",
              "        docLink.innerHTML = docLinkHtml;\n",
              "        element.appendChild(docLink);\n",
              "      }\n",
              "    </script>\n",
              "  </div>\n",
              "\n",
              "\n",
              "<div id=\"df-1912f363-6426-4d7c-93ed-17df6947f7a3\">\n",
              "  <button class=\"colab-df-quickchart\" onclick=\"quickchart('df-1912f363-6426-4d7c-93ed-17df6947f7a3')\"\n",
              "            title=\"Suggest charts.\"\n",
              "            style=\"display:none;\">\n",
              "\n",
              "<svg xmlns=\"http://www.w3.org/2000/svg\" height=\"24px\"viewBox=\"0 0 24 24\"\n",
              "     width=\"24px\">\n",
              "    <g>\n",
              "        <path d=\"M19 3H5c-1.1 0-2 .9-2 2v14c0 1.1.9 2 2 2h14c1.1 0 2-.9 2-2V5c0-1.1-.9-2-2-2zM9 17H7v-7h2v7zm4 0h-2V7h2v10zm4 0h-2v-4h2v4z\"/>\n",
              "    </g>\n",
              "</svg>\n",
              "  </button>\n",
              "\n",
              "<style>\n",
              "  .colab-df-quickchart {\n",
              "      --bg-color: #E8F0FE;\n",
              "      --fill-color: #1967D2;\n",
              "      --hover-bg-color: #E2EBFA;\n",
              "      --hover-fill-color: #174EA6;\n",
              "      --disabled-fill-color: #AAA;\n",
              "      --disabled-bg-color: #DDD;\n",
              "  }\n",
              "\n",
              "  [theme=dark] .colab-df-quickchart {\n",
              "      --bg-color: #3B4455;\n",
              "      --fill-color: #D2E3FC;\n",
              "      --hover-bg-color: #434B5C;\n",
              "      --hover-fill-color: #FFFFFF;\n",
              "      --disabled-bg-color: #3B4455;\n",
              "      --disabled-fill-color: #666;\n",
              "  }\n",
              "\n",
              "  .colab-df-quickchart {\n",
              "    background-color: var(--bg-color);\n",
              "    border: none;\n",
              "    border-radius: 50%;\n",
              "    cursor: pointer;\n",
              "    display: none;\n",
              "    fill: var(--fill-color);\n",
              "    height: 32px;\n",
              "    padding: 0;\n",
              "    width: 32px;\n",
              "  }\n",
              "\n",
              "  .colab-df-quickchart:hover {\n",
              "    background-color: var(--hover-bg-color);\n",
              "    box-shadow: 0 1px 2px rgba(60, 64, 67, 0.3), 0 1px 3px 1px rgba(60, 64, 67, 0.15);\n",
              "    fill: var(--button-hover-fill-color);\n",
              "  }\n",
              "\n",
              "  .colab-df-quickchart-complete:disabled,\n",
              "  .colab-df-quickchart-complete:disabled:hover {\n",
              "    background-color: var(--disabled-bg-color);\n",
              "    fill: var(--disabled-fill-color);\n",
              "    box-shadow: none;\n",
              "  }\n",
              "\n",
              "  .colab-df-spinner {\n",
              "    border: 2px solid var(--fill-color);\n",
              "    border-color: transparent;\n",
              "    border-bottom-color: var(--fill-color);\n",
              "    animation:\n",
              "      spin 1s steps(1) infinite;\n",
              "  }\n",
              "\n",
              "  @keyframes spin {\n",
              "    0% {\n",
              "      border-color: transparent;\n",
              "      border-bottom-color: var(--fill-color);\n",
              "      border-left-color: var(--fill-color);\n",
              "    }\n",
              "    20% {\n",
              "      border-color: transparent;\n",
              "      border-left-color: var(--fill-color);\n",
              "      border-top-color: var(--fill-color);\n",
              "    }\n",
              "    30% {\n",
              "      border-color: transparent;\n",
              "      border-left-color: var(--fill-color);\n",
              "      border-top-color: var(--fill-color);\n",
              "      border-right-color: var(--fill-color);\n",
              "    }\n",
              "    40% {\n",
              "      border-color: transparent;\n",
              "      border-right-color: var(--fill-color);\n",
              "      border-top-color: var(--fill-color);\n",
              "    }\n",
              "    60% {\n",
              "      border-color: transparent;\n",
              "      border-right-color: var(--fill-color);\n",
              "    }\n",
              "    80% {\n",
              "      border-color: transparent;\n",
              "      border-right-color: var(--fill-color);\n",
              "      border-bottom-color: var(--fill-color);\n",
              "    }\n",
              "    90% {\n",
              "      border-color: transparent;\n",
              "      border-bottom-color: var(--fill-color);\n",
              "    }\n",
              "  }\n",
              "</style>\n",
              "\n",
              "  <script>\n",
              "    async function quickchart(key) {\n",
              "      const quickchartButtonEl =\n",
              "        document.querySelector('#' + key + ' button');\n",
              "      quickchartButtonEl.disabled = true;  // To prevent multiple clicks.\n",
              "      quickchartButtonEl.classList.add('colab-df-spinner');\n",
              "      try {\n",
              "        const charts = await google.colab.kernel.invokeFunction(\n",
              "            'suggestCharts', [key], {});\n",
              "      } catch (error) {\n",
              "        console.error('Error during call to suggestCharts:', error);\n",
              "      }\n",
              "      quickchartButtonEl.classList.remove('colab-df-spinner');\n",
              "      quickchartButtonEl.classList.add('colab-df-quickchart-complete');\n",
              "    }\n",
              "    (() => {\n",
              "      let quickchartButtonEl =\n",
              "        document.querySelector('#df-1912f363-6426-4d7c-93ed-17df6947f7a3 button');\n",
              "      quickchartButtonEl.style.display =\n",
              "        google.colab.kernel.accessAllowed ? 'block' : 'none';\n",
              "    })();\n",
              "  </script>\n",
              "</div>\n",
              "    </div>\n",
              "  </div>\n"
            ]
          },
          "metadata": {}
        }
      ]
    },
    {
      "cell_type": "markdown",
      "source": [
        "Initialise the functions"
      ],
      "metadata": {
        "id": "xwZSgcWmIFao"
      }
    },
    {
      "cell_type": "code",
      "source": [
        "\n",
        "from sklearn.feature_extraction.text import CountVectorizer\n",
        "from sklearn.feature_extraction.text import TfidfVectorizer\n",
        "\n",
        "\n",
        "#  unigram boolean vectorizer, set minimum document frequency to 5\n",
        "unigram_bool_vectorizer = CountVectorizer(encoding='latin-1', binary=True, min_df=5, stop_words='english')\n",
        "\n",
        "#  unigram term frequency vectorizer, set minimum document frequency to 5\n",
        "unigram_count_vectorizer = CountVectorizer(encoding='latin-1', binary=False, min_df=5,stop_words='english')\n",
        "\n",
        "#  unigram and bigram term frequency vectorizer, set minimum document frequency to 5\n",
        "gram12_count_vectorizer = CountVectorizer(encoding='latin-1', ngram_range=(1,2), min_df=5, stop_words='english')\n",
        "\n",
        "#  unigram tfidf vectorizer, set minimum document frequency to 5\n",
        "unigram_tfidf_vectorizer = TfidfVectorizer(encoding='latin-1', use_idf=True, min_df=5, stop_words='english')"
      ],
      "metadata": {
        "id": "L6EJ1-uhvJMO"
      },
      "execution_count": 11,
      "outputs": []
    },
    {
      "cell_type": "markdown",
      "source": [
        "Split train/test data"
      ],
      "metadata": {
        "id": "sbFTedSiybuc"
      }
    },
    {
      "cell_type": "code",
      "source": [],
      "metadata": {
        "id": "Hbh22VMIRSjP"
      },
      "execution_count": 11,
      "outputs": []
    },
    {
      "cell_type": "markdown",
      "source": [
        "#Task 1: Sentiment Classification"
      ],
      "metadata": {
        "id": "N_ZBKUzq4qT7"
      }
    },
    {
      "cell_type": "code",
      "source": [
        "X_sentiment = df['review']\n",
        "y_sentiment = df['sentiment']"
      ],
      "metadata": {
        "id": "MlZt4XPAJmbZ"
      },
      "execution_count": 12,
      "outputs": []
    },
    {
      "cell_type": "code",
      "source": [
        "# Split the data into training and testing sets\n",
        "X_train_sentiment, X_test_sentiment, y_train_sentiment, y_test_sentiment = train_test_split(X_sentiment, y_sentiment, test_size=0.3, random_state=42)\n"
      ],
      "metadata": {
        "id": "JHQYPMa_ydhG"
      },
      "execution_count": 13,
      "outputs": []
    },
    {
      "cell_type": "code",
      "source": [
        "X_sentiment_text = [' '.join(tokens) for tokens in X_sentiment]\n"
      ],
      "metadata": {
        "id": "J7UzeXAsZOwk"
      },
      "execution_count": 14,
      "outputs": []
    },
    {
      "cell_type": "code",
      "source": [
        "# Convert the tokenized text back into a single string for each document\n",
        "X_test_sentiment_text = [' '.join(tokens) for tokens in X_test_sentiment]"
      ],
      "metadata": {
        "id": "m2hCbYNoZO_u"
      },
      "execution_count": 15,
      "outputs": []
    },
    {
      "cell_type": "markdown",
      "source": [
        "#MNB: Unigram Term Freq Vectorizer"
      ],
      "metadata": {
        "id": "FSeYTsPx4VOU"
      }
    },
    {
      "cell_type": "markdown",
      "source": [
        "model building"
      ],
      "metadata": {
        "id": "GitXZBXaKPVi"
      }
    },
    {
      "cell_type": "code",
      "source": [
        "\n",
        "mnb_count_model = MultinomialNB()\n",
        "X_unigram_count = unigram_count_vectorizer.fit_transform(X_sentiment_text)  # Use X_sentiment_text as your text data\n",
        "mnb_count_model.fit(X_unigram_count, y_sentiment)"
      ],
      "metadata": {
        "colab": {
          "base_uri": "https://localhost:8080/",
          "height": 75
        },
        "id": "MvupPfAr4RVn",
        "outputId": "e0aae0e0-2d1d-4b01-b82d-52b400b40d81"
      },
      "execution_count": 16,
      "outputs": [
        {
          "output_type": "execute_result",
          "data": {
            "text/plain": [
              "MultinomialNB()"
            ],
            "text/html": [
              "<style>#sk-container-id-1 {color: black;background-color: white;}#sk-container-id-1 pre{padding: 0;}#sk-container-id-1 div.sk-toggleable {background-color: white;}#sk-container-id-1 label.sk-toggleable__label {cursor: pointer;display: block;width: 100%;margin-bottom: 0;padding: 0.3em;box-sizing: border-box;text-align: center;}#sk-container-id-1 label.sk-toggleable__label-arrow:before {content: \"▸\";float: left;margin-right: 0.25em;color: #696969;}#sk-container-id-1 label.sk-toggleable__label-arrow:hover:before {color: black;}#sk-container-id-1 div.sk-estimator:hover label.sk-toggleable__label-arrow:before {color: black;}#sk-container-id-1 div.sk-toggleable__content {max-height: 0;max-width: 0;overflow: hidden;text-align: left;background-color: #f0f8ff;}#sk-container-id-1 div.sk-toggleable__content pre {margin: 0.2em;color: black;border-radius: 0.25em;background-color: #f0f8ff;}#sk-container-id-1 input.sk-toggleable__control:checked~div.sk-toggleable__content {max-height: 200px;max-width: 100%;overflow: auto;}#sk-container-id-1 input.sk-toggleable__control:checked~label.sk-toggleable__label-arrow:before {content: \"▾\";}#sk-container-id-1 div.sk-estimator input.sk-toggleable__control:checked~label.sk-toggleable__label {background-color: #d4ebff;}#sk-container-id-1 div.sk-label input.sk-toggleable__control:checked~label.sk-toggleable__label {background-color: #d4ebff;}#sk-container-id-1 input.sk-hidden--visually {border: 0;clip: rect(1px 1px 1px 1px);clip: rect(1px, 1px, 1px, 1px);height: 1px;margin: -1px;overflow: hidden;padding: 0;position: absolute;width: 1px;}#sk-container-id-1 div.sk-estimator {font-family: monospace;background-color: #f0f8ff;border: 1px dotted black;border-radius: 0.25em;box-sizing: border-box;margin-bottom: 0.5em;}#sk-container-id-1 div.sk-estimator:hover {background-color: #d4ebff;}#sk-container-id-1 div.sk-parallel-item::after {content: \"\";width: 100%;border-bottom: 1px solid gray;flex-grow: 1;}#sk-container-id-1 div.sk-label:hover label.sk-toggleable__label {background-color: #d4ebff;}#sk-container-id-1 div.sk-serial::before {content: \"\";position: absolute;border-left: 1px solid gray;box-sizing: border-box;top: 0;bottom: 0;left: 50%;z-index: 0;}#sk-container-id-1 div.sk-serial {display: flex;flex-direction: column;align-items: center;background-color: white;padding-right: 0.2em;padding-left: 0.2em;position: relative;}#sk-container-id-1 div.sk-item {position: relative;z-index: 1;}#sk-container-id-1 div.sk-parallel {display: flex;align-items: stretch;justify-content: center;background-color: white;position: relative;}#sk-container-id-1 div.sk-item::before, #sk-container-id-1 div.sk-parallel-item::before {content: \"\";position: absolute;border-left: 1px solid gray;box-sizing: border-box;top: 0;bottom: 0;left: 50%;z-index: -1;}#sk-container-id-1 div.sk-parallel-item {display: flex;flex-direction: column;z-index: 1;position: relative;background-color: white;}#sk-container-id-1 div.sk-parallel-item:first-child::after {align-self: flex-end;width: 50%;}#sk-container-id-1 div.sk-parallel-item:last-child::after {align-self: flex-start;width: 50%;}#sk-container-id-1 div.sk-parallel-item:only-child::after {width: 0;}#sk-container-id-1 div.sk-dashed-wrapped {border: 1px dashed gray;margin: 0 0.4em 0.5em 0.4em;box-sizing: border-box;padding-bottom: 0.4em;background-color: white;}#sk-container-id-1 div.sk-label label {font-family: monospace;font-weight: bold;display: inline-block;line-height: 1.2em;}#sk-container-id-1 div.sk-label-container {text-align: center;}#sk-container-id-1 div.sk-container {/* jupyter's `normalize.less` sets `[hidden] { display: none; }` but bootstrap.min.css set `[hidden] { display: none !important; }` so we also need the `!important` here to be able to override the default hidden behavior on the sphinx rendered scikit-learn.org. See: https://github.com/scikit-learn/scikit-learn/issues/21755 */display: inline-block !important;position: relative;}#sk-container-id-1 div.sk-text-repr-fallback {display: none;}</style><div id=\"sk-container-id-1\" class=\"sk-top-container\"><div class=\"sk-text-repr-fallback\"><pre>MultinomialNB()</pre><b>In a Jupyter environment, please rerun this cell to show the HTML representation or trust the notebook. <br />On GitHub, the HTML representation is unable to render, please try loading this page with nbviewer.org.</b></div><div class=\"sk-container\" hidden><div class=\"sk-item\"><div class=\"sk-estimator sk-toggleable\"><input class=\"sk-toggleable__control sk-hidden--visually\" id=\"sk-estimator-id-1\" type=\"checkbox\" checked><label for=\"sk-estimator-id-1\" class=\"sk-toggleable__label sk-toggleable__label-arrow\">MultinomialNB</label><div class=\"sk-toggleable__content\"><pre>MultinomialNB()</pre></div></div></div></div></div>"
            ]
          },
          "metadata": {},
          "execution_count": 16
        }
      ]
    },
    {
      "cell_type": "markdown",
      "source": [
        "Evaluate model using 5 fold cross validation method"
      ],
      "metadata": {
        "id": "RZnV2RE1J_SF"
      }
    },
    {
      "cell_type": "code",
      "source": [
        "# Import necessary libraries\n",
        "from sklearn.metrics import accuracy_score, confusion_matrix, precision_score, recall_score, classification_report\n",
        "\n",
        "# Transform the test data using the same unigram count vectorizer\n",
        "X_test_vec_count = unigram_count_vectorizer.transform(X_test_sentiment_text)\n",
        "\n",
        "# Make predictions using the trained MNB unigram count model\n",
        "y_pred_count = mnb_count_model.predict(X_test_vec_count)\n",
        "\n",
        "# Calculate and print the accuracy score\n",
        "accuracy_count = accuracy_score(y_test_sentiment, y_pred_count)\n",
        "print(\"Accuracy Score:\", accuracy_count)\n",
        "\n",
        "# Calculate and print the confusion matrix\n",
        "cm_count = confusion_matrix(y_test_sentiment, y_pred_count, labels=['n', 'p'])\n",
        "print(\"Confusion Matrix:\")\n",
        "print(cm_count)\n",
        "\n",
        "# Calculate and print precision and recall for each class\n",
        "precision_count = precision_score(y_test_sentiment, y_pred_count, average=None, labels=['n', 'p'])\n",
        "recall_count = recall_score(y_test_sentiment, y_pred_count, average=None, labels=['n', 'p'])\n",
        "\n",
        "\n",
        "# Generate and print a classification report\n",
        "target_names_count = ['n', 'p']\n",
        "class_report_count = classification_report(y_test_sentiment, y_pred_count, target_names=target_names_count)\n",
        "print(\"Classification Report:\")\n",
        "print(class_report_count)\n"
      ],
      "metadata": {
        "colab": {
          "base_uri": "https://localhost:8080/"
        },
        "id": "Rql-16IYY6QZ",
        "outputId": "a6de3eb2-eabb-4350-f6af-751bd0ff0766"
      },
      "execution_count": 17,
      "outputs": [
        {
          "output_type": "stream",
          "name": "stdout",
          "text": [
            "Accuracy Score: 0.8571428571428571\n",
            "Confusion Matrix:\n",
            "[[13  3]\n",
            " [ 1 11]]\n",
            "Classification Report:\n",
            "              precision    recall  f1-score   support\n",
            "\n",
            "           n       0.93      0.81      0.87        16\n",
            "           p       0.79      0.92      0.85        12\n",
            "\n",
            "    accuracy                           0.86        28\n",
            "   macro avg       0.86      0.86      0.86        28\n",
            "weighted avg       0.87      0.86      0.86        28\n",
            "\n"
          ]
        }
      ]
    },
    {
      "cell_type": "markdown",
      "source": [
        "###Feature Analysis"
      ],
      "metadata": {
        "id": "4wqQj91lKV6X"
      }
    },
    {
      "cell_type": "code",
      "source": [
        "# Get the feature log probabilities for MNB\n",
        "feature_log_probs_sentiment = mnb_count_model.feature_log_prob_\n",
        "features = unigram_count_vectorizer.get_feature_names_out()\n",
        "\n",
        "# Calculate the log ratios between positive and negative sentiment\n",
        "log_ratios = [vpos - vneg for vpos, vneg in zip(feature_log_probs_sentiment[1], feature_log_probs_sentiment[0])]\n",
        "\n",
        "# Find the top N words for negative and positive sentiment\n",
        "topN = 10\n",
        "words_with_ratios = sorted(zip(log_ratios, features), reverse=True)\n",
        "\n",
        "# Print the top negative and positive words\n",
        "for label, words in [(\"Negative\", words_with_ratios[-topN:]), (\"Positive\", words_with_ratios[:topN])]:\n",
        "    print(f\"\\nTop {topN} {label} Words:\")\n",
        "    for key, value in words:\n",
        "        print(f'{key:<30} | {value}')\n"
      ],
      "metadata": {
        "colab": {
          "base_uri": "https://localhost:8080/"
        },
        "outputId": "c541a069-9d6a-4fef-9fed-551e2b58a224",
        "id": "FEkCSYaziVZA"
      },
      "execution_count": 18,
      "outputs": [
        {
          "output_type": "stream",
          "name": "stdout",
          "text": [
            "\n",
            "Top 10 Negative Words:\n",
            "-1.6184877479540187            | bland\n",
            "-1.6985304556275551            | came\n",
            "-1.7726384277812768            | drink\n",
            "-1.8191584434161694            | minute\n",
            "-1.9061698204057986            | said\n",
            "-2.0239528560621824            | worst\n",
            "-2.1293133717200092            | come\n",
            "-2.1293133717200092            | asked\n",
            "-2.311634928513964             | took\n",
            "-2.3916776361875005            | terrible\n",
            "\n",
            "Top 10 Positive Words:\n",
            "2.8813219223762467             | amazing\n",
            "2.15427319014062               | best\n",
            "2.11918187032935               | love\n",
            "1.7827096337081372             | friendly\n",
            "1.6548762621982522             | great\n",
            "1.3772445255999726             | nice\n",
            "1.3772445255999726             | delicious\n",
            "1.2718840099421467             | sauce\n",
            "1.2718840099421458             | right\n",
            "1.2718840099421458             | make\n"
          ]
        }
      ]
    },
    {
      "cell_type": "markdown",
      "source": [
        "###Error Analysis"
      ],
      "metadata": {
        "id": "7wW54gk3KYzk"
      }
    },
    {
      "cell_type": "code",
      "source": [
        "# Create a DataFrame to store the actual labels, predicted labels, and corresponding texts\n",
        "error_analysis_df = pd.DataFrame({'Actual': y_test_sentiment, 'Predicted': y_pred_count, 'Text': X_test_sentiment_text})\n",
        "\n",
        "# Filter the DataFrame to show only instances where the prediction was incorrect\n",
        "incorrect_predictions = error_analysis_df[error_analysis_df['Actual'] != error_analysis_df['Predicted']]\n",
        "\n",
        "# Increase the maximum width of displayed columns in pandas\n",
        "pd.set_option('display.max_colwidth', 100)\n",
        "\n",
        "# Display all available incorrect predictions for further analysis\n",
        "print(f\"All Incorrect Predictions ({len(incorrect_predictions)} instances):\")\n",
        "display(incorrect_predictions[['Actual', 'Predicted', 'Text']])\n"
      ],
      "metadata": {
        "colab": {
          "base_uri": "https://localhost:8080/",
          "height": 245
        },
        "id": "O1xKCAFv5qBC",
        "outputId": "27d187ca-9ed7-4b75-952c-8d5c2935612e"
      },
      "execution_count": 19,
      "outputs": [
        {
          "output_type": "stream",
          "name": "stdout",
          "text": [
            "All Incorrect Predictions (4 instances):\n"
          ]
        },
        {
          "output_type": "display_data",
          "data": {
            "text/plain": [
              "   Actual Predicted  \\\n",
              "0       n         p   \n",
              "83      p         n   \n",
              "33      n         p   \n",
              "11      n         p   \n",
              "\n",
              "                                                                                                   Text  \n",
              "0   pizza high point ny service slow quality low would think would know least make good pizza stick ...  \n",
              "83                                                                                                       \n",
              "33  place used great believe current state instead cool lounge used cheap smelly bar music soul bart...  \n",
              "11  went chipotle marshall street dinner experience horrible began order found steak chicken want st...  "
            ],
            "text/html": [
              "\n",
              "  <div id=\"df-f58ccfcc-e473-4a18-949a-eb13e22b2aae\" class=\"colab-df-container\">\n",
              "    <div>\n",
              "<style scoped>\n",
              "    .dataframe tbody tr th:only-of-type {\n",
              "        vertical-align: middle;\n",
              "    }\n",
              "\n",
              "    .dataframe tbody tr th {\n",
              "        vertical-align: top;\n",
              "    }\n",
              "\n",
              "    .dataframe thead th {\n",
              "        text-align: right;\n",
              "    }\n",
              "</style>\n",
              "<table border=\"1\" class=\"dataframe\">\n",
              "  <thead>\n",
              "    <tr style=\"text-align: right;\">\n",
              "      <th></th>\n",
              "      <th>Actual</th>\n",
              "      <th>Predicted</th>\n",
              "      <th>Text</th>\n",
              "    </tr>\n",
              "  </thead>\n",
              "  <tbody>\n",
              "    <tr>\n",
              "      <th>0</th>\n",
              "      <td>n</td>\n",
              "      <td>p</td>\n",
              "      <td>pizza high point ny service slow quality low would think would know least make good pizza stick ...</td>\n",
              "    </tr>\n",
              "    <tr>\n",
              "      <th>83</th>\n",
              "      <td>p</td>\n",
              "      <td>n</td>\n",
              "      <td></td>\n",
              "    </tr>\n",
              "    <tr>\n",
              "      <th>33</th>\n",
              "      <td>n</td>\n",
              "      <td>p</td>\n",
              "      <td>place used great believe current state instead cool lounge used cheap smelly bar music soul bart...</td>\n",
              "    </tr>\n",
              "    <tr>\n",
              "      <th>11</th>\n",
              "      <td>n</td>\n",
              "      <td>p</td>\n",
              "      <td>went chipotle marshall street dinner experience horrible began order found steak chicken want st...</td>\n",
              "    </tr>\n",
              "  </tbody>\n",
              "</table>\n",
              "</div>\n",
              "    <div class=\"colab-df-buttons\">\n",
              "\n",
              "  <div class=\"colab-df-container\">\n",
              "    <button class=\"colab-df-convert\" onclick=\"convertToInteractive('df-f58ccfcc-e473-4a18-949a-eb13e22b2aae')\"\n",
              "            title=\"Convert this dataframe to an interactive table.\"\n",
              "            style=\"display:none;\">\n",
              "\n",
              "  <svg xmlns=\"http://www.w3.org/2000/svg\" height=\"24px\" viewBox=\"0 -960 960 960\">\n",
              "    <path d=\"M120-120v-720h720v720H120Zm60-500h600v-160H180v160Zm220 220h160v-160H400v160Zm0 220h160v-160H400v160ZM180-400h160v-160H180v160Zm440 0h160v-160H620v160ZM180-180h160v-160H180v160Zm440 0h160v-160H620v160Z\"/>\n",
              "  </svg>\n",
              "    </button>\n",
              "\n",
              "  <style>\n",
              "    .colab-df-container {\n",
              "      display:flex;\n",
              "      gap: 12px;\n",
              "    }\n",
              "\n",
              "    .colab-df-convert {\n",
              "      background-color: #E8F0FE;\n",
              "      border: none;\n",
              "      border-radius: 50%;\n",
              "      cursor: pointer;\n",
              "      display: none;\n",
              "      fill: #1967D2;\n",
              "      height: 32px;\n",
              "      padding: 0 0 0 0;\n",
              "      width: 32px;\n",
              "    }\n",
              "\n",
              "    .colab-df-convert:hover {\n",
              "      background-color: #E2EBFA;\n",
              "      box-shadow: 0px 1px 2px rgba(60, 64, 67, 0.3), 0px 1px 3px 1px rgba(60, 64, 67, 0.15);\n",
              "      fill: #174EA6;\n",
              "    }\n",
              "\n",
              "    .colab-df-buttons div {\n",
              "      margin-bottom: 4px;\n",
              "    }\n",
              "\n",
              "    [theme=dark] .colab-df-convert {\n",
              "      background-color: #3B4455;\n",
              "      fill: #D2E3FC;\n",
              "    }\n",
              "\n",
              "    [theme=dark] .colab-df-convert:hover {\n",
              "      background-color: #434B5C;\n",
              "      box-shadow: 0px 1px 3px 1px rgba(0, 0, 0, 0.15);\n",
              "      filter: drop-shadow(0px 1px 2px rgba(0, 0, 0, 0.3));\n",
              "      fill: #FFFFFF;\n",
              "    }\n",
              "  </style>\n",
              "\n",
              "    <script>\n",
              "      const buttonEl =\n",
              "        document.querySelector('#df-f58ccfcc-e473-4a18-949a-eb13e22b2aae button.colab-df-convert');\n",
              "      buttonEl.style.display =\n",
              "        google.colab.kernel.accessAllowed ? 'block' : 'none';\n",
              "\n",
              "      async function convertToInteractive(key) {\n",
              "        const element = document.querySelector('#df-f58ccfcc-e473-4a18-949a-eb13e22b2aae');\n",
              "        const dataTable =\n",
              "          await google.colab.kernel.invokeFunction('convertToInteractive',\n",
              "                                                    [key], {});\n",
              "        if (!dataTable) return;\n",
              "\n",
              "        const docLinkHtml = 'Like what you see? Visit the ' +\n",
              "          '<a target=\"_blank\" href=https://colab.research.google.com/notebooks/data_table.ipynb>data table notebook</a>'\n",
              "          + ' to learn more about interactive tables.';\n",
              "        element.innerHTML = '';\n",
              "        dataTable['output_type'] = 'display_data';\n",
              "        await google.colab.output.renderOutput(dataTable, element);\n",
              "        const docLink = document.createElement('div');\n",
              "        docLink.innerHTML = docLinkHtml;\n",
              "        element.appendChild(docLink);\n",
              "      }\n",
              "    </script>\n",
              "  </div>\n",
              "\n",
              "\n",
              "<div id=\"df-ad17625d-37f7-470d-8344-fac822a49544\">\n",
              "  <button class=\"colab-df-quickchart\" onclick=\"quickchart('df-ad17625d-37f7-470d-8344-fac822a49544')\"\n",
              "            title=\"Suggest charts.\"\n",
              "            style=\"display:none;\">\n",
              "\n",
              "<svg xmlns=\"http://www.w3.org/2000/svg\" height=\"24px\"viewBox=\"0 0 24 24\"\n",
              "     width=\"24px\">\n",
              "    <g>\n",
              "        <path d=\"M19 3H5c-1.1 0-2 .9-2 2v14c0 1.1.9 2 2 2h14c1.1 0 2-.9 2-2V5c0-1.1-.9-2-2-2zM9 17H7v-7h2v7zm4 0h-2V7h2v10zm4 0h-2v-4h2v4z\"/>\n",
              "    </g>\n",
              "</svg>\n",
              "  </button>\n",
              "\n",
              "<style>\n",
              "  .colab-df-quickchart {\n",
              "      --bg-color: #E8F0FE;\n",
              "      --fill-color: #1967D2;\n",
              "      --hover-bg-color: #E2EBFA;\n",
              "      --hover-fill-color: #174EA6;\n",
              "      --disabled-fill-color: #AAA;\n",
              "      --disabled-bg-color: #DDD;\n",
              "  }\n",
              "\n",
              "  [theme=dark] .colab-df-quickchart {\n",
              "      --bg-color: #3B4455;\n",
              "      --fill-color: #D2E3FC;\n",
              "      --hover-bg-color: #434B5C;\n",
              "      --hover-fill-color: #FFFFFF;\n",
              "      --disabled-bg-color: #3B4455;\n",
              "      --disabled-fill-color: #666;\n",
              "  }\n",
              "\n",
              "  .colab-df-quickchart {\n",
              "    background-color: var(--bg-color);\n",
              "    border: none;\n",
              "    border-radius: 50%;\n",
              "    cursor: pointer;\n",
              "    display: none;\n",
              "    fill: var(--fill-color);\n",
              "    height: 32px;\n",
              "    padding: 0;\n",
              "    width: 32px;\n",
              "  }\n",
              "\n",
              "  .colab-df-quickchart:hover {\n",
              "    background-color: var(--hover-bg-color);\n",
              "    box-shadow: 0 1px 2px rgba(60, 64, 67, 0.3), 0 1px 3px 1px rgba(60, 64, 67, 0.15);\n",
              "    fill: var(--button-hover-fill-color);\n",
              "  }\n",
              "\n",
              "  .colab-df-quickchart-complete:disabled,\n",
              "  .colab-df-quickchart-complete:disabled:hover {\n",
              "    background-color: var(--disabled-bg-color);\n",
              "    fill: var(--disabled-fill-color);\n",
              "    box-shadow: none;\n",
              "  }\n",
              "\n",
              "  .colab-df-spinner {\n",
              "    border: 2px solid var(--fill-color);\n",
              "    border-color: transparent;\n",
              "    border-bottom-color: var(--fill-color);\n",
              "    animation:\n",
              "      spin 1s steps(1) infinite;\n",
              "  }\n",
              "\n",
              "  @keyframes spin {\n",
              "    0% {\n",
              "      border-color: transparent;\n",
              "      border-bottom-color: var(--fill-color);\n",
              "      border-left-color: var(--fill-color);\n",
              "    }\n",
              "    20% {\n",
              "      border-color: transparent;\n",
              "      border-left-color: var(--fill-color);\n",
              "      border-top-color: var(--fill-color);\n",
              "    }\n",
              "    30% {\n",
              "      border-color: transparent;\n",
              "      border-left-color: var(--fill-color);\n",
              "      border-top-color: var(--fill-color);\n",
              "      border-right-color: var(--fill-color);\n",
              "    }\n",
              "    40% {\n",
              "      border-color: transparent;\n",
              "      border-right-color: var(--fill-color);\n",
              "      border-top-color: var(--fill-color);\n",
              "    }\n",
              "    60% {\n",
              "      border-color: transparent;\n",
              "      border-right-color: var(--fill-color);\n",
              "    }\n",
              "    80% {\n",
              "      border-color: transparent;\n",
              "      border-right-color: var(--fill-color);\n",
              "      border-bottom-color: var(--fill-color);\n",
              "    }\n",
              "    90% {\n",
              "      border-color: transparent;\n",
              "      border-bottom-color: var(--fill-color);\n",
              "    }\n",
              "  }\n",
              "</style>\n",
              "\n",
              "  <script>\n",
              "    async function quickchart(key) {\n",
              "      const quickchartButtonEl =\n",
              "        document.querySelector('#' + key + ' button');\n",
              "      quickchartButtonEl.disabled = true;  // To prevent multiple clicks.\n",
              "      quickchartButtonEl.classList.add('colab-df-spinner');\n",
              "      try {\n",
              "        const charts = await google.colab.kernel.invokeFunction(\n",
              "            'suggestCharts', [key], {});\n",
              "      } catch (error) {\n",
              "        console.error('Error during call to suggestCharts:', error);\n",
              "      }\n",
              "      quickchartButtonEl.classList.remove('colab-df-spinner');\n",
              "      quickchartButtonEl.classList.add('colab-df-quickchart-complete');\n",
              "    }\n",
              "    (() => {\n",
              "      let quickchartButtonEl =\n",
              "        document.querySelector('#df-ad17625d-37f7-470d-8344-fac822a49544 button');\n",
              "      quickchartButtonEl.style.display =\n",
              "        google.colab.kernel.accessAllowed ? 'block' : 'none';\n",
              "    })();\n",
              "  </script>\n",
              "</div>\n",
              "    </div>\n",
              "  </div>\n"
            ]
          },
          "metadata": {}
        }
      ]
    },
    {
      "cell_type": "markdown",
      "source": [
        "#MNB: Unigram and Bigram Term Frequency Vectorizer"
      ],
      "metadata": {
        "id": "vtBwyzPR4r4H"
      }
    },
    {
      "cell_type": "code",
      "source": [
        "from sklearn.naive_bayes import MultinomialNB\n",
        "\n",
        "# Create an MNB model with unigram and bigram term frequency vectorizer\n",
        "mnb_gram12_model = MultinomialNB()\n",
        "X_gram12_count = gram12_count_vectorizer.fit_transform(X_sentiment_text)  # Use X_sentiment as your text data\n",
        "mnb_gram12_model.fit(X_gram12_count, y_sentiment)\n"
      ],
      "metadata": {
        "colab": {
          "base_uri": "https://localhost:8080/",
          "height": 75
        },
        "id": "Ct6m0Doa4o_I",
        "outputId": "66c1cc0b-8cad-48fd-a1fb-9c24b72147fa"
      },
      "execution_count": 20,
      "outputs": [
        {
          "output_type": "execute_result",
          "data": {
            "text/plain": [
              "MultinomialNB()"
            ],
            "text/html": [
              "<style>#sk-container-id-2 {color: black;background-color: white;}#sk-container-id-2 pre{padding: 0;}#sk-container-id-2 div.sk-toggleable {background-color: white;}#sk-container-id-2 label.sk-toggleable__label {cursor: pointer;display: block;width: 100%;margin-bottom: 0;padding: 0.3em;box-sizing: border-box;text-align: center;}#sk-container-id-2 label.sk-toggleable__label-arrow:before {content: \"▸\";float: left;margin-right: 0.25em;color: #696969;}#sk-container-id-2 label.sk-toggleable__label-arrow:hover:before {color: black;}#sk-container-id-2 div.sk-estimator:hover label.sk-toggleable__label-arrow:before {color: black;}#sk-container-id-2 div.sk-toggleable__content {max-height: 0;max-width: 0;overflow: hidden;text-align: left;background-color: #f0f8ff;}#sk-container-id-2 div.sk-toggleable__content pre {margin: 0.2em;color: black;border-radius: 0.25em;background-color: #f0f8ff;}#sk-container-id-2 input.sk-toggleable__control:checked~div.sk-toggleable__content {max-height: 200px;max-width: 100%;overflow: auto;}#sk-container-id-2 input.sk-toggleable__control:checked~label.sk-toggleable__label-arrow:before {content: \"▾\";}#sk-container-id-2 div.sk-estimator input.sk-toggleable__control:checked~label.sk-toggleable__label {background-color: #d4ebff;}#sk-container-id-2 div.sk-label input.sk-toggleable__control:checked~label.sk-toggleable__label {background-color: #d4ebff;}#sk-container-id-2 input.sk-hidden--visually {border: 0;clip: rect(1px 1px 1px 1px);clip: rect(1px, 1px, 1px, 1px);height: 1px;margin: -1px;overflow: hidden;padding: 0;position: absolute;width: 1px;}#sk-container-id-2 div.sk-estimator {font-family: monospace;background-color: #f0f8ff;border: 1px dotted black;border-radius: 0.25em;box-sizing: border-box;margin-bottom: 0.5em;}#sk-container-id-2 div.sk-estimator:hover {background-color: #d4ebff;}#sk-container-id-2 div.sk-parallel-item::after {content: \"\";width: 100%;border-bottom: 1px solid gray;flex-grow: 1;}#sk-container-id-2 div.sk-label:hover label.sk-toggleable__label {background-color: #d4ebff;}#sk-container-id-2 div.sk-serial::before {content: \"\";position: absolute;border-left: 1px solid gray;box-sizing: border-box;top: 0;bottom: 0;left: 50%;z-index: 0;}#sk-container-id-2 div.sk-serial {display: flex;flex-direction: column;align-items: center;background-color: white;padding-right: 0.2em;padding-left: 0.2em;position: relative;}#sk-container-id-2 div.sk-item {position: relative;z-index: 1;}#sk-container-id-2 div.sk-parallel {display: flex;align-items: stretch;justify-content: center;background-color: white;position: relative;}#sk-container-id-2 div.sk-item::before, #sk-container-id-2 div.sk-parallel-item::before {content: \"\";position: absolute;border-left: 1px solid gray;box-sizing: border-box;top: 0;bottom: 0;left: 50%;z-index: -1;}#sk-container-id-2 div.sk-parallel-item {display: flex;flex-direction: column;z-index: 1;position: relative;background-color: white;}#sk-container-id-2 div.sk-parallel-item:first-child::after {align-self: flex-end;width: 50%;}#sk-container-id-2 div.sk-parallel-item:last-child::after {align-self: flex-start;width: 50%;}#sk-container-id-2 div.sk-parallel-item:only-child::after {width: 0;}#sk-container-id-2 div.sk-dashed-wrapped {border: 1px dashed gray;margin: 0 0.4em 0.5em 0.4em;box-sizing: border-box;padding-bottom: 0.4em;background-color: white;}#sk-container-id-2 div.sk-label label {font-family: monospace;font-weight: bold;display: inline-block;line-height: 1.2em;}#sk-container-id-2 div.sk-label-container {text-align: center;}#sk-container-id-2 div.sk-container {/* jupyter's `normalize.less` sets `[hidden] { display: none; }` but bootstrap.min.css set `[hidden] { display: none !important; }` so we also need the `!important` here to be able to override the default hidden behavior on the sphinx rendered scikit-learn.org. See: https://github.com/scikit-learn/scikit-learn/issues/21755 */display: inline-block !important;position: relative;}#sk-container-id-2 div.sk-text-repr-fallback {display: none;}</style><div id=\"sk-container-id-2\" class=\"sk-top-container\"><div class=\"sk-text-repr-fallback\"><pre>MultinomialNB()</pre><b>In a Jupyter environment, please rerun this cell to show the HTML representation or trust the notebook. <br />On GitHub, the HTML representation is unable to render, please try loading this page with nbviewer.org.</b></div><div class=\"sk-container\" hidden><div class=\"sk-item\"><div class=\"sk-estimator sk-toggleable\"><input class=\"sk-toggleable__control sk-hidden--visually\" id=\"sk-estimator-id-2\" type=\"checkbox\" checked><label for=\"sk-estimator-id-2\" class=\"sk-toggleable__label sk-toggleable__label-arrow\">MultinomialNB</label><div class=\"sk-toggleable__content\"><pre>MultinomialNB()</pre></div></div></div></div></div>"
            ]
          },
          "metadata": {},
          "execution_count": 20
        }
      ]
    },
    {
      "cell_type": "code",
      "source": [
        "# Import necessary libraries\n",
        "from sklearn.metrics import accuracy_score, confusion_matrix, precision_score, recall_score, classification_report\n",
        "\n",
        "# Transform the test data using the same unigram and bigram count vectorizer\n",
        "X_test_vec_gram12 = gram12_count_vectorizer.transform(X_test_sentiment_text)\n",
        "\n",
        "# Make predictions using the trained MNB unigram and bigram count model\n",
        "y_pred_gram12 = mnb_gram12_model.predict(X_test_vec_gram12)\n",
        "\n",
        "# Calculate and print the accuracy score\n",
        "accuracy_gram12 = accuracy_score(y_test_sentiment, y_pred_gram12)\n",
        "print(\"Accuracy Score:\", accuracy_gram12)\n",
        "\n",
        "# Calculate and print the confusion matrix\n",
        "cm_gram12 = confusion_matrix(y_test_sentiment, y_pred_gram12, labels=['n', 'p'])\n",
        "print(\"Confusion Matrix:\")\n",
        "print(cm_gram12)\n",
        "\n",
        "# Calculate and print precision and recall for each class\n",
        "precision_gram12 = precision_score(y_test_sentiment, y_pred_gram12, average=None, labels=['n', 'p'])\n",
        "recall_gram12 = recall_score(y_test_sentiment, y_pred_gram12, average=None, labels=['n', 'p'])\n",
        "\n",
        "\n",
        "# Generate and print a classification report\n",
        "target_names_gram12 = ['n', 'p']\n",
        "class_report_gram12 = classification_report(y_test_sentiment, y_pred_gram12, target_names=target_names_gram12)\n",
        "print(\"Classification Report:\")\n",
        "print(class_report_gram12)\n"
      ],
      "metadata": {
        "colab": {
          "base_uri": "https://localhost:8080/"
        },
        "id": "wktFE0otaf2q",
        "outputId": "d6c38270-9984-4bc7-8d8f-78aee3bc6261"
      },
      "execution_count": 21,
      "outputs": [
        {
          "output_type": "stream",
          "name": "stdout",
          "text": [
            "Accuracy Score: 0.8571428571428571\n",
            "Confusion Matrix:\n",
            "[[13  3]\n",
            " [ 1 11]]\n",
            "Classification Report:\n",
            "              precision    recall  f1-score   support\n",
            "\n",
            "           n       0.93      0.81      0.87        16\n",
            "           p       0.79      0.92      0.85        12\n",
            "\n",
            "    accuracy                           0.86        28\n",
            "   macro avg       0.86      0.86      0.86        28\n",
            "weighted avg       0.87      0.86      0.86        28\n",
            "\n"
          ]
        }
      ]
    },
    {
      "cell_type": "markdown",
      "source": [
        "###Feature Analysis"
      ],
      "metadata": {
        "id": "G3A3rWswKf5V"
      }
    },
    {
      "cell_type": "code",
      "source": [
        "# Get the feature log probabilities for MNB\n",
        "feature_log_probs_sentiment = mnb_gram12_model.feature_log_prob_\n",
        "features = gram12_count_vectorizer.get_feature_names_out()\n",
        "\n",
        "# Calculate the log ratios between positive and negative sentiment\n",
        "log_ratios = [vpos - vneg for vpos, vneg in zip(feature_log_probs_sentiment[1], feature_log_probs_sentiment[0])]\n",
        "\n",
        "# Find the top N words for negative and positive sentiment\n",
        "topN = 10\n",
        "words_with_ratios = sorted(zip(log_ratios, features), reverse=True)\n",
        "\n",
        "# Print the top negative and positive words\n",
        "for label, words in [(\"Negative\", words_with_ratios[-topN:]), (\"Positive\", words_with_ratios[:topN])]:\n",
        "    print(f\"\\nTop {topN} {label} Words:\")\n",
        "    for key, value in words:\n",
        "        print(f'{key:<30} | {value}')\n"
      ],
      "metadata": {
        "colab": {
          "base_uri": "https://localhost:8080/"
        },
        "id": "yBEFJPpVibgC",
        "outputId": "1c064aaf-80bc-4f6f-8652-4e6b3ff536ac"
      },
      "execution_count": 22,
      "outputs": [
        {
          "output_type": "stream",
          "name": "stdout",
          "text": [
            "\n",
            "Top 10 Negative Words:\n",
            "-1.6188930712048561            | bland\n",
            "-1.6989357788783925            | came\n",
            "-1.7730437510321142            | drink\n",
            "-1.8195637666670068            | minute\n",
            "-1.906575143656636             | said\n",
            "-2.02435817931302              | worst\n",
            "-2.1297186949708466            | come\n",
            "-2.1297186949708466            | asked\n",
            "-2.3120402517648015            | took\n",
            "-2.392082959438338             | terrible\n",
            "\n",
            "Top 10 Positive Words:\n",
            "2.8809165991254093             | amazing\n",
            "2.1538678668897826             | best\n",
            "2.1187765470785127             | love\n",
            "1.7823043104572998             | friendly\n",
            "1.6544709389474148             | great\n",
            "1.3768392023491351             | nice\n",
            "1.3768392023491351             | delicious\n",
            "1.2714786866913093             | right\n",
            "1.2714786866913093             | make\n",
            "1.2714786866913093             | fresh\n"
          ]
        }
      ]
    },
    {
      "cell_type": "markdown",
      "source": [
        "###Error Analysis"
      ],
      "metadata": {
        "id": "tjRMzqyWKf5V"
      }
    },
    {
      "cell_type": "code",
      "source": [
        "# Create a DataFrame to store the actual labels, predicted labels, and corresponding texts\n",
        "error_analysis_df_gram12 = pd.DataFrame({'Actual': y_test_sentiment, 'Predicted': y_pred_gram12, 'Text': X_test_sentiment_text})\n",
        "\n",
        "# Filter the DataFrame to show only instances where the prediction was incorrect\n",
        "incorrect_predictions_gram12 = error_analysis_df_gram12[error_analysis_df_gram12['Actual'] != error_analysis_df_gram12['Predicted']]\n",
        "\n",
        "# Increase the maximum width of displayed columns in pandas\n",
        "pd.set_option('display.max_colwidth', 100)\n",
        "\n",
        "# Display all available incorrect predictions for further analysis\n",
        "print(f\"All Incorrect Predictions ({len(incorrect_predictions_gram12)} instances):\")\n",
        "display(incorrect_predictions_gram12[['Actual', 'Predicted', 'Text']])\n"
      ],
      "metadata": {
        "colab": {
          "base_uri": "https://localhost:8080/",
          "height": 245
        },
        "id": "DBDOgCZo9td7",
        "outputId": "fc4bf8d5-fa3b-4b0e-f8b2-fe0fad462aa7"
      },
      "execution_count": 23,
      "outputs": [
        {
          "output_type": "stream",
          "name": "stdout",
          "text": [
            "All Incorrect Predictions (4 instances):\n"
          ]
        },
        {
          "output_type": "display_data",
          "data": {
            "text/plain": [
              "   Actual Predicted  \\\n",
              "0       n         p   \n",
              "83      p         n   \n",
              "33      n         p   \n",
              "11      n         p   \n",
              "\n",
              "                                                                                                   Text  \n",
              "0   pizza high point ny service slow quality low would think would know least make good pizza stick ...  \n",
              "83                                                                                                       \n",
              "33  place used great believe current state instead cool lounge used cheap smelly bar music soul bart...  \n",
              "11  went chipotle marshall street dinner experience horrible began order found steak chicken want st...  "
            ],
            "text/html": [
              "\n",
              "  <div id=\"df-fbf1669a-5919-4d5b-894a-4e0ed0306ca0\" class=\"colab-df-container\">\n",
              "    <div>\n",
              "<style scoped>\n",
              "    .dataframe tbody tr th:only-of-type {\n",
              "        vertical-align: middle;\n",
              "    }\n",
              "\n",
              "    .dataframe tbody tr th {\n",
              "        vertical-align: top;\n",
              "    }\n",
              "\n",
              "    .dataframe thead th {\n",
              "        text-align: right;\n",
              "    }\n",
              "</style>\n",
              "<table border=\"1\" class=\"dataframe\">\n",
              "  <thead>\n",
              "    <tr style=\"text-align: right;\">\n",
              "      <th></th>\n",
              "      <th>Actual</th>\n",
              "      <th>Predicted</th>\n",
              "      <th>Text</th>\n",
              "    </tr>\n",
              "  </thead>\n",
              "  <tbody>\n",
              "    <tr>\n",
              "      <th>0</th>\n",
              "      <td>n</td>\n",
              "      <td>p</td>\n",
              "      <td>pizza high point ny service slow quality low would think would know least make good pizza stick ...</td>\n",
              "    </tr>\n",
              "    <tr>\n",
              "      <th>83</th>\n",
              "      <td>p</td>\n",
              "      <td>n</td>\n",
              "      <td></td>\n",
              "    </tr>\n",
              "    <tr>\n",
              "      <th>33</th>\n",
              "      <td>n</td>\n",
              "      <td>p</td>\n",
              "      <td>place used great believe current state instead cool lounge used cheap smelly bar music soul bart...</td>\n",
              "    </tr>\n",
              "    <tr>\n",
              "      <th>11</th>\n",
              "      <td>n</td>\n",
              "      <td>p</td>\n",
              "      <td>went chipotle marshall street dinner experience horrible began order found steak chicken want st...</td>\n",
              "    </tr>\n",
              "  </tbody>\n",
              "</table>\n",
              "</div>\n",
              "    <div class=\"colab-df-buttons\">\n",
              "\n",
              "  <div class=\"colab-df-container\">\n",
              "    <button class=\"colab-df-convert\" onclick=\"convertToInteractive('df-fbf1669a-5919-4d5b-894a-4e0ed0306ca0')\"\n",
              "            title=\"Convert this dataframe to an interactive table.\"\n",
              "            style=\"display:none;\">\n",
              "\n",
              "  <svg xmlns=\"http://www.w3.org/2000/svg\" height=\"24px\" viewBox=\"0 -960 960 960\">\n",
              "    <path d=\"M120-120v-720h720v720H120Zm60-500h600v-160H180v160Zm220 220h160v-160H400v160Zm0 220h160v-160H400v160ZM180-400h160v-160H180v160Zm440 0h160v-160H620v160ZM180-180h160v-160H180v160Zm440 0h160v-160H620v160Z\"/>\n",
              "  </svg>\n",
              "    </button>\n",
              "\n",
              "  <style>\n",
              "    .colab-df-container {\n",
              "      display:flex;\n",
              "      gap: 12px;\n",
              "    }\n",
              "\n",
              "    .colab-df-convert {\n",
              "      background-color: #E8F0FE;\n",
              "      border: none;\n",
              "      border-radius: 50%;\n",
              "      cursor: pointer;\n",
              "      display: none;\n",
              "      fill: #1967D2;\n",
              "      height: 32px;\n",
              "      padding: 0 0 0 0;\n",
              "      width: 32px;\n",
              "    }\n",
              "\n",
              "    .colab-df-convert:hover {\n",
              "      background-color: #E2EBFA;\n",
              "      box-shadow: 0px 1px 2px rgba(60, 64, 67, 0.3), 0px 1px 3px 1px rgba(60, 64, 67, 0.15);\n",
              "      fill: #174EA6;\n",
              "    }\n",
              "\n",
              "    .colab-df-buttons div {\n",
              "      margin-bottom: 4px;\n",
              "    }\n",
              "\n",
              "    [theme=dark] .colab-df-convert {\n",
              "      background-color: #3B4455;\n",
              "      fill: #D2E3FC;\n",
              "    }\n",
              "\n",
              "    [theme=dark] .colab-df-convert:hover {\n",
              "      background-color: #434B5C;\n",
              "      box-shadow: 0px 1px 3px 1px rgba(0, 0, 0, 0.15);\n",
              "      filter: drop-shadow(0px 1px 2px rgba(0, 0, 0, 0.3));\n",
              "      fill: #FFFFFF;\n",
              "    }\n",
              "  </style>\n",
              "\n",
              "    <script>\n",
              "      const buttonEl =\n",
              "        document.querySelector('#df-fbf1669a-5919-4d5b-894a-4e0ed0306ca0 button.colab-df-convert');\n",
              "      buttonEl.style.display =\n",
              "        google.colab.kernel.accessAllowed ? 'block' : 'none';\n",
              "\n",
              "      async function convertToInteractive(key) {\n",
              "        const element = document.querySelector('#df-fbf1669a-5919-4d5b-894a-4e0ed0306ca0');\n",
              "        const dataTable =\n",
              "          await google.colab.kernel.invokeFunction('convertToInteractive',\n",
              "                                                    [key], {});\n",
              "        if (!dataTable) return;\n",
              "\n",
              "        const docLinkHtml = 'Like what you see? Visit the ' +\n",
              "          '<a target=\"_blank\" href=https://colab.research.google.com/notebooks/data_table.ipynb>data table notebook</a>'\n",
              "          + ' to learn more about interactive tables.';\n",
              "        element.innerHTML = '';\n",
              "        dataTable['output_type'] = 'display_data';\n",
              "        await google.colab.output.renderOutput(dataTable, element);\n",
              "        const docLink = document.createElement('div');\n",
              "        docLink.innerHTML = docLinkHtml;\n",
              "        element.appendChild(docLink);\n",
              "      }\n",
              "    </script>\n",
              "  </div>\n",
              "\n",
              "\n",
              "<div id=\"df-689d98f9-c226-4b0a-926b-2c4966fbf058\">\n",
              "  <button class=\"colab-df-quickchart\" onclick=\"quickchart('df-689d98f9-c226-4b0a-926b-2c4966fbf058')\"\n",
              "            title=\"Suggest charts.\"\n",
              "            style=\"display:none;\">\n",
              "\n",
              "<svg xmlns=\"http://www.w3.org/2000/svg\" height=\"24px\"viewBox=\"0 0 24 24\"\n",
              "     width=\"24px\">\n",
              "    <g>\n",
              "        <path d=\"M19 3H5c-1.1 0-2 .9-2 2v14c0 1.1.9 2 2 2h14c1.1 0 2-.9 2-2V5c0-1.1-.9-2-2-2zM9 17H7v-7h2v7zm4 0h-2V7h2v10zm4 0h-2v-4h2v4z\"/>\n",
              "    </g>\n",
              "</svg>\n",
              "  </button>\n",
              "\n",
              "<style>\n",
              "  .colab-df-quickchart {\n",
              "      --bg-color: #E8F0FE;\n",
              "      --fill-color: #1967D2;\n",
              "      --hover-bg-color: #E2EBFA;\n",
              "      --hover-fill-color: #174EA6;\n",
              "      --disabled-fill-color: #AAA;\n",
              "      --disabled-bg-color: #DDD;\n",
              "  }\n",
              "\n",
              "  [theme=dark] .colab-df-quickchart {\n",
              "      --bg-color: #3B4455;\n",
              "      --fill-color: #D2E3FC;\n",
              "      --hover-bg-color: #434B5C;\n",
              "      --hover-fill-color: #FFFFFF;\n",
              "      --disabled-bg-color: #3B4455;\n",
              "      --disabled-fill-color: #666;\n",
              "  }\n",
              "\n",
              "  .colab-df-quickchart {\n",
              "    background-color: var(--bg-color);\n",
              "    border: none;\n",
              "    border-radius: 50%;\n",
              "    cursor: pointer;\n",
              "    display: none;\n",
              "    fill: var(--fill-color);\n",
              "    height: 32px;\n",
              "    padding: 0;\n",
              "    width: 32px;\n",
              "  }\n",
              "\n",
              "  .colab-df-quickchart:hover {\n",
              "    background-color: var(--hover-bg-color);\n",
              "    box-shadow: 0 1px 2px rgba(60, 64, 67, 0.3), 0 1px 3px 1px rgba(60, 64, 67, 0.15);\n",
              "    fill: var(--button-hover-fill-color);\n",
              "  }\n",
              "\n",
              "  .colab-df-quickchart-complete:disabled,\n",
              "  .colab-df-quickchart-complete:disabled:hover {\n",
              "    background-color: var(--disabled-bg-color);\n",
              "    fill: var(--disabled-fill-color);\n",
              "    box-shadow: none;\n",
              "  }\n",
              "\n",
              "  .colab-df-spinner {\n",
              "    border: 2px solid var(--fill-color);\n",
              "    border-color: transparent;\n",
              "    border-bottom-color: var(--fill-color);\n",
              "    animation:\n",
              "      spin 1s steps(1) infinite;\n",
              "  }\n",
              "\n",
              "  @keyframes spin {\n",
              "    0% {\n",
              "      border-color: transparent;\n",
              "      border-bottom-color: var(--fill-color);\n",
              "      border-left-color: var(--fill-color);\n",
              "    }\n",
              "    20% {\n",
              "      border-color: transparent;\n",
              "      border-left-color: var(--fill-color);\n",
              "      border-top-color: var(--fill-color);\n",
              "    }\n",
              "    30% {\n",
              "      border-color: transparent;\n",
              "      border-left-color: var(--fill-color);\n",
              "      border-top-color: var(--fill-color);\n",
              "      border-right-color: var(--fill-color);\n",
              "    }\n",
              "    40% {\n",
              "      border-color: transparent;\n",
              "      border-right-color: var(--fill-color);\n",
              "      border-top-color: var(--fill-color);\n",
              "    }\n",
              "    60% {\n",
              "      border-color: transparent;\n",
              "      border-right-color: var(--fill-color);\n",
              "    }\n",
              "    80% {\n",
              "      border-color: transparent;\n",
              "      border-right-color: var(--fill-color);\n",
              "      border-bottom-color: var(--fill-color);\n",
              "    }\n",
              "    90% {\n",
              "      border-color: transparent;\n",
              "      border-bottom-color: var(--fill-color);\n",
              "    }\n",
              "  }\n",
              "</style>\n",
              "\n",
              "  <script>\n",
              "    async function quickchart(key) {\n",
              "      const quickchartButtonEl =\n",
              "        document.querySelector('#' + key + ' button');\n",
              "      quickchartButtonEl.disabled = true;  // To prevent multiple clicks.\n",
              "      quickchartButtonEl.classList.add('colab-df-spinner');\n",
              "      try {\n",
              "        const charts = await google.colab.kernel.invokeFunction(\n",
              "            'suggestCharts', [key], {});\n",
              "      } catch (error) {\n",
              "        console.error('Error during call to suggestCharts:', error);\n",
              "      }\n",
              "      quickchartButtonEl.classList.remove('colab-df-spinner');\n",
              "      quickchartButtonEl.classList.add('colab-df-quickchart-complete');\n",
              "    }\n",
              "    (() => {\n",
              "      let quickchartButtonEl =\n",
              "        document.querySelector('#df-689d98f9-c226-4b0a-926b-2c4966fbf058 button');\n",
              "      quickchartButtonEl.style.display =\n",
              "        google.colab.kernel.accessAllowed ? 'block' : 'none';\n",
              "    })();\n",
              "  </script>\n",
              "</div>\n",
              "    </div>\n",
              "  </div>\n"
            ]
          },
          "metadata": {}
        }
      ]
    },
    {
      "cell_type": "markdown",
      "source": [
        "#MNB: Unigram TF-IDF Vectorizer"
      ],
      "metadata": {
        "id": "j0URuK_i40GS"
      }
    },
    {
      "cell_type": "code",
      "source": [
        "from sklearn.naive_bayes import MultinomialNB\n",
        "\n",
        "# Create an MNB model with unigram TF-IDF vectorizer\n",
        "mnb_tfidf_model = MultinomialNB()\n",
        "X_unigram_tfidf = unigram_tfidf_vectorizer.fit_transform(X_sentiment_text)\n",
        "mnb_tfidf_model.fit(X_unigram_tfidf, y_sentiment)"
      ],
      "metadata": {
        "colab": {
          "base_uri": "https://localhost:8080/",
          "height": 75
        },
        "id": "09kRIMTe429R",
        "outputId": "efc94515-e6a7-47db-dd5a-1807c08144b0"
      },
      "execution_count": 24,
      "outputs": [
        {
          "output_type": "execute_result",
          "data": {
            "text/plain": [
              "MultinomialNB()"
            ],
            "text/html": [
              "<style>#sk-container-id-3 {color: black;background-color: white;}#sk-container-id-3 pre{padding: 0;}#sk-container-id-3 div.sk-toggleable {background-color: white;}#sk-container-id-3 label.sk-toggleable__label {cursor: pointer;display: block;width: 100%;margin-bottom: 0;padding: 0.3em;box-sizing: border-box;text-align: center;}#sk-container-id-3 label.sk-toggleable__label-arrow:before {content: \"▸\";float: left;margin-right: 0.25em;color: #696969;}#sk-container-id-3 label.sk-toggleable__label-arrow:hover:before {color: black;}#sk-container-id-3 div.sk-estimator:hover label.sk-toggleable__label-arrow:before {color: black;}#sk-container-id-3 div.sk-toggleable__content {max-height: 0;max-width: 0;overflow: hidden;text-align: left;background-color: #f0f8ff;}#sk-container-id-3 div.sk-toggleable__content pre {margin: 0.2em;color: black;border-radius: 0.25em;background-color: #f0f8ff;}#sk-container-id-3 input.sk-toggleable__control:checked~div.sk-toggleable__content {max-height: 200px;max-width: 100%;overflow: auto;}#sk-container-id-3 input.sk-toggleable__control:checked~label.sk-toggleable__label-arrow:before {content: \"▾\";}#sk-container-id-3 div.sk-estimator input.sk-toggleable__control:checked~label.sk-toggleable__label {background-color: #d4ebff;}#sk-container-id-3 div.sk-label input.sk-toggleable__control:checked~label.sk-toggleable__label {background-color: #d4ebff;}#sk-container-id-3 input.sk-hidden--visually {border: 0;clip: rect(1px 1px 1px 1px);clip: rect(1px, 1px, 1px, 1px);height: 1px;margin: -1px;overflow: hidden;padding: 0;position: absolute;width: 1px;}#sk-container-id-3 div.sk-estimator {font-family: monospace;background-color: #f0f8ff;border: 1px dotted black;border-radius: 0.25em;box-sizing: border-box;margin-bottom: 0.5em;}#sk-container-id-3 div.sk-estimator:hover {background-color: #d4ebff;}#sk-container-id-3 div.sk-parallel-item::after {content: \"\";width: 100%;border-bottom: 1px solid gray;flex-grow: 1;}#sk-container-id-3 div.sk-label:hover label.sk-toggleable__label {background-color: #d4ebff;}#sk-container-id-3 div.sk-serial::before {content: \"\";position: absolute;border-left: 1px solid gray;box-sizing: border-box;top: 0;bottom: 0;left: 50%;z-index: 0;}#sk-container-id-3 div.sk-serial {display: flex;flex-direction: column;align-items: center;background-color: white;padding-right: 0.2em;padding-left: 0.2em;position: relative;}#sk-container-id-3 div.sk-item {position: relative;z-index: 1;}#sk-container-id-3 div.sk-parallel {display: flex;align-items: stretch;justify-content: center;background-color: white;position: relative;}#sk-container-id-3 div.sk-item::before, #sk-container-id-3 div.sk-parallel-item::before {content: \"\";position: absolute;border-left: 1px solid gray;box-sizing: border-box;top: 0;bottom: 0;left: 50%;z-index: -1;}#sk-container-id-3 div.sk-parallel-item {display: flex;flex-direction: column;z-index: 1;position: relative;background-color: white;}#sk-container-id-3 div.sk-parallel-item:first-child::after {align-self: flex-end;width: 50%;}#sk-container-id-3 div.sk-parallel-item:last-child::after {align-self: flex-start;width: 50%;}#sk-container-id-3 div.sk-parallel-item:only-child::after {width: 0;}#sk-container-id-3 div.sk-dashed-wrapped {border: 1px dashed gray;margin: 0 0.4em 0.5em 0.4em;box-sizing: border-box;padding-bottom: 0.4em;background-color: white;}#sk-container-id-3 div.sk-label label {font-family: monospace;font-weight: bold;display: inline-block;line-height: 1.2em;}#sk-container-id-3 div.sk-label-container {text-align: center;}#sk-container-id-3 div.sk-container {/* jupyter's `normalize.less` sets `[hidden] { display: none; }` but bootstrap.min.css set `[hidden] { display: none !important; }` so we also need the `!important` here to be able to override the default hidden behavior on the sphinx rendered scikit-learn.org. See: https://github.com/scikit-learn/scikit-learn/issues/21755 */display: inline-block !important;position: relative;}#sk-container-id-3 div.sk-text-repr-fallback {display: none;}</style><div id=\"sk-container-id-3\" class=\"sk-top-container\"><div class=\"sk-text-repr-fallback\"><pre>MultinomialNB()</pre><b>In a Jupyter environment, please rerun this cell to show the HTML representation or trust the notebook. <br />On GitHub, the HTML representation is unable to render, please try loading this page with nbviewer.org.</b></div><div class=\"sk-container\" hidden><div class=\"sk-item\"><div class=\"sk-estimator sk-toggleable\"><input class=\"sk-toggleable__control sk-hidden--visually\" id=\"sk-estimator-id-3\" type=\"checkbox\" checked><label for=\"sk-estimator-id-3\" class=\"sk-toggleable__label sk-toggleable__label-arrow\">MultinomialNB</label><div class=\"sk-toggleable__content\"><pre>MultinomialNB()</pre></div></div></div></div></div>"
            ]
          },
          "metadata": {},
          "execution_count": 24
        }
      ]
    },
    {
      "cell_type": "code",
      "source": [
        "# Import necessary libraries\n",
        "from sklearn.metrics import accuracy_score, confusion_matrix, precision_score, recall_score, classification_report\n",
        "\n",
        "# Transform the test data using the same TF-IDF vectorizer\n",
        "X_test_vec_tfidf = unigram_tfidf_vectorizer.transform(X_test_sentiment_text)\n",
        "\n",
        "# Make predictions using the trained MNB TF-IDF model\n",
        "y_pred_tfidf = mnb_tfidf_model.predict(X_test_vec_tfidf)\n",
        "\n",
        "# Calculate and print the accuracy score\n",
        "accuracy_tfidf = accuracy_score(y_test_sentiment, y_pred_tfidf)\n",
        "print(\"Accuracy Score:\", accuracy_tfidf)\n",
        "\n",
        "# Calculate and print the confusion matrix\n",
        "cm_tfidf = confusion_matrix(y_test_sentiment, y_pred_tfidf, labels=['n', 'p'])\n",
        "print(\"Confusion Matrix:\")\n",
        "print(cm_tfidf)\n",
        "\n",
        "# Calculate and print precision and recall for each class\n",
        "precision_tfidf = precision_score(y_test_sentiment, y_pred_tfidf, average=None, labels=['n', 'p'])\n",
        "recall_tfidf = recall_score(y_test_sentiment, y_pred_tfidf, average=None, labels=['n', 'p'])\n",
        "\n",
        "# Generate and print a classification report\n",
        "target_names_tfidf = ['n', 'p']\n",
        "class_report_tfidf = classification_report(y_test_sentiment, y_pred_tfidf, target_names=target_names_tfidf)\n",
        "print(\"Classification Report:\")\n",
        "print(class_report_tfidf)"
      ],
      "metadata": {
        "colab": {
          "base_uri": "https://localhost:8080/"
        },
        "id": "CIxR-nq5Wt9R",
        "outputId": "770a5466-b362-4d89-bb22-beca87bf3ed0"
      },
      "execution_count": 25,
      "outputs": [
        {
          "output_type": "stream",
          "name": "stdout",
          "text": [
            "Accuracy Score: 0.8571428571428571\n",
            "Confusion Matrix:\n",
            "[[13  3]\n",
            " [ 1 11]]\n",
            "Classification Report:\n",
            "              precision    recall  f1-score   support\n",
            "\n",
            "           n       0.93      0.81      0.87        16\n",
            "           p       0.79      0.92      0.85        12\n",
            "\n",
            "    accuracy                           0.86        28\n",
            "   macro avg       0.86      0.86      0.86        28\n",
            "weighted avg       0.87      0.86      0.86        28\n",
            "\n"
          ]
        }
      ]
    },
    {
      "cell_type": "markdown",
      "source": [
        "###Feature Analysis"
      ],
      "metadata": {
        "id": "WtVg5zqEKh0c"
      }
    },
    {
      "cell_type": "code",
      "source": [
        "# Get the feature log probabilities for MNB\n",
        "feature_log_probs_sentiment = mnb_tfidf_model.feature_log_prob_\n",
        "features = unigram_tfidf_vectorizer.get_feature_names_out()\n",
        "\n",
        "# Calculate the log ratios between positive and negative sentiment\n",
        "log_ratios = [vpos - vneg for vpos, vneg in zip(feature_log_probs_sentiment[1], feature_log_probs_sentiment[0])]\n",
        "\n",
        "# Find the top N words for negative and positive sentiment\n",
        "topN = 10\n",
        "words_with_ratios = sorted(zip(log_ratios, features), reverse=True)\n",
        "\n",
        "# Print the top negative and positive words\n",
        "for label, words in [(\"Negative\", words_with_ratios[-topN:]), (\"Positive\", words_with_ratios[:topN])]:\n",
        "    print(f\"\\nTop {topN} {label} Words:\")\n",
        "    for key, value in words:\n",
        "        print(f'{key:<30} | {value}')\n"
      ],
      "metadata": {
        "colab": {
          "base_uri": "https://localhost:8080/"
        },
        "id": "kxpBTDjPiqgk",
        "outputId": "3da4b83b-599a-4037-f79c-820b938908ef"
      },
      "execution_count": 26,
      "outputs": [
        {
          "output_type": "stream",
          "name": "stdout",
          "text": [
            "\n",
            "Top 10 Negative Words:\n",
            "-0.887525771874544             | came\n",
            "-0.9595744472675616            | drink\n",
            "-1.0120292195007377            | said\n",
            "-1.0127481590171756            | worst\n",
            "-1.019045060467933             | bad\n",
            "-1.0443381215844836            | come\n",
            "-1.0913214107459375            | asked\n",
            "-1.1066114282562536            | minute\n",
            "-1.1652532458679552            | took\n",
            "-1.389046725914798             | terrible\n",
            "\n",
            "Top 10 Positive Words:\n",
            "1.5452192564085747             | amazing\n",
            "1.4511435482504327             | best\n",
            "1.3051254317431926             | great\n",
            "1.1277951310758212             | love\n",
            "1.0182484654733788             | fresh\n",
            "0.9830233426129551             | friendly\n",
            "0.9158781683611652             | nice\n",
            "0.819740135125059              | delicious\n",
            "0.716525203537004              | ate\n",
            "0.7028522141739622             | quality\n"
          ]
        }
      ]
    },
    {
      "cell_type": "markdown",
      "source": [
        "###Error Analysis"
      ],
      "metadata": {
        "id": "0Ouv0OsZKh0c"
      }
    },
    {
      "cell_type": "code",
      "source": [
        "# Create a DataFrame to store the actual labels, predicted labels, and corresponding texts\n",
        "error_analysis_df_tfidf = pd.DataFrame({'Actual': y_test_sentiment, 'Predicted': y_pred_tfidf, 'Text': X_test_sentiment_text})\n",
        "\n",
        "# Filter the DataFrame to show only instances where the prediction was incorrect\n",
        "incorrect_predictions_tfidf = error_analysis_df_tfidf[error_analysis_df_tfidf['Actual'] != error_analysis_df_tfidf['Predicted']]\n",
        "\n",
        "# Increase the maximum width of displayed columns in pandas\n",
        "pd.set_option('display.max_colwidth', 100)\n",
        "\n",
        "# Display all available incorrect predictions for further analysis\n",
        "print(f\"All Incorrect Predictions ({len(incorrect_predictions_tfidf)} instances):\")\n",
        "display(incorrect_predictions_tfidf[['Actual', 'Predicted', 'Text']])\n"
      ],
      "metadata": {
        "colab": {
          "base_uri": "https://localhost:8080/",
          "height": 245
        },
        "id": "u7OCSw_r-Ni4",
        "outputId": "ee40a5ad-a75b-499a-afcf-c3e76f63a992"
      },
      "execution_count": 27,
      "outputs": [
        {
          "output_type": "stream",
          "name": "stdout",
          "text": [
            "All Incorrect Predictions (4 instances):\n"
          ]
        },
        {
          "output_type": "display_data",
          "data": {
            "text/plain": [
              "   Actual Predicted  \\\n",
              "0       n         p   \n",
              "83      p         n   \n",
              "33      n         p   \n",
              "11      n         p   \n",
              "\n",
              "                                                                                                   Text  \n",
              "0   pizza high point ny service slow quality low would think would know least make good pizza stick ...  \n",
              "83                                                                                                       \n",
              "33  place used great believe current state instead cool lounge used cheap smelly bar music soul bart...  \n",
              "11  went chipotle marshall street dinner experience horrible began order found steak chicken want st...  "
            ],
            "text/html": [
              "\n",
              "  <div id=\"df-eee5da1e-b102-452d-b1ab-0a1085cd4bb4\" class=\"colab-df-container\">\n",
              "    <div>\n",
              "<style scoped>\n",
              "    .dataframe tbody tr th:only-of-type {\n",
              "        vertical-align: middle;\n",
              "    }\n",
              "\n",
              "    .dataframe tbody tr th {\n",
              "        vertical-align: top;\n",
              "    }\n",
              "\n",
              "    .dataframe thead th {\n",
              "        text-align: right;\n",
              "    }\n",
              "</style>\n",
              "<table border=\"1\" class=\"dataframe\">\n",
              "  <thead>\n",
              "    <tr style=\"text-align: right;\">\n",
              "      <th></th>\n",
              "      <th>Actual</th>\n",
              "      <th>Predicted</th>\n",
              "      <th>Text</th>\n",
              "    </tr>\n",
              "  </thead>\n",
              "  <tbody>\n",
              "    <tr>\n",
              "      <th>0</th>\n",
              "      <td>n</td>\n",
              "      <td>p</td>\n",
              "      <td>pizza high point ny service slow quality low would think would know least make good pizza stick ...</td>\n",
              "    </tr>\n",
              "    <tr>\n",
              "      <th>83</th>\n",
              "      <td>p</td>\n",
              "      <td>n</td>\n",
              "      <td></td>\n",
              "    </tr>\n",
              "    <tr>\n",
              "      <th>33</th>\n",
              "      <td>n</td>\n",
              "      <td>p</td>\n",
              "      <td>place used great believe current state instead cool lounge used cheap smelly bar music soul bart...</td>\n",
              "    </tr>\n",
              "    <tr>\n",
              "      <th>11</th>\n",
              "      <td>n</td>\n",
              "      <td>p</td>\n",
              "      <td>went chipotle marshall street dinner experience horrible began order found steak chicken want st...</td>\n",
              "    </tr>\n",
              "  </tbody>\n",
              "</table>\n",
              "</div>\n",
              "    <div class=\"colab-df-buttons\">\n",
              "\n",
              "  <div class=\"colab-df-container\">\n",
              "    <button class=\"colab-df-convert\" onclick=\"convertToInteractive('df-eee5da1e-b102-452d-b1ab-0a1085cd4bb4')\"\n",
              "            title=\"Convert this dataframe to an interactive table.\"\n",
              "            style=\"display:none;\">\n",
              "\n",
              "  <svg xmlns=\"http://www.w3.org/2000/svg\" height=\"24px\" viewBox=\"0 -960 960 960\">\n",
              "    <path d=\"M120-120v-720h720v720H120Zm60-500h600v-160H180v160Zm220 220h160v-160H400v160Zm0 220h160v-160H400v160ZM180-400h160v-160H180v160Zm440 0h160v-160H620v160ZM180-180h160v-160H180v160Zm440 0h160v-160H620v160Z\"/>\n",
              "  </svg>\n",
              "    </button>\n",
              "\n",
              "  <style>\n",
              "    .colab-df-container {\n",
              "      display:flex;\n",
              "      gap: 12px;\n",
              "    }\n",
              "\n",
              "    .colab-df-convert {\n",
              "      background-color: #E8F0FE;\n",
              "      border: none;\n",
              "      border-radius: 50%;\n",
              "      cursor: pointer;\n",
              "      display: none;\n",
              "      fill: #1967D2;\n",
              "      height: 32px;\n",
              "      padding: 0 0 0 0;\n",
              "      width: 32px;\n",
              "    }\n",
              "\n",
              "    .colab-df-convert:hover {\n",
              "      background-color: #E2EBFA;\n",
              "      box-shadow: 0px 1px 2px rgba(60, 64, 67, 0.3), 0px 1px 3px 1px rgba(60, 64, 67, 0.15);\n",
              "      fill: #174EA6;\n",
              "    }\n",
              "\n",
              "    .colab-df-buttons div {\n",
              "      margin-bottom: 4px;\n",
              "    }\n",
              "\n",
              "    [theme=dark] .colab-df-convert {\n",
              "      background-color: #3B4455;\n",
              "      fill: #D2E3FC;\n",
              "    }\n",
              "\n",
              "    [theme=dark] .colab-df-convert:hover {\n",
              "      background-color: #434B5C;\n",
              "      box-shadow: 0px 1px 3px 1px rgba(0, 0, 0, 0.15);\n",
              "      filter: drop-shadow(0px 1px 2px rgba(0, 0, 0, 0.3));\n",
              "      fill: #FFFFFF;\n",
              "    }\n",
              "  </style>\n",
              "\n",
              "    <script>\n",
              "      const buttonEl =\n",
              "        document.querySelector('#df-eee5da1e-b102-452d-b1ab-0a1085cd4bb4 button.colab-df-convert');\n",
              "      buttonEl.style.display =\n",
              "        google.colab.kernel.accessAllowed ? 'block' : 'none';\n",
              "\n",
              "      async function convertToInteractive(key) {\n",
              "        const element = document.querySelector('#df-eee5da1e-b102-452d-b1ab-0a1085cd4bb4');\n",
              "        const dataTable =\n",
              "          await google.colab.kernel.invokeFunction('convertToInteractive',\n",
              "                                                    [key], {});\n",
              "        if (!dataTable) return;\n",
              "\n",
              "        const docLinkHtml = 'Like what you see? Visit the ' +\n",
              "          '<a target=\"_blank\" href=https://colab.research.google.com/notebooks/data_table.ipynb>data table notebook</a>'\n",
              "          + ' to learn more about interactive tables.';\n",
              "        element.innerHTML = '';\n",
              "        dataTable['output_type'] = 'display_data';\n",
              "        await google.colab.output.renderOutput(dataTable, element);\n",
              "        const docLink = document.createElement('div');\n",
              "        docLink.innerHTML = docLinkHtml;\n",
              "        element.appendChild(docLink);\n",
              "      }\n",
              "    </script>\n",
              "  </div>\n",
              "\n",
              "\n",
              "<div id=\"df-fc85e33f-279b-4735-92ff-dc5035c9ced7\">\n",
              "  <button class=\"colab-df-quickchart\" onclick=\"quickchart('df-fc85e33f-279b-4735-92ff-dc5035c9ced7')\"\n",
              "            title=\"Suggest charts.\"\n",
              "            style=\"display:none;\">\n",
              "\n",
              "<svg xmlns=\"http://www.w3.org/2000/svg\" height=\"24px\"viewBox=\"0 0 24 24\"\n",
              "     width=\"24px\">\n",
              "    <g>\n",
              "        <path d=\"M19 3H5c-1.1 0-2 .9-2 2v14c0 1.1.9 2 2 2h14c1.1 0 2-.9 2-2V5c0-1.1-.9-2-2-2zM9 17H7v-7h2v7zm4 0h-2V7h2v10zm4 0h-2v-4h2v4z\"/>\n",
              "    </g>\n",
              "</svg>\n",
              "  </button>\n",
              "\n",
              "<style>\n",
              "  .colab-df-quickchart {\n",
              "      --bg-color: #E8F0FE;\n",
              "      --fill-color: #1967D2;\n",
              "      --hover-bg-color: #E2EBFA;\n",
              "      --hover-fill-color: #174EA6;\n",
              "      --disabled-fill-color: #AAA;\n",
              "      --disabled-bg-color: #DDD;\n",
              "  }\n",
              "\n",
              "  [theme=dark] .colab-df-quickchart {\n",
              "      --bg-color: #3B4455;\n",
              "      --fill-color: #D2E3FC;\n",
              "      --hover-bg-color: #434B5C;\n",
              "      --hover-fill-color: #FFFFFF;\n",
              "      --disabled-bg-color: #3B4455;\n",
              "      --disabled-fill-color: #666;\n",
              "  }\n",
              "\n",
              "  .colab-df-quickchart {\n",
              "    background-color: var(--bg-color);\n",
              "    border: none;\n",
              "    border-radius: 50%;\n",
              "    cursor: pointer;\n",
              "    display: none;\n",
              "    fill: var(--fill-color);\n",
              "    height: 32px;\n",
              "    padding: 0;\n",
              "    width: 32px;\n",
              "  }\n",
              "\n",
              "  .colab-df-quickchart:hover {\n",
              "    background-color: var(--hover-bg-color);\n",
              "    box-shadow: 0 1px 2px rgba(60, 64, 67, 0.3), 0 1px 3px 1px rgba(60, 64, 67, 0.15);\n",
              "    fill: var(--button-hover-fill-color);\n",
              "  }\n",
              "\n",
              "  .colab-df-quickchart-complete:disabled,\n",
              "  .colab-df-quickchart-complete:disabled:hover {\n",
              "    background-color: var(--disabled-bg-color);\n",
              "    fill: var(--disabled-fill-color);\n",
              "    box-shadow: none;\n",
              "  }\n",
              "\n",
              "  .colab-df-spinner {\n",
              "    border: 2px solid var(--fill-color);\n",
              "    border-color: transparent;\n",
              "    border-bottom-color: var(--fill-color);\n",
              "    animation:\n",
              "      spin 1s steps(1) infinite;\n",
              "  }\n",
              "\n",
              "  @keyframes spin {\n",
              "    0% {\n",
              "      border-color: transparent;\n",
              "      border-bottom-color: var(--fill-color);\n",
              "      border-left-color: var(--fill-color);\n",
              "    }\n",
              "    20% {\n",
              "      border-color: transparent;\n",
              "      border-left-color: var(--fill-color);\n",
              "      border-top-color: var(--fill-color);\n",
              "    }\n",
              "    30% {\n",
              "      border-color: transparent;\n",
              "      border-left-color: var(--fill-color);\n",
              "      border-top-color: var(--fill-color);\n",
              "      border-right-color: var(--fill-color);\n",
              "    }\n",
              "    40% {\n",
              "      border-color: transparent;\n",
              "      border-right-color: var(--fill-color);\n",
              "      border-top-color: var(--fill-color);\n",
              "    }\n",
              "    60% {\n",
              "      border-color: transparent;\n",
              "      border-right-color: var(--fill-color);\n",
              "    }\n",
              "    80% {\n",
              "      border-color: transparent;\n",
              "      border-right-color: var(--fill-color);\n",
              "      border-bottom-color: var(--fill-color);\n",
              "    }\n",
              "    90% {\n",
              "      border-color: transparent;\n",
              "      border-bottom-color: var(--fill-color);\n",
              "    }\n",
              "  }\n",
              "</style>\n",
              "\n",
              "  <script>\n",
              "    async function quickchart(key) {\n",
              "      const quickchartButtonEl =\n",
              "        document.querySelector('#' + key + ' button');\n",
              "      quickchartButtonEl.disabled = true;  // To prevent multiple clicks.\n",
              "      quickchartButtonEl.classList.add('colab-df-spinner');\n",
              "      try {\n",
              "        const charts = await google.colab.kernel.invokeFunction(\n",
              "            'suggestCharts', [key], {});\n",
              "      } catch (error) {\n",
              "        console.error('Error during call to suggestCharts:', error);\n",
              "      }\n",
              "      quickchartButtonEl.classList.remove('colab-df-spinner');\n",
              "      quickchartButtonEl.classList.add('colab-df-quickchart-complete');\n",
              "    }\n",
              "    (() => {\n",
              "      let quickchartButtonEl =\n",
              "        document.querySelector('#df-fc85e33f-279b-4735-92ff-dc5035c9ced7 button');\n",
              "      quickchartButtonEl.style.display =\n",
              "        google.colab.kernel.accessAllowed ? 'block' : 'none';\n",
              "    })();\n",
              "  </script>\n",
              "</div>\n",
              "    </div>\n",
              "  </div>\n"
            ]
          },
          "metadata": {}
        }
      ]
    },
    {
      "cell_type": "markdown",
      "source": [
        "#SVM: Unigram Term Freq Vectorizer"
      ],
      "metadata": {
        "id": "6AC7NjUu7JYl"
      }
    },
    {
      "cell_type": "code",
      "source": [
        "from sklearn.svm import SVC\n",
        "from sklearn.metrics import confusion_matrix, classification_report\n",
        "\n",
        "# Create an SVM model with a linear kernel\n",
        "svm_model_linear = SVC(kernel='linear')\n",
        "\n",
        "# Convert the tokenized training data back into single strings\n",
        "X_train_sentiment_text = [' '.join(tokens) for tokens in X_train_sentiment]\n",
        "\n",
        "# Transform the training data using the Count Vectorizer\n",
        "X_train_count = unigram_count_vectorizer.transform(X_train_sentiment_text)\n",
        "\n",
        "# Fit the SVM model on the training data\n",
        "svm_model_linear.fit(X_train_count, y_train_sentiment)\n",
        "\n",
        "# Convert the tokenized test data back into single strings\n",
        "X_test_sentiment_text = [' '.join(tokens) for tokens in X_test_sentiment]\n",
        "\n",
        "# Transform the test data using the Count Vectorizer\n",
        "X_test_count = unigram_count_vectorizer.transform(X_test_sentiment_text)\n",
        "\n",
        "# Make predictions on the test set\n",
        "y_pred_count = svm_model_linear.predict(X_test_count)\n",
        "\n",
        "# Calculate and print the accuracy score\n",
        "accuracy_svm_count = svm_model_linear.score(X_test_count, y_test_sentiment)\n",
        "print(\"Accuracy Score:\", accuracy_svm_count)\n",
        "\n",
        "\n",
        "# Calculate and print the confusion matrix\n",
        "cm_svm_count = confusion_matrix(y_test_sentiment, y_pred_count)\n",
        "print(\"Confusion Matrix:\")\n",
        "print(cm_svm_count)\n",
        "\n",
        "# Generate and print a classification report\n",
        "target_names_svm = ['n', 'p']  # Replace with your class names\n",
        "class_report_svm_count = classification_report(y_test_sentiment, y_pred_count, target_names=target_names_svm)\n",
        "print(\"Classification Report:\")\n",
        "print(class_report_svm_count)\n"
      ],
      "metadata": {
        "colab": {
          "base_uri": "https://localhost:8080/"
        },
        "id": "0_GjIY2Qvnou",
        "outputId": "27c8959e-725e-4b9e-d8ce-10a0be8ab88b"
      },
      "execution_count": 28,
      "outputs": [
        {
          "output_type": "stream",
          "name": "stdout",
          "text": [
            "Accuracy Score: 0.75\n",
            "Confusion Matrix:\n",
            "[[12  4]\n",
            " [ 3  9]]\n",
            "Classification Report:\n",
            "              precision    recall  f1-score   support\n",
            "\n",
            "           n       0.80      0.75      0.77        16\n",
            "           p       0.69      0.75      0.72        12\n",
            "\n",
            "    accuracy                           0.75        28\n",
            "   macro avg       0.75      0.75      0.75        28\n",
            "weighted avg       0.75      0.75      0.75        28\n",
            "\n"
          ]
        }
      ]
    },
    {
      "cell_type": "markdown",
      "source": [
        "###Feature Analysis"
      ],
      "metadata": {
        "id": "S6MrweDMKkC6"
      }
    },
    {
      "cell_type": "code",
      "source": [
        "# Get feature names from the Binary Vectorizer's vocabulary\n",
        "feature_names_binary = unigram_count_vectorizer.get_feature_names_out()\n",
        "\n",
        "# Get coefficients from the trained SVM model\n",
        "coefficients_binary = svm_model_linear.coef_.toarray()[0]\n",
        "\n",
        "# Sort feature indices by coefficient values in ascending order for negative features\n",
        "negative_feature_indices_binary = coefficients_binary.argsort()[:10]\n",
        "\n",
        "# Sort feature indices by coefficient values in descending order for positive features\n",
        "positive_feature_indices_binary = coefficients_binary.argsort()[-10:][::-1]\n",
        "\n",
        "# Get the top 10 negative features\n",
        "top_negative_features_binary = [feature_names_binary[i] for i in negative_feature_indices_binary]\n",
        "\n",
        "# Get the top 10 positive features\n",
        "top_positive_features_binary = [feature_names_binary[i] for i in positive_feature_indices_binary]\n",
        "\n",
        "print(\"Top 10 Negative Features:\")\n",
        "print( top_negative_features_binary)\n",
        "print(\"Top 10 Positive Features:\")\n",
        "print(top_positive_features_binary)\n"
      ],
      "metadata": {
        "colab": {
          "base_uri": "https://localhost:8080/"
        },
        "id": "b2pDGnZcwNJt",
        "outputId": "7ace44bb-6ead-4a04-93fb-56a0023af1a6"
      },
      "execution_count": 29,
      "outputs": [
        {
          "output_type": "stream",
          "name": "stdout",
          "text": [
            "Top 10 Negative Features:\n",
            "['table', 'dish', 'drink', 'said', 'asked', 'called', 'cold', 'place', 'day', 'went']\n",
            "Top 10 Positive Features:\n",
            "['best', 'need', 'great', 'price', 'little', 'delicious', 'family', 'fresh', 'sauce', 'really']\n"
          ]
        }
      ]
    },
    {
      "cell_type": "markdown",
      "source": [
        "###Error Analysis"
      ],
      "metadata": {
        "id": "ZxtrFE1YKkC7"
      }
    },
    {
      "cell_type": "code",
      "source": [
        "\n",
        "# Create a DataFrame for error analysis\n",
        "error_analysis_df_svm = pd.DataFrame({'Actual': y_test_sentiment, 'Predicted': y_pred_count, 'Text': X_test_sentiment_text})\n",
        "\n",
        "# Filter and display incorrect predictions\n",
        "incorrect_predictions_svm = error_analysis_df_svm[error_analysis_df_svm['Actual'] != error_analysis_df_svm['Predicted']]\n",
        "\n",
        "# Set maximum column width for better display\n",
        "pd.set_option('display.max_colwidth', 200)\n",
        "\n",
        "# Print all incorrect predictions for further analysis\n",
        "print(f\"All Incorrect Predictions ({len(incorrect_predictions_svm)} instances):\")\n",
        "display(incorrect_predictions_svm[['Actual', 'Predicted', 'Text']])"
      ],
      "metadata": {
        "colab": {
          "base_uri": "https://localhost:8080/",
          "height": 634
        },
        "id": "mgBEdrWp_Mri",
        "outputId": "be7eae84-2652-4e59-b932-54c451874895"
      },
      "execution_count": 30,
      "outputs": [
        {
          "output_type": "stream",
          "name": "stdout",
          "text": [
            "All Incorrect Predictions (7 instances):\n"
          ]
        },
        {
          "output_type": "display_data",
          "data": {
            "text/plain": [
              "   Actual Predicted  \\\n",
              "55      p         n   \n",
              "26      n         p   \n",
              "62      p         n   \n",
              "18      n         p   \n",
              "68      p         n   \n",
              "33      n         p   \n",
              "11      n         p   \n",
              "\n",
              "                                                                                                                                                                                                       Text  \n",
              "55  day ago went rooftop restaurant nyc served brunch one best brunch ever view table serene could see hudson river east river outstanding view empire state building chryslers tower freedom tower cent...  \n",
              "26  diner par many diner get egg benedict sometimes nacho cheese egg plateful watery runny egg smelled like smoke heat dead winter price anywhere near reasonable cool mom pop place terrible food smell...  \n",
              "62  japanese restaurant popular recently japanese food fan take shot went 5pm many client environment terrific clean quite cozy waiter always smiling warmly fell excellent food ordered sushi combo 8 r...  \n",
              "18              service way average wait 10 minute could seated wait 20 minute menu shown u let tell food kitty hoynes irish pub restaurant terrible vegies cooked lamb cooked bread dry beer flat need say  \n",
              "68  ate restaurant called banana leaf entered restaurant really liked ambiance ordered noodle soup fried rice spicy black bean curry service pretty fast food tasted amazing lot flavor food truly enjoy...  \n",
              "33                  place used great believe current state instead cool lounge used cheap smelly bar music soul bartender mean place longer exudes welcoming spirit crowd awkward old want old hangout back  \n",
              "11  went chipotle marshall street dinner experience horrible began order found steak chicken want steak burrito chipotle steak chicken worse sauce kind sauce believe eye never go chipotle marshall str...  "
            ],
            "text/html": [
              "\n",
              "  <div id=\"df-95f9fb98-37c9-49c2-af1a-b223176fc6d9\" class=\"colab-df-container\">\n",
              "    <div>\n",
              "<style scoped>\n",
              "    .dataframe tbody tr th:only-of-type {\n",
              "        vertical-align: middle;\n",
              "    }\n",
              "\n",
              "    .dataframe tbody tr th {\n",
              "        vertical-align: top;\n",
              "    }\n",
              "\n",
              "    .dataframe thead th {\n",
              "        text-align: right;\n",
              "    }\n",
              "</style>\n",
              "<table border=\"1\" class=\"dataframe\">\n",
              "  <thead>\n",
              "    <tr style=\"text-align: right;\">\n",
              "      <th></th>\n",
              "      <th>Actual</th>\n",
              "      <th>Predicted</th>\n",
              "      <th>Text</th>\n",
              "    </tr>\n",
              "  </thead>\n",
              "  <tbody>\n",
              "    <tr>\n",
              "      <th>55</th>\n",
              "      <td>p</td>\n",
              "      <td>n</td>\n",
              "      <td>day ago went rooftop restaurant nyc served brunch one best brunch ever view table serene could see hudson river east river outstanding view empire state building chryslers tower freedom tower cent...</td>\n",
              "    </tr>\n",
              "    <tr>\n",
              "      <th>26</th>\n",
              "      <td>n</td>\n",
              "      <td>p</td>\n",
              "      <td>diner par many diner get egg benedict sometimes nacho cheese egg plateful watery runny egg smelled like smoke heat dead winter price anywhere near reasonable cool mom pop place terrible food smell...</td>\n",
              "    </tr>\n",
              "    <tr>\n",
              "      <th>62</th>\n",
              "      <td>p</td>\n",
              "      <td>n</td>\n",
              "      <td>japanese restaurant popular recently japanese food fan take shot went 5pm many client environment terrific clean quite cozy waiter always smiling warmly fell excellent food ordered sushi combo 8 r...</td>\n",
              "    </tr>\n",
              "    <tr>\n",
              "      <th>18</th>\n",
              "      <td>n</td>\n",
              "      <td>p</td>\n",
              "      <td>service way average wait 10 minute could seated wait 20 minute menu shown u let tell food kitty hoynes irish pub restaurant terrible vegies cooked lamb cooked bread dry beer flat need say</td>\n",
              "    </tr>\n",
              "    <tr>\n",
              "      <th>68</th>\n",
              "      <td>p</td>\n",
              "      <td>n</td>\n",
              "      <td>ate restaurant called banana leaf entered restaurant really liked ambiance ordered noodle soup fried rice spicy black bean curry service pretty fast food tasted amazing lot flavor food truly enjoy...</td>\n",
              "    </tr>\n",
              "    <tr>\n",
              "      <th>33</th>\n",
              "      <td>n</td>\n",
              "      <td>p</td>\n",
              "      <td>place used great believe current state instead cool lounge used cheap smelly bar music soul bartender mean place longer exudes welcoming spirit crowd awkward old want old hangout back</td>\n",
              "    </tr>\n",
              "    <tr>\n",
              "      <th>11</th>\n",
              "      <td>n</td>\n",
              "      <td>p</td>\n",
              "      <td>went chipotle marshall street dinner experience horrible began order found steak chicken want steak burrito chipotle steak chicken worse sauce kind sauce believe eye never go chipotle marshall str...</td>\n",
              "    </tr>\n",
              "  </tbody>\n",
              "</table>\n",
              "</div>\n",
              "    <div class=\"colab-df-buttons\">\n",
              "\n",
              "  <div class=\"colab-df-container\">\n",
              "    <button class=\"colab-df-convert\" onclick=\"convertToInteractive('df-95f9fb98-37c9-49c2-af1a-b223176fc6d9')\"\n",
              "            title=\"Convert this dataframe to an interactive table.\"\n",
              "            style=\"display:none;\">\n",
              "\n",
              "  <svg xmlns=\"http://www.w3.org/2000/svg\" height=\"24px\" viewBox=\"0 -960 960 960\">\n",
              "    <path d=\"M120-120v-720h720v720H120Zm60-500h600v-160H180v160Zm220 220h160v-160H400v160Zm0 220h160v-160H400v160ZM180-400h160v-160H180v160Zm440 0h160v-160H620v160ZM180-180h160v-160H180v160Zm440 0h160v-160H620v160Z\"/>\n",
              "  </svg>\n",
              "    </button>\n",
              "\n",
              "  <style>\n",
              "    .colab-df-container {\n",
              "      display:flex;\n",
              "      gap: 12px;\n",
              "    }\n",
              "\n",
              "    .colab-df-convert {\n",
              "      background-color: #E8F0FE;\n",
              "      border: none;\n",
              "      border-radius: 50%;\n",
              "      cursor: pointer;\n",
              "      display: none;\n",
              "      fill: #1967D2;\n",
              "      height: 32px;\n",
              "      padding: 0 0 0 0;\n",
              "      width: 32px;\n",
              "    }\n",
              "\n",
              "    .colab-df-convert:hover {\n",
              "      background-color: #E2EBFA;\n",
              "      box-shadow: 0px 1px 2px rgba(60, 64, 67, 0.3), 0px 1px 3px 1px rgba(60, 64, 67, 0.15);\n",
              "      fill: #174EA6;\n",
              "    }\n",
              "\n",
              "    .colab-df-buttons div {\n",
              "      margin-bottom: 4px;\n",
              "    }\n",
              "\n",
              "    [theme=dark] .colab-df-convert {\n",
              "      background-color: #3B4455;\n",
              "      fill: #D2E3FC;\n",
              "    }\n",
              "\n",
              "    [theme=dark] .colab-df-convert:hover {\n",
              "      background-color: #434B5C;\n",
              "      box-shadow: 0px 1px 3px 1px rgba(0, 0, 0, 0.15);\n",
              "      filter: drop-shadow(0px 1px 2px rgba(0, 0, 0, 0.3));\n",
              "      fill: #FFFFFF;\n",
              "    }\n",
              "  </style>\n",
              "\n",
              "    <script>\n",
              "      const buttonEl =\n",
              "        document.querySelector('#df-95f9fb98-37c9-49c2-af1a-b223176fc6d9 button.colab-df-convert');\n",
              "      buttonEl.style.display =\n",
              "        google.colab.kernel.accessAllowed ? 'block' : 'none';\n",
              "\n",
              "      async function convertToInteractive(key) {\n",
              "        const element = document.querySelector('#df-95f9fb98-37c9-49c2-af1a-b223176fc6d9');\n",
              "        const dataTable =\n",
              "          await google.colab.kernel.invokeFunction('convertToInteractive',\n",
              "                                                    [key], {});\n",
              "        if (!dataTable) return;\n",
              "\n",
              "        const docLinkHtml = 'Like what you see? Visit the ' +\n",
              "          '<a target=\"_blank\" href=https://colab.research.google.com/notebooks/data_table.ipynb>data table notebook</a>'\n",
              "          + ' to learn more about interactive tables.';\n",
              "        element.innerHTML = '';\n",
              "        dataTable['output_type'] = 'display_data';\n",
              "        await google.colab.output.renderOutput(dataTable, element);\n",
              "        const docLink = document.createElement('div');\n",
              "        docLink.innerHTML = docLinkHtml;\n",
              "        element.appendChild(docLink);\n",
              "      }\n",
              "    </script>\n",
              "  </div>\n",
              "\n",
              "\n",
              "<div id=\"df-11febc93-ef0c-4754-8e22-ef6429932f9c\">\n",
              "  <button class=\"colab-df-quickchart\" onclick=\"quickchart('df-11febc93-ef0c-4754-8e22-ef6429932f9c')\"\n",
              "            title=\"Suggest charts.\"\n",
              "            style=\"display:none;\">\n",
              "\n",
              "<svg xmlns=\"http://www.w3.org/2000/svg\" height=\"24px\"viewBox=\"0 0 24 24\"\n",
              "     width=\"24px\">\n",
              "    <g>\n",
              "        <path d=\"M19 3H5c-1.1 0-2 .9-2 2v14c0 1.1.9 2 2 2h14c1.1 0 2-.9 2-2V5c0-1.1-.9-2-2-2zM9 17H7v-7h2v7zm4 0h-2V7h2v10zm4 0h-2v-4h2v4z\"/>\n",
              "    </g>\n",
              "</svg>\n",
              "  </button>\n",
              "\n",
              "<style>\n",
              "  .colab-df-quickchart {\n",
              "      --bg-color: #E8F0FE;\n",
              "      --fill-color: #1967D2;\n",
              "      --hover-bg-color: #E2EBFA;\n",
              "      --hover-fill-color: #174EA6;\n",
              "      --disabled-fill-color: #AAA;\n",
              "      --disabled-bg-color: #DDD;\n",
              "  }\n",
              "\n",
              "  [theme=dark] .colab-df-quickchart {\n",
              "      --bg-color: #3B4455;\n",
              "      --fill-color: #D2E3FC;\n",
              "      --hover-bg-color: #434B5C;\n",
              "      --hover-fill-color: #FFFFFF;\n",
              "      --disabled-bg-color: #3B4455;\n",
              "      --disabled-fill-color: #666;\n",
              "  }\n",
              "\n",
              "  .colab-df-quickchart {\n",
              "    background-color: var(--bg-color);\n",
              "    border: none;\n",
              "    border-radius: 50%;\n",
              "    cursor: pointer;\n",
              "    display: none;\n",
              "    fill: var(--fill-color);\n",
              "    height: 32px;\n",
              "    padding: 0;\n",
              "    width: 32px;\n",
              "  }\n",
              "\n",
              "  .colab-df-quickchart:hover {\n",
              "    background-color: var(--hover-bg-color);\n",
              "    box-shadow: 0 1px 2px rgba(60, 64, 67, 0.3), 0 1px 3px 1px rgba(60, 64, 67, 0.15);\n",
              "    fill: var(--button-hover-fill-color);\n",
              "  }\n",
              "\n",
              "  .colab-df-quickchart-complete:disabled,\n",
              "  .colab-df-quickchart-complete:disabled:hover {\n",
              "    background-color: var(--disabled-bg-color);\n",
              "    fill: var(--disabled-fill-color);\n",
              "    box-shadow: none;\n",
              "  }\n",
              "\n",
              "  .colab-df-spinner {\n",
              "    border: 2px solid var(--fill-color);\n",
              "    border-color: transparent;\n",
              "    border-bottom-color: var(--fill-color);\n",
              "    animation:\n",
              "      spin 1s steps(1) infinite;\n",
              "  }\n",
              "\n",
              "  @keyframes spin {\n",
              "    0% {\n",
              "      border-color: transparent;\n",
              "      border-bottom-color: var(--fill-color);\n",
              "      border-left-color: var(--fill-color);\n",
              "    }\n",
              "    20% {\n",
              "      border-color: transparent;\n",
              "      border-left-color: var(--fill-color);\n",
              "      border-top-color: var(--fill-color);\n",
              "    }\n",
              "    30% {\n",
              "      border-color: transparent;\n",
              "      border-left-color: var(--fill-color);\n",
              "      border-top-color: var(--fill-color);\n",
              "      border-right-color: var(--fill-color);\n",
              "    }\n",
              "    40% {\n",
              "      border-color: transparent;\n",
              "      border-right-color: var(--fill-color);\n",
              "      border-top-color: var(--fill-color);\n",
              "    }\n",
              "    60% {\n",
              "      border-color: transparent;\n",
              "      border-right-color: var(--fill-color);\n",
              "    }\n",
              "    80% {\n",
              "      border-color: transparent;\n",
              "      border-right-color: var(--fill-color);\n",
              "      border-bottom-color: var(--fill-color);\n",
              "    }\n",
              "    90% {\n",
              "      border-color: transparent;\n",
              "      border-bottom-color: var(--fill-color);\n",
              "    }\n",
              "  }\n",
              "</style>\n",
              "\n",
              "  <script>\n",
              "    async function quickchart(key) {\n",
              "      const quickchartButtonEl =\n",
              "        document.querySelector('#' + key + ' button');\n",
              "      quickchartButtonEl.disabled = true;  // To prevent multiple clicks.\n",
              "      quickchartButtonEl.classList.add('colab-df-spinner');\n",
              "      try {\n",
              "        const charts = await google.colab.kernel.invokeFunction(\n",
              "            'suggestCharts', [key], {});\n",
              "      } catch (error) {\n",
              "        console.error('Error during call to suggestCharts:', error);\n",
              "      }\n",
              "      quickchartButtonEl.classList.remove('colab-df-spinner');\n",
              "      quickchartButtonEl.classList.add('colab-df-quickchart-complete');\n",
              "    }\n",
              "    (() => {\n",
              "      let quickchartButtonEl =\n",
              "        document.querySelector('#df-11febc93-ef0c-4754-8e22-ef6429932f9c button');\n",
              "      quickchartButtonEl.style.display =\n",
              "        google.colab.kernel.accessAllowed ? 'block' : 'none';\n",
              "    })();\n",
              "  </script>\n",
              "</div>\n",
              "    </div>\n",
              "  </div>\n"
            ]
          },
          "metadata": {}
        }
      ]
    },
    {
      "cell_type": "markdown",
      "source": [
        "#SVM: Unigram & Bigram Term Freq Vectorizer"
      ],
      "metadata": {
        "id": "J4SgqYjmmlcH"
      }
    },
    {
      "cell_type": "code",
      "source": [
        "from sklearn.svm import SVC\n",
        "from sklearn.metrics import confusion_matrix, classification_report\n",
        "\n",
        "# Create an SVM model with unigram and bigram term frequency vectorizer\n",
        "svm_gram12_model = SVC(kernel='linear')  # You can experiment with different kernels\n",
        "X_gram12_count = gram12_count_vectorizer.transform(X_sentiment_text)\n",
        "svm_gram12_model.fit(X_gram12_count, y_sentiment)\n"
      ],
      "metadata": {
        "colab": {
          "base_uri": "https://localhost:8080/",
          "height": 75
        },
        "id": "w89adt5-BYJ-",
        "outputId": "ed4114d1-96de-492f-8e1a-cc1a940b2076"
      },
      "execution_count": 31,
      "outputs": [
        {
          "output_type": "execute_result",
          "data": {
            "text/plain": [
              "SVC(kernel='linear')"
            ],
            "text/html": [
              "<style>#sk-container-id-4 {color: black;background-color: white;}#sk-container-id-4 pre{padding: 0;}#sk-container-id-4 div.sk-toggleable {background-color: white;}#sk-container-id-4 label.sk-toggleable__label {cursor: pointer;display: block;width: 100%;margin-bottom: 0;padding: 0.3em;box-sizing: border-box;text-align: center;}#sk-container-id-4 label.sk-toggleable__label-arrow:before {content: \"▸\";float: left;margin-right: 0.25em;color: #696969;}#sk-container-id-4 label.sk-toggleable__label-arrow:hover:before {color: black;}#sk-container-id-4 div.sk-estimator:hover label.sk-toggleable__label-arrow:before {color: black;}#sk-container-id-4 div.sk-toggleable__content {max-height: 0;max-width: 0;overflow: hidden;text-align: left;background-color: #f0f8ff;}#sk-container-id-4 div.sk-toggleable__content pre {margin: 0.2em;color: black;border-radius: 0.25em;background-color: #f0f8ff;}#sk-container-id-4 input.sk-toggleable__control:checked~div.sk-toggleable__content {max-height: 200px;max-width: 100%;overflow: auto;}#sk-container-id-4 input.sk-toggleable__control:checked~label.sk-toggleable__label-arrow:before {content: \"▾\";}#sk-container-id-4 div.sk-estimator input.sk-toggleable__control:checked~label.sk-toggleable__label {background-color: #d4ebff;}#sk-container-id-4 div.sk-label input.sk-toggleable__control:checked~label.sk-toggleable__label {background-color: #d4ebff;}#sk-container-id-4 input.sk-hidden--visually {border: 0;clip: rect(1px 1px 1px 1px);clip: rect(1px, 1px, 1px, 1px);height: 1px;margin: -1px;overflow: hidden;padding: 0;position: absolute;width: 1px;}#sk-container-id-4 div.sk-estimator {font-family: monospace;background-color: #f0f8ff;border: 1px dotted black;border-radius: 0.25em;box-sizing: border-box;margin-bottom: 0.5em;}#sk-container-id-4 div.sk-estimator:hover {background-color: #d4ebff;}#sk-container-id-4 div.sk-parallel-item::after {content: \"\";width: 100%;border-bottom: 1px solid gray;flex-grow: 1;}#sk-container-id-4 div.sk-label:hover label.sk-toggleable__label {background-color: #d4ebff;}#sk-container-id-4 div.sk-serial::before {content: \"\";position: absolute;border-left: 1px solid gray;box-sizing: border-box;top: 0;bottom: 0;left: 50%;z-index: 0;}#sk-container-id-4 div.sk-serial {display: flex;flex-direction: column;align-items: center;background-color: white;padding-right: 0.2em;padding-left: 0.2em;position: relative;}#sk-container-id-4 div.sk-item {position: relative;z-index: 1;}#sk-container-id-4 div.sk-parallel {display: flex;align-items: stretch;justify-content: center;background-color: white;position: relative;}#sk-container-id-4 div.sk-item::before, #sk-container-id-4 div.sk-parallel-item::before {content: \"\";position: absolute;border-left: 1px solid gray;box-sizing: border-box;top: 0;bottom: 0;left: 50%;z-index: -1;}#sk-container-id-4 div.sk-parallel-item {display: flex;flex-direction: column;z-index: 1;position: relative;background-color: white;}#sk-container-id-4 div.sk-parallel-item:first-child::after {align-self: flex-end;width: 50%;}#sk-container-id-4 div.sk-parallel-item:last-child::after {align-self: flex-start;width: 50%;}#sk-container-id-4 div.sk-parallel-item:only-child::after {width: 0;}#sk-container-id-4 div.sk-dashed-wrapped {border: 1px dashed gray;margin: 0 0.4em 0.5em 0.4em;box-sizing: border-box;padding-bottom: 0.4em;background-color: white;}#sk-container-id-4 div.sk-label label {font-family: monospace;font-weight: bold;display: inline-block;line-height: 1.2em;}#sk-container-id-4 div.sk-label-container {text-align: center;}#sk-container-id-4 div.sk-container {/* jupyter's `normalize.less` sets `[hidden] { display: none; }` but bootstrap.min.css set `[hidden] { display: none !important; }` so we also need the `!important` here to be able to override the default hidden behavior on the sphinx rendered scikit-learn.org. See: https://github.com/scikit-learn/scikit-learn/issues/21755 */display: inline-block !important;position: relative;}#sk-container-id-4 div.sk-text-repr-fallback {display: none;}</style><div id=\"sk-container-id-4\" class=\"sk-top-container\"><div class=\"sk-text-repr-fallback\"><pre>SVC(kernel=&#x27;linear&#x27;)</pre><b>In a Jupyter environment, please rerun this cell to show the HTML representation or trust the notebook. <br />On GitHub, the HTML representation is unable to render, please try loading this page with nbviewer.org.</b></div><div class=\"sk-container\" hidden><div class=\"sk-item\"><div class=\"sk-estimator sk-toggleable\"><input class=\"sk-toggleable__control sk-hidden--visually\" id=\"sk-estimator-id-4\" type=\"checkbox\" checked><label for=\"sk-estimator-id-4\" class=\"sk-toggleable__label sk-toggleable__label-arrow\">SVC</label><div class=\"sk-toggleable__content\"><pre>SVC(kernel=&#x27;linear&#x27;)</pre></div></div></div></div></div>"
            ]
          },
          "metadata": {},
          "execution_count": 31
        }
      ]
    },
    {
      "cell_type": "code",
      "source": [
        "# Transform the test data using the same unigram and bigram term frequency vectorizer\n",
        "X_test_gram12_count = gram12_count_vectorizer.transform(X_test_sentiment_text)\n",
        "\n",
        "# Make predictions using the trained SVM model\n",
        "y_pred_svm_gram12 = svm_gram12_model.predict(X_test_gram12_count)\n",
        "\n",
        "# Calculate and print the accuracy score\n",
        "accuracy_svm_gram12 = svm_gram12_model.score(X_test_gram12_count, y_test_sentiment)\n",
        "print(\"Accuracy Score:\", accuracy_svm_gram12)\n",
        "\n",
        "# Calculate and print the confusion matrix\n",
        "cm_svm_gram12 = confusion_matrix(y_test_sentiment, y_pred_svm_gram12)\n",
        "print(\"Confusion Matrix:\")\n",
        "print(cm_svm_gram12)\n",
        "\n",
        "# Generate and print a classification report\n",
        "target_names_svm = ['n', 'p']  # Replace with your class names\n",
        "class_report_svm_gram12 = classification_report(y_test_sentiment, y_pred_svm_gram12, target_names=target_names_svm)\n",
        "print(\"Classification Report:\")\n",
        "print(class_report_svm_gram12)\n"
      ],
      "metadata": {
        "colab": {
          "base_uri": "https://localhost:8080/"
        },
        "id": "NW5ybJPKjuMn",
        "outputId": "e14f4d96-3979-403b-f683-0741d06ef383"
      },
      "execution_count": 32,
      "outputs": [
        {
          "output_type": "stream",
          "name": "stdout",
          "text": [
            "Accuracy Score: 1.0\n",
            "Confusion Matrix:\n",
            "[[16  0]\n",
            " [ 0 12]]\n",
            "Classification Report:\n",
            "              precision    recall  f1-score   support\n",
            "\n",
            "           n       1.00      1.00      1.00        16\n",
            "           p       1.00      1.00      1.00        12\n",
            "\n",
            "    accuracy                           1.00        28\n",
            "   macro avg       1.00      1.00      1.00        28\n",
            "weighted avg       1.00      1.00      1.00        28\n",
            "\n"
          ]
        }
      ]
    },
    {
      "cell_type": "markdown",
      "source": [
        "###Feature Analysis"
      ],
      "metadata": {
        "id": "at-TVGDaKlvw"
      }
    },
    {
      "cell_type": "code",
      "source": [
        "# Get feature names from the Binary Vectorizer's vocabulary\n",
        "feature_names_binary = gram12_count_vectorizer.get_feature_names_out()\n",
        "\n",
        "# Get coefficients from the trained SVM model\n",
        "coefficients_binary = svm_gram12_model.coef_.toarray()[0]\n",
        "\n",
        "# Sort feature indices by coefficient values in ascending order for negative features\n",
        "negative_feature_indices_binary = coefficients_binary.argsort()[:10]\n",
        "\n",
        "# Sort feature indices by coefficient values in descending order for positive features\n",
        "positive_feature_indices_binary = coefficients_binary.argsort()[-10:][::-1]\n",
        "\n",
        "# Get the top 10 negative features\n",
        "top_negative_features_binary = [feature_names_binary[i] for i in negative_feature_indices_binary]\n",
        "\n",
        "# Get the top 10 positive features\n",
        "top_positive_features_binary = [feature_names_binary[i] for i in positive_feature_indices_binary]\n",
        "\n",
        "print(\"Top 10 Negative Features (Linear Kernel, Binary Vectorizer):\")\n",
        "print( top_negative_features_binary)\n",
        "print(\"Top 10 Positive Features (Linear Kernel, Binary Vectorizer):\")\n",
        "print(top_positive_features_binary)\n"
      ],
      "metadata": {
        "colab": {
          "base_uri": "https://localhost:8080/"
        },
        "id": "Jl7KNcmOuxa1",
        "outputId": "429631e4-d976-48c6-fdbd-ddc066f6693e"
      },
      "execution_count": 33,
      "outputs": [
        {
          "output_type": "stream",
          "name": "stdout",
          "text": [
            "Top 10 Negative Features (Linear Kernel, Binary Vectorizer):\n",
            "['asked', 'dish', 'said', 'cold', 'place', 'drink', 'table', 'terrible', 'worst', 'long']\n",
            "Top 10 Positive Features (Linear Kernel, Binary Vectorizer):\n",
            "['best', 'delicious', 'great', 'need', 'fresh', 'friendly', 'really', 'ask', 'amazing', 'family']\n"
          ]
        }
      ]
    },
    {
      "cell_type": "markdown",
      "source": [
        "###Error Analysis"
      ],
      "metadata": {
        "id": "AW3S-pWgKlvx"
      }
    },
    {
      "cell_type": "code",
      "source": [
        "\n",
        "# Create a DataFrame for error analysis\n",
        "error_analysis_df_svm_gram12 = pd.DataFrame({'Actual': y_test_sentiment, 'Predicted': y_pred_gram12, 'Text': X_test_sentiment_text})\n",
        "\n",
        "# Filter and display incorrect predictions\n",
        "incorrect_predictions_svm_gram12 = error_analysis_df_svm_gram12[error_analysis_df_svm_gram12['Actual'] != error_analysis_df_svm_gram12['Predicted']]\n",
        "\n",
        "# Set maximum column width for better display\n",
        "pd.set_option('display.max_colwidth', 200)\n",
        "\n",
        "# Print all incorrect predictions for further analysis\n",
        "print(f\"All Incorrect Predictions ({len(incorrect_predictions_svm_gram12)} instances):\")\n",
        "display(incorrect_predictions_svm_gram12[['Actual', 'Predicted', 'Text']])"
      ],
      "metadata": {
        "colab": {
          "base_uri": "https://localhost:8080/",
          "height": 332
        },
        "id": "hk5CuGqW_40k",
        "outputId": "4322cb10-b64d-445c-c113-94fdfd8a7be8"
      },
      "execution_count": 34,
      "outputs": [
        {
          "output_type": "stream",
          "name": "stdout",
          "text": [
            "All Incorrect Predictions (4 instances):\n"
          ]
        },
        {
          "output_type": "display_data",
          "data": {
            "text/plain": [
              "   Actual Predicted  \\\n",
              "0       n         p   \n",
              "83      p         n   \n",
              "33      n         p   \n",
              "11      n         p   \n",
              "\n",
              "                                                                                                                                                                                                       Text  \n",
              "0                                                        pizza high point ny service slow quality low would think would know least make good pizza stick dish like stuffed pasta salad consider dining else  \n",
              "83                                                                                                                                                                                                           \n",
              "33                  place used great believe current state instead cool lounge used cheap smelly bar music soul bartender mean place longer exudes welcoming spirit crowd awkward old want old hangout back  \n",
              "11  went chipotle marshall street dinner experience horrible began order found steak chicken want steak burrito chipotle steak chicken worse sauce kind sauce believe eye never go chipotle marshall str...  "
            ],
            "text/html": [
              "\n",
              "  <div id=\"df-a1cc5971-dadc-4352-a68e-93fdcefbcc03\" class=\"colab-df-container\">\n",
              "    <div>\n",
              "<style scoped>\n",
              "    .dataframe tbody tr th:only-of-type {\n",
              "        vertical-align: middle;\n",
              "    }\n",
              "\n",
              "    .dataframe tbody tr th {\n",
              "        vertical-align: top;\n",
              "    }\n",
              "\n",
              "    .dataframe thead th {\n",
              "        text-align: right;\n",
              "    }\n",
              "</style>\n",
              "<table border=\"1\" class=\"dataframe\">\n",
              "  <thead>\n",
              "    <tr style=\"text-align: right;\">\n",
              "      <th></th>\n",
              "      <th>Actual</th>\n",
              "      <th>Predicted</th>\n",
              "      <th>Text</th>\n",
              "    </tr>\n",
              "  </thead>\n",
              "  <tbody>\n",
              "    <tr>\n",
              "      <th>0</th>\n",
              "      <td>n</td>\n",
              "      <td>p</td>\n",
              "      <td>pizza high point ny service slow quality low would think would know least make good pizza stick dish like stuffed pasta salad consider dining else</td>\n",
              "    </tr>\n",
              "    <tr>\n",
              "      <th>83</th>\n",
              "      <td>p</td>\n",
              "      <td>n</td>\n",
              "      <td></td>\n",
              "    </tr>\n",
              "    <tr>\n",
              "      <th>33</th>\n",
              "      <td>n</td>\n",
              "      <td>p</td>\n",
              "      <td>place used great believe current state instead cool lounge used cheap smelly bar music soul bartender mean place longer exudes welcoming spirit crowd awkward old want old hangout back</td>\n",
              "    </tr>\n",
              "    <tr>\n",
              "      <th>11</th>\n",
              "      <td>n</td>\n",
              "      <td>p</td>\n",
              "      <td>went chipotle marshall street dinner experience horrible began order found steak chicken want steak burrito chipotle steak chicken worse sauce kind sauce believe eye never go chipotle marshall str...</td>\n",
              "    </tr>\n",
              "  </tbody>\n",
              "</table>\n",
              "</div>\n",
              "    <div class=\"colab-df-buttons\">\n",
              "\n",
              "  <div class=\"colab-df-container\">\n",
              "    <button class=\"colab-df-convert\" onclick=\"convertToInteractive('df-a1cc5971-dadc-4352-a68e-93fdcefbcc03')\"\n",
              "            title=\"Convert this dataframe to an interactive table.\"\n",
              "            style=\"display:none;\">\n",
              "\n",
              "  <svg xmlns=\"http://www.w3.org/2000/svg\" height=\"24px\" viewBox=\"0 -960 960 960\">\n",
              "    <path d=\"M120-120v-720h720v720H120Zm60-500h600v-160H180v160Zm220 220h160v-160H400v160Zm0 220h160v-160H400v160ZM180-400h160v-160H180v160Zm440 0h160v-160H620v160ZM180-180h160v-160H180v160Zm440 0h160v-160H620v160Z\"/>\n",
              "  </svg>\n",
              "    </button>\n",
              "\n",
              "  <style>\n",
              "    .colab-df-container {\n",
              "      display:flex;\n",
              "      gap: 12px;\n",
              "    }\n",
              "\n",
              "    .colab-df-convert {\n",
              "      background-color: #E8F0FE;\n",
              "      border: none;\n",
              "      border-radius: 50%;\n",
              "      cursor: pointer;\n",
              "      display: none;\n",
              "      fill: #1967D2;\n",
              "      height: 32px;\n",
              "      padding: 0 0 0 0;\n",
              "      width: 32px;\n",
              "    }\n",
              "\n",
              "    .colab-df-convert:hover {\n",
              "      background-color: #E2EBFA;\n",
              "      box-shadow: 0px 1px 2px rgba(60, 64, 67, 0.3), 0px 1px 3px 1px rgba(60, 64, 67, 0.15);\n",
              "      fill: #174EA6;\n",
              "    }\n",
              "\n",
              "    .colab-df-buttons div {\n",
              "      margin-bottom: 4px;\n",
              "    }\n",
              "\n",
              "    [theme=dark] .colab-df-convert {\n",
              "      background-color: #3B4455;\n",
              "      fill: #D2E3FC;\n",
              "    }\n",
              "\n",
              "    [theme=dark] .colab-df-convert:hover {\n",
              "      background-color: #434B5C;\n",
              "      box-shadow: 0px 1px 3px 1px rgba(0, 0, 0, 0.15);\n",
              "      filter: drop-shadow(0px 1px 2px rgba(0, 0, 0, 0.3));\n",
              "      fill: #FFFFFF;\n",
              "    }\n",
              "  </style>\n",
              "\n",
              "    <script>\n",
              "      const buttonEl =\n",
              "        document.querySelector('#df-a1cc5971-dadc-4352-a68e-93fdcefbcc03 button.colab-df-convert');\n",
              "      buttonEl.style.display =\n",
              "        google.colab.kernel.accessAllowed ? 'block' : 'none';\n",
              "\n",
              "      async function convertToInteractive(key) {\n",
              "        const element = document.querySelector('#df-a1cc5971-dadc-4352-a68e-93fdcefbcc03');\n",
              "        const dataTable =\n",
              "          await google.colab.kernel.invokeFunction('convertToInteractive',\n",
              "                                                    [key], {});\n",
              "        if (!dataTable) return;\n",
              "\n",
              "        const docLinkHtml = 'Like what you see? Visit the ' +\n",
              "          '<a target=\"_blank\" href=https://colab.research.google.com/notebooks/data_table.ipynb>data table notebook</a>'\n",
              "          + ' to learn more about interactive tables.';\n",
              "        element.innerHTML = '';\n",
              "        dataTable['output_type'] = 'display_data';\n",
              "        await google.colab.output.renderOutput(dataTable, element);\n",
              "        const docLink = document.createElement('div');\n",
              "        docLink.innerHTML = docLinkHtml;\n",
              "        element.appendChild(docLink);\n",
              "      }\n",
              "    </script>\n",
              "  </div>\n",
              "\n",
              "\n",
              "<div id=\"df-1fd444ab-52a7-498e-8d27-e94cba71964c\">\n",
              "  <button class=\"colab-df-quickchart\" onclick=\"quickchart('df-1fd444ab-52a7-498e-8d27-e94cba71964c')\"\n",
              "            title=\"Suggest charts.\"\n",
              "            style=\"display:none;\">\n",
              "\n",
              "<svg xmlns=\"http://www.w3.org/2000/svg\" height=\"24px\"viewBox=\"0 0 24 24\"\n",
              "     width=\"24px\">\n",
              "    <g>\n",
              "        <path d=\"M19 3H5c-1.1 0-2 .9-2 2v14c0 1.1.9 2 2 2h14c1.1 0 2-.9 2-2V5c0-1.1-.9-2-2-2zM9 17H7v-7h2v7zm4 0h-2V7h2v10zm4 0h-2v-4h2v4z\"/>\n",
              "    </g>\n",
              "</svg>\n",
              "  </button>\n",
              "\n",
              "<style>\n",
              "  .colab-df-quickchart {\n",
              "      --bg-color: #E8F0FE;\n",
              "      --fill-color: #1967D2;\n",
              "      --hover-bg-color: #E2EBFA;\n",
              "      --hover-fill-color: #174EA6;\n",
              "      --disabled-fill-color: #AAA;\n",
              "      --disabled-bg-color: #DDD;\n",
              "  }\n",
              "\n",
              "  [theme=dark] .colab-df-quickchart {\n",
              "      --bg-color: #3B4455;\n",
              "      --fill-color: #D2E3FC;\n",
              "      --hover-bg-color: #434B5C;\n",
              "      --hover-fill-color: #FFFFFF;\n",
              "      --disabled-bg-color: #3B4455;\n",
              "      --disabled-fill-color: #666;\n",
              "  }\n",
              "\n",
              "  .colab-df-quickchart {\n",
              "    background-color: var(--bg-color);\n",
              "    border: none;\n",
              "    border-radius: 50%;\n",
              "    cursor: pointer;\n",
              "    display: none;\n",
              "    fill: var(--fill-color);\n",
              "    height: 32px;\n",
              "    padding: 0;\n",
              "    width: 32px;\n",
              "  }\n",
              "\n",
              "  .colab-df-quickchart:hover {\n",
              "    background-color: var(--hover-bg-color);\n",
              "    box-shadow: 0 1px 2px rgba(60, 64, 67, 0.3), 0 1px 3px 1px rgba(60, 64, 67, 0.15);\n",
              "    fill: var(--button-hover-fill-color);\n",
              "  }\n",
              "\n",
              "  .colab-df-quickchart-complete:disabled,\n",
              "  .colab-df-quickchart-complete:disabled:hover {\n",
              "    background-color: var(--disabled-bg-color);\n",
              "    fill: var(--disabled-fill-color);\n",
              "    box-shadow: none;\n",
              "  }\n",
              "\n",
              "  .colab-df-spinner {\n",
              "    border: 2px solid var(--fill-color);\n",
              "    border-color: transparent;\n",
              "    border-bottom-color: var(--fill-color);\n",
              "    animation:\n",
              "      spin 1s steps(1) infinite;\n",
              "  }\n",
              "\n",
              "  @keyframes spin {\n",
              "    0% {\n",
              "      border-color: transparent;\n",
              "      border-bottom-color: var(--fill-color);\n",
              "      border-left-color: var(--fill-color);\n",
              "    }\n",
              "    20% {\n",
              "      border-color: transparent;\n",
              "      border-left-color: var(--fill-color);\n",
              "      border-top-color: var(--fill-color);\n",
              "    }\n",
              "    30% {\n",
              "      border-color: transparent;\n",
              "      border-left-color: var(--fill-color);\n",
              "      border-top-color: var(--fill-color);\n",
              "      border-right-color: var(--fill-color);\n",
              "    }\n",
              "    40% {\n",
              "      border-color: transparent;\n",
              "      border-right-color: var(--fill-color);\n",
              "      border-top-color: var(--fill-color);\n",
              "    }\n",
              "    60% {\n",
              "      border-color: transparent;\n",
              "      border-right-color: var(--fill-color);\n",
              "    }\n",
              "    80% {\n",
              "      border-color: transparent;\n",
              "      border-right-color: var(--fill-color);\n",
              "      border-bottom-color: var(--fill-color);\n",
              "    }\n",
              "    90% {\n",
              "      border-color: transparent;\n",
              "      border-bottom-color: var(--fill-color);\n",
              "    }\n",
              "  }\n",
              "</style>\n",
              "\n",
              "  <script>\n",
              "    async function quickchart(key) {\n",
              "      const quickchartButtonEl =\n",
              "        document.querySelector('#' + key + ' button');\n",
              "      quickchartButtonEl.disabled = true;  // To prevent multiple clicks.\n",
              "      quickchartButtonEl.classList.add('colab-df-spinner');\n",
              "      try {\n",
              "        const charts = await google.colab.kernel.invokeFunction(\n",
              "            'suggestCharts', [key], {});\n",
              "      } catch (error) {\n",
              "        console.error('Error during call to suggestCharts:', error);\n",
              "      }\n",
              "      quickchartButtonEl.classList.remove('colab-df-spinner');\n",
              "      quickchartButtonEl.classList.add('colab-df-quickchart-complete');\n",
              "    }\n",
              "    (() => {\n",
              "      let quickchartButtonEl =\n",
              "        document.querySelector('#df-1fd444ab-52a7-498e-8d27-e94cba71964c button');\n",
              "      quickchartButtonEl.style.display =\n",
              "        google.colab.kernel.accessAllowed ? 'block' : 'none';\n",
              "    })();\n",
              "  </script>\n",
              "</div>\n",
              "    </div>\n",
              "  </div>\n"
            ]
          },
          "metadata": {}
        }
      ]
    },
    {
      "cell_type": "markdown",
      "source": [
        "#SVM: Unigram TF-IDF Vectorizer"
      ],
      "metadata": {
        "id": "283QHFfbIy3I"
      }
    },
    {
      "cell_type": "code",
      "source": [
        "from sklearn.svm import SVC\n",
        "from sklearn.metrics import confusion_matrix, classification_report\n",
        "\n",
        "# Create an SVM model with unigram TF-IDF vectorizer\n",
        "svm_tfidf_model = SVC(kernel='linear')  # You can experiment with different kernels\n",
        "X_unigram_tfidf = unigram_tfidf_vectorizer.transform(X_sentiment_text)  # Use X_sentiment as your text data\n",
        "svm_tfidf_model.fit(X_unigram_tfidf, y_sentiment)\n",
        "\n"
      ],
      "metadata": {
        "colab": {
          "base_uri": "https://localhost:8080/",
          "height": 75
        },
        "id": "XFucyMKLBZjs",
        "outputId": "6bd6f9f2-7135-46da-fd68-e52502bfc84c"
      },
      "execution_count": 35,
      "outputs": [
        {
          "output_type": "execute_result",
          "data": {
            "text/plain": [
              "SVC(kernel='linear')"
            ],
            "text/html": [
              "<style>#sk-container-id-5 {color: black;background-color: white;}#sk-container-id-5 pre{padding: 0;}#sk-container-id-5 div.sk-toggleable {background-color: white;}#sk-container-id-5 label.sk-toggleable__label {cursor: pointer;display: block;width: 100%;margin-bottom: 0;padding: 0.3em;box-sizing: border-box;text-align: center;}#sk-container-id-5 label.sk-toggleable__label-arrow:before {content: \"▸\";float: left;margin-right: 0.25em;color: #696969;}#sk-container-id-5 label.sk-toggleable__label-arrow:hover:before {color: black;}#sk-container-id-5 div.sk-estimator:hover label.sk-toggleable__label-arrow:before {color: black;}#sk-container-id-5 div.sk-toggleable__content {max-height: 0;max-width: 0;overflow: hidden;text-align: left;background-color: #f0f8ff;}#sk-container-id-5 div.sk-toggleable__content pre {margin: 0.2em;color: black;border-radius: 0.25em;background-color: #f0f8ff;}#sk-container-id-5 input.sk-toggleable__control:checked~div.sk-toggleable__content {max-height: 200px;max-width: 100%;overflow: auto;}#sk-container-id-5 input.sk-toggleable__control:checked~label.sk-toggleable__label-arrow:before {content: \"▾\";}#sk-container-id-5 div.sk-estimator input.sk-toggleable__control:checked~label.sk-toggleable__label {background-color: #d4ebff;}#sk-container-id-5 div.sk-label input.sk-toggleable__control:checked~label.sk-toggleable__label {background-color: #d4ebff;}#sk-container-id-5 input.sk-hidden--visually {border: 0;clip: rect(1px 1px 1px 1px);clip: rect(1px, 1px, 1px, 1px);height: 1px;margin: -1px;overflow: hidden;padding: 0;position: absolute;width: 1px;}#sk-container-id-5 div.sk-estimator {font-family: monospace;background-color: #f0f8ff;border: 1px dotted black;border-radius: 0.25em;box-sizing: border-box;margin-bottom: 0.5em;}#sk-container-id-5 div.sk-estimator:hover {background-color: #d4ebff;}#sk-container-id-5 div.sk-parallel-item::after {content: \"\";width: 100%;border-bottom: 1px solid gray;flex-grow: 1;}#sk-container-id-5 div.sk-label:hover label.sk-toggleable__label {background-color: #d4ebff;}#sk-container-id-5 div.sk-serial::before {content: \"\";position: absolute;border-left: 1px solid gray;box-sizing: border-box;top: 0;bottom: 0;left: 50%;z-index: 0;}#sk-container-id-5 div.sk-serial {display: flex;flex-direction: column;align-items: center;background-color: white;padding-right: 0.2em;padding-left: 0.2em;position: relative;}#sk-container-id-5 div.sk-item {position: relative;z-index: 1;}#sk-container-id-5 div.sk-parallel {display: flex;align-items: stretch;justify-content: center;background-color: white;position: relative;}#sk-container-id-5 div.sk-item::before, #sk-container-id-5 div.sk-parallel-item::before {content: \"\";position: absolute;border-left: 1px solid gray;box-sizing: border-box;top: 0;bottom: 0;left: 50%;z-index: -1;}#sk-container-id-5 div.sk-parallel-item {display: flex;flex-direction: column;z-index: 1;position: relative;background-color: white;}#sk-container-id-5 div.sk-parallel-item:first-child::after {align-self: flex-end;width: 50%;}#sk-container-id-5 div.sk-parallel-item:last-child::after {align-self: flex-start;width: 50%;}#sk-container-id-5 div.sk-parallel-item:only-child::after {width: 0;}#sk-container-id-5 div.sk-dashed-wrapped {border: 1px dashed gray;margin: 0 0.4em 0.5em 0.4em;box-sizing: border-box;padding-bottom: 0.4em;background-color: white;}#sk-container-id-5 div.sk-label label {font-family: monospace;font-weight: bold;display: inline-block;line-height: 1.2em;}#sk-container-id-5 div.sk-label-container {text-align: center;}#sk-container-id-5 div.sk-container {/* jupyter's `normalize.less` sets `[hidden] { display: none; }` but bootstrap.min.css set `[hidden] { display: none !important; }` so we also need the `!important` here to be able to override the default hidden behavior on the sphinx rendered scikit-learn.org. See: https://github.com/scikit-learn/scikit-learn/issues/21755 */display: inline-block !important;position: relative;}#sk-container-id-5 div.sk-text-repr-fallback {display: none;}</style><div id=\"sk-container-id-5\" class=\"sk-top-container\"><div class=\"sk-text-repr-fallback\"><pre>SVC(kernel=&#x27;linear&#x27;)</pre><b>In a Jupyter environment, please rerun this cell to show the HTML representation or trust the notebook. <br />On GitHub, the HTML representation is unable to render, please try loading this page with nbviewer.org.</b></div><div class=\"sk-container\" hidden><div class=\"sk-item\"><div class=\"sk-estimator sk-toggleable\"><input class=\"sk-toggleable__control sk-hidden--visually\" id=\"sk-estimator-id-5\" type=\"checkbox\" checked><label for=\"sk-estimator-id-5\" class=\"sk-toggleable__label sk-toggleable__label-arrow\">SVC</label><div class=\"sk-toggleable__content\"><pre>SVC(kernel=&#x27;linear&#x27;)</pre></div></div></div></div></div>"
            ]
          },
          "metadata": {},
          "execution_count": 35
        }
      ]
    },
    {
      "cell_type": "code",
      "source": [
        "# Transform the test data using the same TF-IDF vectorizer\n",
        "X_test_unigram_tfidf = unigram_tfidf_vectorizer.transform(X_test_sentiment_text)\n",
        "\n",
        "# Make predictions using the trained SVM TF-IDF model\n",
        "y_pred_svm = svm_tfidf_model.predict(X_test_unigram_tfidf)\n",
        "\n",
        "# Calculate and print the accuracy score\n",
        "accuracy_svm = svm_tfidf_model.score(X_test_unigram_tfidf, y_test_sentiment)\n",
        "print(\"Accuracy Score:\", accuracy_svm)\n",
        "\n",
        "# Calculate and print the confusion matrix\n",
        "cm_svm = confusion_matrix(y_test_sentiment, y_pred_svm)\n",
        "print(\"Confusion Matrix:\")\n",
        "print(cm_svm)\n",
        "\n",
        "# Generate and print a classification report\n",
        "target_names_svm = ['n', 'p']  # Replace with your class names\n",
        "class_report_svm = classification_report(y_test_sentiment, y_pred_svm, target_names=target_names_svm)\n",
        "print(\"Classification Report:\")\n",
        "print(class_report_svm)"
      ],
      "metadata": {
        "colab": {
          "base_uri": "https://localhost:8080/"
        },
        "id": "vQLeuEwXbkdr",
        "outputId": "bdd64b47-bdcf-4704-bc29-c9830be60d97"
      },
      "execution_count": 36,
      "outputs": [
        {
          "output_type": "stream",
          "name": "stdout",
          "text": [
            "Accuracy Score: 0.9642857142857143\n",
            "Confusion Matrix:\n",
            "[[15  1]\n",
            " [ 0 12]]\n",
            "Classification Report:\n",
            "              precision    recall  f1-score   support\n",
            "\n",
            "           n       1.00      0.94      0.97        16\n",
            "           p       0.92      1.00      0.96        12\n",
            "\n",
            "    accuracy                           0.96        28\n",
            "   macro avg       0.96      0.97      0.96        28\n",
            "weighted avg       0.97      0.96      0.96        28\n",
            "\n"
          ]
        }
      ]
    },
    {
      "cell_type": "markdown",
      "source": [
        "###Feature Analysis"
      ],
      "metadata": {
        "id": "xFEQdXpQKnBe"
      }
    },
    {
      "cell_type": "code",
      "source": [
        "# Get feature names from the Binary Vectorizer's vocabulary\n",
        "feature_names_binary = unigram_tfidf_vectorizer.get_feature_names_out()\n",
        "\n",
        "# Get coefficients from the trained SVM model\n",
        "coefficients_binary = svm_tfidf_model.coef_.toarray()[0]\n",
        "\n",
        "# Sort feature indices by coefficient values in ascending order for negative features\n",
        "negative_feature_indices_binary = coefficients_binary.argsort()[:10]\n",
        "\n",
        "# Sort feature indices by coefficient values in descending order for positive features\n",
        "positive_feature_indices_binary = coefficients_binary.argsort()[-10:][::-1]\n",
        "\n",
        "# Get the top 10 negative features\n",
        "top_negative_features_binary = [feature_names_binary[i] for i in negative_feature_indices_binary]\n",
        "\n",
        "# Get the top 10 positive features\n",
        "top_positive_features_binary = [feature_names_binary[i] for i in positive_feature_indices_binary]\n",
        "\n",
        "print(\"Top 10 Negative Features (Linear Kernel, Binary Vectorizer):\")\n",
        "print( top_negative_features_binary)\n",
        "print(\"Top 10 Positive Features (Linear Kernel, Binary Vectorizer):\")\n",
        "print(top_positive_features_binary)\n"
      ],
      "metadata": {
        "colab": {
          "base_uri": "https://localhost:8080/"
        },
        "id": "l9xaXockpRnm",
        "outputId": "683131ba-c4f4-4394-e857-455d399c0aab"
      },
      "execution_count": 37,
      "outputs": [
        {
          "output_type": "stream",
          "name": "stdout",
          "text": [
            "Top 10 Negative Features (Linear Kernel, Binary Vectorizer):\n",
            "['place', 'dish', 'bad', 'asked', 'terrible', 'took', 'drink', 'worst', 'minute', 'table']\n",
            "Top 10 Positive Features (Linear Kernel, Binary Vectorizer):\n",
            "['best', 'great', 'amazing', 'friendly', 'need', 'delicious', 'fresh', 'price', 'quality', 'right']\n"
          ]
        }
      ]
    },
    {
      "cell_type": "markdown",
      "source": [
        "###Error Analysis"
      ],
      "metadata": {
        "id": "sB5L2HZvKnBe"
      }
    },
    {
      "cell_type": "code",
      "source": [
        "\n",
        "# Create a DataFrame for error analysis\n",
        "error_analysis_df_svm_tfidf = pd.DataFrame({'Actual': y_test_sentiment, 'Predicted': y_pred_svm, 'Text': X_test_sentiment_text})\n",
        "\n",
        "# Filter and display incorrect predictions\n",
        "incorrect_predictions_svm_tfidf = error_analysis_df_svm_tfidf[error_analysis_df_svm_tfidf['Actual'] != error_analysis_df_svm_tfidf['Predicted']]\n",
        "\n",
        "# Set maximum column width for better display\n",
        "pd.set_option('display.max_colwidth', 200)\n",
        "\n",
        "# Print all incorrect predictions for further analysis\n",
        "print(f\"All Incorrect Predictions ({len(incorrect_predictions_svm_tfidf)} instances):\")\n",
        "display(incorrect_predictions_svm_tfidf[['Actual', 'Predicted', 'Text']])"
      ],
      "metadata": {
        "colab": {
          "base_uri": "https://localhost:8080/",
          "height": 151
        },
        "id": "blmajqWCAOoK",
        "outputId": "ea07c817-9d56-459f-a416-be3e14dabfc8"
      },
      "execution_count": 38,
      "outputs": [
        {
          "output_type": "stream",
          "name": "stdout",
          "text": [
            "All Incorrect Predictions (1 instances):\n"
          ]
        },
        {
          "output_type": "display_data",
          "data": {
            "text/plain": [
              "   Actual Predicted  \\\n",
              "11      n         p   \n",
              "\n",
              "                                                                                                                                                                                                       Text  \n",
              "11  went chipotle marshall street dinner experience horrible began order found steak chicken want steak burrito chipotle steak chicken worse sauce kind sauce believe eye never go chipotle marshall str...  "
            ],
            "text/html": [
              "\n",
              "  <div id=\"df-bc501b81-fee5-4eaa-bfc0-f77e9084366e\" class=\"colab-df-container\">\n",
              "    <div>\n",
              "<style scoped>\n",
              "    .dataframe tbody tr th:only-of-type {\n",
              "        vertical-align: middle;\n",
              "    }\n",
              "\n",
              "    .dataframe tbody tr th {\n",
              "        vertical-align: top;\n",
              "    }\n",
              "\n",
              "    .dataframe thead th {\n",
              "        text-align: right;\n",
              "    }\n",
              "</style>\n",
              "<table border=\"1\" class=\"dataframe\">\n",
              "  <thead>\n",
              "    <tr style=\"text-align: right;\">\n",
              "      <th></th>\n",
              "      <th>Actual</th>\n",
              "      <th>Predicted</th>\n",
              "      <th>Text</th>\n",
              "    </tr>\n",
              "  </thead>\n",
              "  <tbody>\n",
              "    <tr>\n",
              "      <th>11</th>\n",
              "      <td>n</td>\n",
              "      <td>p</td>\n",
              "      <td>went chipotle marshall street dinner experience horrible began order found steak chicken want steak burrito chipotle steak chicken worse sauce kind sauce believe eye never go chipotle marshall str...</td>\n",
              "    </tr>\n",
              "  </tbody>\n",
              "</table>\n",
              "</div>\n",
              "    <div class=\"colab-df-buttons\">\n",
              "\n",
              "  <div class=\"colab-df-container\">\n",
              "    <button class=\"colab-df-convert\" onclick=\"convertToInteractive('df-bc501b81-fee5-4eaa-bfc0-f77e9084366e')\"\n",
              "            title=\"Convert this dataframe to an interactive table.\"\n",
              "            style=\"display:none;\">\n",
              "\n",
              "  <svg xmlns=\"http://www.w3.org/2000/svg\" height=\"24px\" viewBox=\"0 -960 960 960\">\n",
              "    <path d=\"M120-120v-720h720v720H120Zm60-500h600v-160H180v160Zm220 220h160v-160H400v160Zm0 220h160v-160H400v160ZM180-400h160v-160H180v160Zm440 0h160v-160H620v160ZM180-180h160v-160H180v160Zm440 0h160v-160H620v160Z\"/>\n",
              "  </svg>\n",
              "    </button>\n",
              "\n",
              "  <style>\n",
              "    .colab-df-container {\n",
              "      display:flex;\n",
              "      gap: 12px;\n",
              "    }\n",
              "\n",
              "    .colab-df-convert {\n",
              "      background-color: #E8F0FE;\n",
              "      border: none;\n",
              "      border-radius: 50%;\n",
              "      cursor: pointer;\n",
              "      display: none;\n",
              "      fill: #1967D2;\n",
              "      height: 32px;\n",
              "      padding: 0 0 0 0;\n",
              "      width: 32px;\n",
              "    }\n",
              "\n",
              "    .colab-df-convert:hover {\n",
              "      background-color: #E2EBFA;\n",
              "      box-shadow: 0px 1px 2px rgba(60, 64, 67, 0.3), 0px 1px 3px 1px rgba(60, 64, 67, 0.15);\n",
              "      fill: #174EA6;\n",
              "    }\n",
              "\n",
              "    .colab-df-buttons div {\n",
              "      margin-bottom: 4px;\n",
              "    }\n",
              "\n",
              "    [theme=dark] .colab-df-convert {\n",
              "      background-color: #3B4455;\n",
              "      fill: #D2E3FC;\n",
              "    }\n",
              "\n",
              "    [theme=dark] .colab-df-convert:hover {\n",
              "      background-color: #434B5C;\n",
              "      box-shadow: 0px 1px 3px 1px rgba(0, 0, 0, 0.15);\n",
              "      filter: drop-shadow(0px 1px 2px rgba(0, 0, 0, 0.3));\n",
              "      fill: #FFFFFF;\n",
              "    }\n",
              "  </style>\n",
              "\n",
              "    <script>\n",
              "      const buttonEl =\n",
              "        document.querySelector('#df-bc501b81-fee5-4eaa-bfc0-f77e9084366e button.colab-df-convert');\n",
              "      buttonEl.style.display =\n",
              "        google.colab.kernel.accessAllowed ? 'block' : 'none';\n",
              "\n",
              "      async function convertToInteractive(key) {\n",
              "        const element = document.querySelector('#df-bc501b81-fee5-4eaa-bfc0-f77e9084366e');\n",
              "        const dataTable =\n",
              "          await google.colab.kernel.invokeFunction('convertToInteractive',\n",
              "                                                    [key], {});\n",
              "        if (!dataTable) return;\n",
              "\n",
              "        const docLinkHtml = 'Like what you see? Visit the ' +\n",
              "          '<a target=\"_blank\" href=https://colab.research.google.com/notebooks/data_table.ipynb>data table notebook</a>'\n",
              "          + ' to learn more about interactive tables.';\n",
              "        element.innerHTML = '';\n",
              "        dataTable['output_type'] = 'display_data';\n",
              "        await google.colab.output.renderOutput(dataTable, element);\n",
              "        const docLink = document.createElement('div');\n",
              "        docLink.innerHTML = docLinkHtml;\n",
              "        element.appendChild(docLink);\n",
              "      }\n",
              "    </script>\n",
              "  </div>\n",
              "\n",
              "    </div>\n",
              "  </div>\n"
            ]
          },
          "metadata": {}
        }
      ]
    },
    {
      "cell_type": "markdown",
      "source": [
        "#Authentic data : Analysis on True or Fake data"
      ],
      "metadata": {
        "id": "oAtpqbgCCUTu"
      }
    },
    {
      "cell_type": "code",
      "source": [
        "X_authenticity = df['review']\n",
        "y_authenticity = df['lie']"
      ],
      "metadata": {
        "id": "2shL4kzMCaCO"
      },
      "execution_count": 39,
      "outputs": []
    },
    {
      "cell_type": "code",
      "source": [
        "# Split the data into training and testing sets for authenticity classification\n",
        "X_train_authenticity, X_test_authenticity, y_train_authenticity, y_test_authenticity = train_test_split(\n",
        "    X_authenticity, y_authenticity, test_size=0.3, random_state=42)\n"
      ],
      "metadata": {
        "id": "N74yrigvDknA"
      },
      "execution_count": 40,
      "outputs": []
    },
    {
      "cell_type": "code",
      "source": [
        "X_authenticity_text = [' '.join(tokens) for tokens in X_authenticity]"
      ],
      "metadata": {
        "id": "HdKKfsdVD06c"
      },
      "execution_count": 41,
      "outputs": []
    },
    {
      "cell_type": "code",
      "source": [
        "X_test_authenticity_text=[' '.join(tokens) for tokens in X_test_authenticity]"
      ],
      "metadata": {
        "id": "XtyZe6Rh20PH"
      },
      "execution_count": 42,
      "outputs": []
    },
    {
      "cell_type": "markdown",
      "source": [
        "#MNB: Unigram Term Frequency Vectorizer"
      ],
      "metadata": {
        "id": "AXXylv_PI4QB"
      }
    },
    {
      "cell_type": "code",
      "source": [
        "mnb_count_model_authenticity = MultinomialNB()\n",
        "X_unigram_count_authenticity = unigram_count_vectorizer.fit_transform(X_authenticity_text)  # Use X_sentiment_text as your text data\n",
        "mnb_count_model_authenticity.fit(X_unigram_count_authenticity, y_authenticity)\n"
      ],
      "metadata": {
        "colab": {
          "base_uri": "https://localhost:8080/",
          "height": 75
        },
        "id": "IRfHsDTNDoBY",
        "outputId": "7e633f30-e149-4277-bbf3-455a6a9f1555"
      },
      "execution_count": 43,
      "outputs": [
        {
          "output_type": "execute_result",
          "data": {
            "text/plain": [
              "MultinomialNB()"
            ],
            "text/html": [
              "<style>#sk-container-id-6 {color: black;background-color: white;}#sk-container-id-6 pre{padding: 0;}#sk-container-id-6 div.sk-toggleable {background-color: white;}#sk-container-id-6 label.sk-toggleable__label {cursor: pointer;display: block;width: 100%;margin-bottom: 0;padding: 0.3em;box-sizing: border-box;text-align: center;}#sk-container-id-6 label.sk-toggleable__label-arrow:before {content: \"▸\";float: left;margin-right: 0.25em;color: #696969;}#sk-container-id-6 label.sk-toggleable__label-arrow:hover:before {color: black;}#sk-container-id-6 div.sk-estimator:hover label.sk-toggleable__label-arrow:before {color: black;}#sk-container-id-6 div.sk-toggleable__content {max-height: 0;max-width: 0;overflow: hidden;text-align: left;background-color: #f0f8ff;}#sk-container-id-6 div.sk-toggleable__content pre {margin: 0.2em;color: black;border-radius: 0.25em;background-color: #f0f8ff;}#sk-container-id-6 input.sk-toggleable__control:checked~div.sk-toggleable__content {max-height: 200px;max-width: 100%;overflow: auto;}#sk-container-id-6 input.sk-toggleable__control:checked~label.sk-toggleable__label-arrow:before {content: \"▾\";}#sk-container-id-6 div.sk-estimator input.sk-toggleable__control:checked~label.sk-toggleable__label {background-color: #d4ebff;}#sk-container-id-6 div.sk-label input.sk-toggleable__control:checked~label.sk-toggleable__label {background-color: #d4ebff;}#sk-container-id-6 input.sk-hidden--visually {border: 0;clip: rect(1px 1px 1px 1px);clip: rect(1px, 1px, 1px, 1px);height: 1px;margin: -1px;overflow: hidden;padding: 0;position: absolute;width: 1px;}#sk-container-id-6 div.sk-estimator {font-family: monospace;background-color: #f0f8ff;border: 1px dotted black;border-radius: 0.25em;box-sizing: border-box;margin-bottom: 0.5em;}#sk-container-id-6 div.sk-estimator:hover {background-color: #d4ebff;}#sk-container-id-6 div.sk-parallel-item::after {content: \"\";width: 100%;border-bottom: 1px solid gray;flex-grow: 1;}#sk-container-id-6 div.sk-label:hover label.sk-toggleable__label {background-color: #d4ebff;}#sk-container-id-6 div.sk-serial::before {content: \"\";position: absolute;border-left: 1px solid gray;box-sizing: border-box;top: 0;bottom: 0;left: 50%;z-index: 0;}#sk-container-id-6 div.sk-serial {display: flex;flex-direction: column;align-items: center;background-color: white;padding-right: 0.2em;padding-left: 0.2em;position: relative;}#sk-container-id-6 div.sk-item {position: relative;z-index: 1;}#sk-container-id-6 div.sk-parallel {display: flex;align-items: stretch;justify-content: center;background-color: white;position: relative;}#sk-container-id-6 div.sk-item::before, #sk-container-id-6 div.sk-parallel-item::before {content: \"\";position: absolute;border-left: 1px solid gray;box-sizing: border-box;top: 0;bottom: 0;left: 50%;z-index: -1;}#sk-container-id-6 div.sk-parallel-item {display: flex;flex-direction: column;z-index: 1;position: relative;background-color: white;}#sk-container-id-6 div.sk-parallel-item:first-child::after {align-self: flex-end;width: 50%;}#sk-container-id-6 div.sk-parallel-item:last-child::after {align-self: flex-start;width: 50%;}#sk-container-id-6 div.sk-parallel-item:only-child::after {width: 0;}#sk-container-id-6 div.sk-dashed-wrapped {border: 1px dashed gray;margin: 0 0.4em 0.5em 0.4em;box-sizing: border-box;padding-bottom: 0.4em;background-color: white;}#sk-container-id-6 div.sk-label label {font-family: monospace;font-weight: bold;display: inline-block;line-height: 1.2em;}#sk-container-id-6 div.sk-label-container {text-align: center;}#sk-container-id-6 div.sk-container {/* jupyter's `normalize.less` sets `[hidden] { display: none; }` but bootstrap.min.css set `[hidden] { display: none !important; }` so we also need the `!important` here to be able to override the default hidden behavior on the sphinx rendered scikit-learn.org. See: https://github.com/scikit-learn/scikit-learn/issues/21755 */display: inline-block !important;position: relative;}#sk-container-id-6 div.sk-text-repr-fallback {display: none;}</style><div id=\"sk-container-id-6\" class=\"sk-top-container\"><div class=\"sk-text-repr-fallback\"><pre>MultinomialNB()</pre><b>In a Jupyter environment, please rerun this cell to show the HTML representation or trust the notebook. <br />On GitHub, the HTML representation is unable to render, please try loading this page with nbviewer.org.</b></div><div class=\"sk-container\" hidden><div class=\"sk-item\"><div class=\"sk-estimator sk-toggleable\"><input class=\"sk-toggleable__control sk-hidden--visually\" id=\"sk-estimator-id-6\" type=\"checkbox\" checked><label for=\"sk-estimator-id-6\" class=\"sk-toggleable__label sk-toggleable__label-arrow\">MultinomialNB</label><div class=\"sk-toggleable__content\"><pre>MultinomialNB()</pre></div></div></div></div></div>"
            ]
          },
          "metadata": {},
          "execution_count": 43
        }
      ]
    },
    {
      "cell_type": "code",
      "source": [
        "# Import necessary libraries\n",
        "from sklearn.metrics import accuracy_score, confusion_matrix, precision_score, recall_score, classification_report\n",
        "\n",
        "# Transform the test data using the same unigram count vectorizer\n",
        "X_test_vec_count_authenticity = unigram_count_vectorizer.transform(X_test_authenticity_text)\n",
        "\n",
        "# Make predictions using the trained MNB unigram count model\n",
        "y_pred_count_authenticity = mnb_count_model_authenticity.predict(X_test_vec_count_authenticity)\n",
        "\n",
        "# Calculate and print the accuracy score\n",
        "accuracy_count_authenticity = accuracy_score(y_test_authenticity, y_pred_count_authenticity)\n",
        "print(\"Accuracy Score:\", accuracy_count_authenticity)\n",
        "\n",
        "# Calculate and print the confusion matrix\n",
        "cm_count_authenticity = confusion_matrix(y_test_authenticity, y_pred_count_authenticity, labels=['f', 't'])\n",
        "print(\"Confusion Matrix:\")\n",
        "print(cm_count_authenticity)\n",
        "\n",
        "# Calculate and print precision and recall for each class\n",
        "precision_count_authenticity = precision_score(y_test_authenticity, y_pred_count_authenticity, average=None, labels=['f', 't'])\n",
        "recall_count_authenticity = recall_score(y_test_authenticity, y_pred_count_authenticity, average=None, labels=['f', 't'])\n",
        "\n",
        "\n",
        "# Generate and print a classification report\n",
        "target_authenticity = ['f', 't']\n",
        "class_report_count_authenticity = classification_report(y_test_authenticity, y_pred_count_authenticity, target_names=target_authenticity)\n",
        "print(\"Classification Report:\")\n",
        "print(class_report_count_authenticity)\n"
      ],
      "metadata": {
        "colab": {
          "base_uri": "https://localhost:8080/"
        },
        "id": "Rt-rd01kxluS",
        "outputId": "6da9a6bd-938c-4d3f-fb3c-68d4164c3896"
      },
      "execution_count": 44,
      "outputs": [
        {
          "output_type": "stream",
          "name": "stdout",
          "text": [
            "Accuracy Score: 0.75\n",
            "Confusion Matrix:\n",
            "[[12  3]\n",
            " [ 4  9]]\n",
            "Classification Report:\n",
            "              precision    recall  f1-score   support\n",
            "\n",
            "           f       0.75      0.80      0.77        15\n",
            "           t       0.75      0.69      0.72        13\n",
            "\n",
            "    accuracy                           0.75        28\n",
            "   macro avg       0.75      0.75      0.75        28\n",
            "weighted avg       0.75      0.75      0.75        28\n",
            "\n"
          ]
        }
      ]
    },
    {
      "cell_type": "markdown",
      "source": [
        "###Feature Analysis"
      ],
      "metadata": {
        "id": "ScqNF2kvKut9"
      }
    },
    {
      "cell_type": "code",
      "source": [
        "# Get the feature log probabilities for MNB\n",
        "feature_log_probs_authenticity = mnb_count_model_authenticity.feature_log_prob_\n",
        "features = unigram_count_vectorizer.get_feature_names_out()\n",
        "\n",
        "# Calculate the log ratios between positive and negative sentiment\n",
        "log_ratios = [vpos - vneg for vpos, vneg in zip(feature_log_probs_sentiment[1], feature_log_probs_sentiment[0])]\n",
        "\n",
        "# Find the top N words for negative and positive sentiment\n",
        "topN = 10\n",
        "words_with_ratios = sorted(zip(log_ratios, features), reverse=True)\n",
        "\n",
        "# Print the top negative and positive words\n",
        "for label, words in [(\"Negative\", words_with_ratios[-topN:]), (\"Positive\", words_with_ratios[:topN])]:\n",
        "    print(f\"\\nTop {topN} {label} Words:\")\n",
        "    for key, value in words:\n",
        "        print(f'{key:<30} | {value}')\n"
      ],
      "metadata": {
        "colab": {
          "base_uri": "https://localhost:8080/"
        },
        "id": "a4vfcnQ6tjaG",
        "outputId": "5afc4762-bbe7-4291-b6c4-841eb4f1bbe1"
      },
      "execution_count": 45,
      "outputs": [
        {
          "output_type": "stream",
          "name": "stdout",
          "text": [
            "\n",
            "Top 10 Negative Words:\n",
            "-0.887525771874544             | came\n",
            "-0.9595744472675616            | drink\n",
            "-1.0120292195007377            | said\n",
            "-1.0127481590171756            | worst\n",
            "-1.019045060467933             | bad\n",
            "-1.0443381215844836            | come\n",
            "-1.0913214107459375            | asked\n",
            "-1.1066114282562536            | minute\n",
            "-1.1652532458679552            | took\n",
            "-1.389046725914798             | terrible\n",
            "\n",
            "Top 10 Positive Words:\n",
            "1.5452192564085747             | amazing\n",
            "1.4511435482504327             | best\n",
            "1.3051254317431926             | great\n",
            "1.1277951310758212             | love\n",
            "1.0182484654733788             | fresh\n",
            "0.9830233426129551             | friendly\n",
            "0.9158781683611652             | nice\n",
            "0.819740135125059              | delicious\n",
            "0.716525203537004              | ate\n",
            "0.7028522141739622             | quality\n"
          ]
        }
      ]
    },
    {
      "cell_type": "markdown",
      "source": [
        "###Error Analysis"
      ],
      "metadata": {
        "id": "Z4lgKXjCKut9"
      }
    },
    {
      "cell_type": "code",
      "source": [
        "# Create a DataFrame to store the actual labels, predicted labels, and corresponding texts\n",
        "error_analysis_df_authenticity = pd.DataFrame({'Actual': y_test_authenticity, 'Predicted': y_pred_count_authenticity, 'Text': X_test_authenticity_text})\n",
        "\n",
        "# Filter the DataFrame to show only instances where the prediction was incorrect\n",
        "incorrect_predictions_authenticity = error_analysis_df_authenticity[error_analysis_df_authenticity['Actual'] != error_analysis_df_authenticity['Predicted']]\n",
        "\n",
        "# Increase the maximum width of displayed columns in pandas\n",
        "pd.set_option('display.max_colwidth', 100)\n",
        "\n"
      ],
      "metadata": {
        "id": "TRvRl6qE-bXP"
      },
      "execution_count": 46,
      "outputs": []
    },
    {
      "cell_type": "code",
      "source": [
        "# Display all available incorrect predictions for further analysis\n",
        "print(f\"All Incorrect Predictions ({len(incorrect_predictions_authenticity)} instances):\")\n",
        "print(incorrect_predictions_authenticity[['Actual', 'Predicted', 'Text']])\n"
      ],
      "metadata": {
        "colab": {
          "base_uri": "https://localhost:8080/"
        },
        "id": "EHwO5ffmUj-e",
        "outputId": "f52ab2c7-9224-499e-ac60-6fd7dc787c70"
      },
      "execution_count": 47,
      "outputs": [
        {
          "output_type": "stream",
          "name": "stdout",
          "text": [
            "All Incorrect Predictions (7 instances):\n",
            "   Actual Predicted  \\\n",
            "55      f         t   \n",
            "72      t         f   \n",
            "39      t         f   \n",
            "83      t         f   \n",
            "12      f         t   \n",
            "28      t         f   \n",
            "49      f         t   \n",
            "\n",
            "                                                                                                   Text  \n",
            "55  day ago went rooftop restaurant nyc served brunch one best brunch ever view table serene could s...  \n",
            "72  cafe best owner great ethic food die pumpkin espresso milkshake named albert einstein 5 winning ...  \n",
            "39  restaurant quite popular recently went two friend 6pm really long queue waited almost 90 minute ...  \n",
            "83                                                                                                       \n",
            "12  entered restaurant waitress came blanking looking threw menu table said coldly help disappeared ...  \n",
            "28  went restaurant ordered complimentary salad waiter made bad face asked salad finished eating foo...  \n",
            "49  restaurant amazing felt like life worth living bit carmelized onion tofurky extravaganzaburger h...  \n"
          ]
        }
      ]
    },
    {
      "cell_type": "markdown",
      "source": [
        "#MNB: Unigram & Bigram Term Frequency Vectorizer"
      ],
      "metadata": {
        "id": "ESHcPWYft2nt"
      }
    },
    {
      "cell_type": "code",
      "source": [
        "# Create an MNB model with unigram and bigram term frequency vectorizer for authenticity classification\n",
        "from sklearn.naive_bayes import MultinomialNB\n",
        "\n",
        "mnb_gram12_model_authenticity = MultinomialNB()\n",
        "X_gram12_count_authenticity = gram12_count_vectorizer.fit_transform(X_authenticity_text)\n",
        "mnb_gram12_model_authenticity.fit(X_gram12_count_authenticity, y_authenticity)\n"
      ],
      "metadata": {
        "colab": {
          "base_uri": "https://localhost:8080/",
          "height": 75
        },
        "id": "y49gdzyIDvH0",
        "outputId": "1f33f9c6-e5b8-4166-a98d-1a3facf839aa"
      },
      "execution_count": 48,
      "outputs": [
        {
          "output_type": "execute_result",
          "data": {
            "text/plain": [
              "MultinomialNB()"
            ],
            "text/html": [
              "<style>#sk-container-id-7 {color: black;background-color: white;}#sk-container-id-7 pre{padding: 0;}#sk-container-id-7 div.sk-toggleable {background-color: white;}#sk-container-id-7 label.sk-toggleable__label {cursor: pointer;display: block;width: 100%;margin-bottom: 0;padding: 0.3em;box-sizing: border-box;text-align: center;}#sk-container-id-7 label.sk-toggleable__label-arrow:before {content: \"▸\";float: left;margin-right: 0.25em;color: #696969;}#sk-container-id-7 label.sk-toggleable__label-arrow:hover:before {color: black;}#sk-container-id-7 div.sk-estimator:hover label.sk-toggleable__label-arrow:before {color: black;}#sk-container-id-7 div.sk-toggleable__content {max-height: 0;max-width: 0;overflow: hidden;text-align: left;background-color: #f0f8ff;}#sk-container-id-7 div.sk-toggleable__content pre {margin: 0.2em;color: black;border-radius: 0.25em;background-color: #f0f8ff;}#sk-container-id-7 input.sk-toggleable__control:checked~div.sk-toggleable__content {max-height: 200px;max-width: 100%;overflow: auto;}#sk-container-id-7 input.sk-toggleable__control:checked~label.sk-toggleable__label-arrow:before {content: \"▾\";}#sk-container-id-7 div.sk-estimator input.sk-toggleable__control:checked~label.sk-toggleable__label {background-color: #d4ebff;}#sk-container-id-7 div.sk-label input.sk-toggleable__control:checked~label.sk-toggleable__label {background-color: #d4ebff;}#sk-container-id-7 input.sk-hidden--visually {border: 0;clip: rect(1px 1px 1px 1px);clip: rect(1px, 1px, 1px, 1px);height: 1px;margin: -1px;overflow: hidden;padding: 0;position: absolute;width: 1px;}#sk-container-id-7 div.sk-estimator {font-family: monospace;background-color: #f0f8ff;border: 1px dotted black;border-radius: 0.25em;box-sizing: border-box;margin-bottom: 0.5em;}#sk-container-id-7 div.sk-estimator:hover {background-color: #d4ebff;}#sk-container-id-7 div.sk-parallel-item::after {content: \"\";width: 100%;border-bottom: 1px solid gray;flex-grow: 1;}#sk-container-id-7 div.sk-label:hover label.sk-toggleable__label {background-color: #d4ebff;}#sk-container-id-7 div.sk-serial::before {content: \"\";position: absolute;border-left: 1px solid gray;box-sizing: border-box;top: 0;bottom: 0;left: 50%;z-index: 0;}#sk-container-id-7 div.sk-serial {display: flex;flex-direction: column;align-items: center;background-color: white;padding-right: 0.2em;padding-left: 0.2em;position: relative;}#sk-container-id-7 div.sk-item {position: relative;z-index: 1;}#sk-container-id-7 div.sk-parallel {display: flex;align-items: stretch;justify-content: center;background-color: white;position: relative;}#sk-container-id-7 div.sk-item::before, #sk-container-id-7 div.sk-parallel-item::before {content: \"\";position: absolute;border-left: 1px solid gray;box-sizing: border-box;top: 0;bottom: 0;left: 50%;z-index: -1;}#sk-container-id-7 div.sk-parallel-item {display: flex;flex-direction: column;z-index: 1;position: relative;background-color: white;}#sk-container-id-7 div.sk-parallel-item:first-child::after {align-self: flex-end;width: 50%;}#sk-container-id-7 div.sk-parallel-item:last-child::after {align-self: flex-start;width: 50%;}#sk-container-id-7 div.sk-parallel-item:only-child::after {width: 0;}#sk-container-id-7 div.sk-dashed-wrapped {border: 1px dashed gray;margin: 0 0.4em 0.5em 0.4em;box-sizing: border-box;padding-bottom: 0.4em;background-color: white;}#sk-container-id-7 div.sk-label label {font-family: monospace;font-weight: bold;display: inline-block;line-height: 1.2em;}#sk-container-id-7 div.sk-label-container {text-align: center;}#sk-container-id-7 div.sk-container {/* jupyter's `normalize.less` sets `[hidden] { display: none; }` but bootstrap.min.css set `[hidden] { display: none !important; }` so we also need the `!important` here to be able to override the default hidden behavior on the sphinx rendered scikit-learn.org. See: https://github.com/scikit-learn/scikit-learn/issues/21755 */display: inline-block !important;position: relative;}#sk-container-id-7 div.sk-text-repr-fallback {display: none;}</style><div id=\"sk-container-id-7\" class=\"sk-top-container\"><div class=\"sk-text-repr-fallback\"><pre>MultinomialNB()</pre><b>In a Jupyter environment, please rerun this cell to show the HTML representation or trust the notebook. <br />On GitHub, the HTML representation is unable to render, please try loading this page with nbviewer.org.</b></div><div class=\"sk-container\" hidden><div class=\"sk-item\"><div class=\"sk-estimator sk-toggleable\"><input class=\"sk-toggleable__control sk-hidden--visually\" id=\"sk-estimator-id-7\" type=\"checkbox\" checked><label for=\"sk-estimator-id-7\" class=\"sk-toggleable__label sk-toggleable__label-arrow\">MultinomialNB</label><div class=\"sk-toggleable__content\"><pre>MultinomialNB()</pre></div></div></div></div></div>"
            ]
          },
          "metadata": {},
          "execution_count": 48
        }
      ]
    },
    {
      "cell_type": "code",
      "source": [
        "from sklearn.metrics import accuracy_score, confusion_matrix, precision_score, recall_score, classification_report\n",
        "\n",
        "# Transform the test data using the same unigram and bigram count vectorizer\n",
        "X_test_vec_gram12_authenticity = gram12_count_vectorizer.transform(X_test_authenticity_text)\n",
        "\n",
        "# Make predictions using the trained MNB unigram and bigram count model\n",
        "y_pred_gram12_authenticity = mnb_gram12_model_authenticity.predict(X_test_vec_gram12_authenticity)\n",
        "\n",
        "# Calculate and print the accuracy score\n",
        "accuracy_gram12_authenticity = accuracy_score(y_test_authenticity, y_pred_gram12_authenticity)\n",
        "print(\"Accuracy Score:\", accuracy_gram12_authenticity)\n",
        "\n",
        "# Calculate and print the confusion matrix\n",
        "cm_gram12_authenticity = confusion_matrix(y_test_authenticity, y_pred_gram12_authenticity, labels=['f', 't'])\n",
        "print(\"Confusion Matrix:\")\n",
        "print(cm_gram12_authenticity)\n",
        "\n",
        "# Calculate and print precision and recall for each class\n",
        "precision_gram12_authenticity = precision_score(y_test_authenticity, y_pred_gram12_authenticity, average=None, labels=['f', 't'])\n",
        "recall_gram12_authenticity = recall_score(y_test_authenticity, y_pred_gram12_authenticity, average=None, labels=['f', 't'])\n",
        "\n",
        "\n",
        "# Generate and print a classification report\n",
        "target_authenticity = ['f', 't']\n",
        "class_report_gram12_authenticity = classification_report(y_test_authenticity, y_pred_gram12_authenticity, target_names=target_authenticity)\n",
        "print(\"Classification Report:\")\n",
        "print(class_report_gram12_authenticity)\n",
        "\n",
        "\n",
        "\n",
        "\n"
      ],
      "metadata": {
        "colab": {
          "base_uri": "https://localhost:8080/"
        },
        "id": "-I3BqL-wBw5U",
        "outputId": "1b8740c0-00e7-47e3-f955-4c16e82f1b73"
      },
      "execution_count": 49,
      "outputs": [
        {
          "output_type": "stream",
          "name": "stdout",
          "text": [
            "Accuracy Score: 0.6785714285714286\n",
            "Confusion Matrix:\n",
            "[[10  5]\n",
            " [ 4  9]]\n",
            "Classification Report:\n",
            "              precision    recall  f1-score   support\n",
            "\n",
            "           f       0.71      0.67      0.69        15\n",
            "           t       0.64      0.69      0.67        13\n",
            "\n",
            "    accuracy                           0.68        28\n",
            "   macro avg       0.68      0.68      0.68        28\n",
            "weighted avg       0.68      0.68      0.68        28\n",
            "\n"
          ]
        }
      ]
    },
    {
      "cell_type": "markdown",
      "source": [
        "###Feature Analysis"
      ],
      "metadata": {
        "id": "kRBUkBEEKv83"
      }
    },
    {
      "cell_type": "code",
      "source": [
        "# Get the feature log probabilities for MNB\n",
        "feature_log_probs_sentiment = mnb_gram12_model_authenticity.feature_log_prob_\n",
        "features = gram12_count_vectorizer.get_feature_names_out()\n",
        "\n",
        "# Calculate the log ratios between positive and negative sentiment\n",
        "log_ratios = [vpos - vneg for vpos, vneg in zip(feature_log_probs_sentiment[1], feature_log_probs_sentiment[0])]\n",
        "\n",
        "# Find the top N words for negative and positive sentiment\n",
        "topN = 10\n",
        "words_with_ratios = sorted(zip(log_ratios, features), reverse=True)\n",
        "\n",
        "# Print the top negative and positive words\n",
        "for label, words in [(\"Negative\", words_with_ratios[-topN:]), (\"Positive\", words_with_ratios[:topN])]:\n",
        "    print(f\"\\nTop {topN} {label} Words:\")\n",
        "    for key, value in words:\n",
        "        print(f'{key:<30} | {value}')\n"
      ],
      "metadata": {
        "colab": {
          "base_uri": "https://localhost:8080/"
        },
        "id": "LHLPFPw5t4-d",
        "outputId": "2b87a0fd-904b-4367-acef-aeef78e77c44"
      },
      "execution_count": 50,
      "outputs": [
        {
          "output_type": "stream",
          "name": "stdout",
          "text": [
            "\n",
            "Top 10 Negative Words:\n",
            "-0.9421499549796692            | kind\n",
            "-0.9421499549796692            | bring\n",
            "-0.9421499549796701            | definitely\n",
            "-0.9962171762499459            | minute\n",
            "-1.0963006348069282            | worth\n",
            "-1.0963006348069282            | said\n",
            "-1.7894478153668736            | drink\n",
            "-1.7894478153668736            | 15 minute\n",
            "-1.7894478153668736            | 15\n",
            "-2.04076224364778              | cold\n",
            "\n",
            "Top 10 Positive Words:\n",
            "1.409225302183808              | environment\n",
            "1.3604351380143758             | people\n",
            "1.2550746223565499             | cheese\n",
            "1.255074622356549              | pretty\n",
            "1.255074622356549              | make\n",
            "1.255074622356549              | bar\n",
            "1.137291586700166              | chinese\n",
            "1.072753065562595              | music\n",
            "1.072753065562595              | home\n",
            "1.0037601940756438             | time\n"
          ]
        }
      ]
    },
    {
      "cell_type": "markdown",
      "source": [
        "###Error Analysis"
      ],
      "metadata": {
        "id": "0H-YVtJyKv83"
      }
    },
    {
      "cell_type": "code",
      "source": [
        "# Create a DataFrame to store the actual labels, predicted labels, and corresponding texts\n",
        "error_analysis_df_gram12_authenticity = pd.DataFrame({'Actual': y_test_authenticity, 'Predicted': y_pred_gram12_authenticity, 'Text': X_test_authenticity_text})\n",
        "\n",
        "# Filter the DataFrame to show only instances where the prediction was incorrect\n",
        "incorrect_predictions_gram12_authenticity = error_analysis_df_gram12_authenticity[error_analysis_df_gram12_authenticity['Actual'] != error_analysis_df_gram12_authenticity['Predicted']]\n",
        "\n",
        "# Increase the maximum width of displayed columns in pandas\n",
        "pd.set_option('display.max_colwidth', 100)\n",
        "\n",
        "# Display all available incorrect predictions for further analysis\n",
        "print(f\"All Incorrect Predictions ({len(incorrect_predictions_gram12_authenticity)} instances):\")\n",
        "print(incorrect_predictions_gram12_authenticity[['Actual', 'Predicted', 'Text']])\n"
      ],
      "metadata": {
        "colab": {
          "base_uri": "https://localhost:8080/"
        },
        "id": "WLWC91jL-stU",
        "outputId": "73a5a5ef-1bea-41d7-c022-f93445f35aef"
      },
      "execution_count": 51,
      "outputs": [
        {
          "output_type": "stream",
          "name": "stdout",
          "text": [
            "All Incorrect Predictions (9 instances):\n",
            "   Actual Predicted  \\\n",
            "55      f         t   \n",
            "72      t         f   \n",
            "39      t         f   \n",
            "10      f         t   \n",
            "83      t         f   \n",
            "12      f         t   \n",
            "28      t         f   \n",
            "49      f         t   \n",
            "68      f         t   \n",
            "\n",
            "                                                                                                   Text  \n",
            "55  day ago went rooftop restaurant nyc served brunch one best brunch ever view table serene could s...  \n",
            "72  cafe best owner great ethic food die pumpkin espresso milkshake named albert einstein 5 winning ...  \n",
            "39  restaurant quite popular recently went two friend 6pm really long queue waited almost 90 minute ...  \n",
            "10  weekend went place called ratastic shocked company numerous rat would expect someone shut place ...  \n",
            "83                                                                                                       \n",
            "12  entered restaurant waitress came blanking looking threw menu table said coldly help disappeared ...  \n",
            "28  went restaurant ordered complimentary salad waiter made bad face asked salad finished eating foo...  \n",
            "49  restaurant amazing felt like life worth living bit carmelized onion tofurky extravaganzaburger h...  \n",
            "68  ate restaurant called banana leaf entered restaurant really liked ambiance ordered noodle soup f...  \n"
          ]
        }
      ]
    },
    {
      "cell_type": "markdown",
      "source": [
        "#MNB: Unigram TF-IDF Vectorizer"
      ],
      "metadata": {
        "id": "KutOT3DwJCJ9"
      }
    },
    {
      "cell_type": "code",
      "source": [
        "from sklearn.naive_bayes import MultinomialNB\n",
        "\n",
        "# Create an MNB model with unigram TF-IDF vectorizer\n",
        "mnb_tfidf_model_authenticity = MultinomialNB()\n",
        "X_unigram_tfidf_authenticity = unigram_tfidf_vectorizer.fit_transform(X_authenticity_text)\n",
        "mnb_tfidf_model_authenticity.fit(X_unigram_tfidf_authenticity, y_authenticity)"
      ],
      "metadata": {
        "colab": {
          "base_uri": "https://localhost:8080/",
          "height": 75
        },
        "id": "AoijwLl2C-qb",
        "outputId": "8e89e5f8-a05f-412e-e05d-23861293a5e7"
      },
      "execution_count": 52,
      "outputs": [
        {
          "output_type": "execute_result",
          "data": {
            "text/plain": [
              "MultinomialNB()"
            ],
            "text/html": [
              "<style>#sk-container-id-8 {color: black;background-color: white;}#sk-container-id-8 pre{padding: 0;}#sk-container-id-8 div.sk-toggleable {background-color: white;}#sk-container-id-8 label.sk-toggleable__label {cursor: pointer;display: block;width: 100%;margin-bottom: 0;padding: 0.3em;box-sizing: border-box;text-align: center;}#sk-container-id-8 label.sk-toggleable__label-arrow:before {content: \"▸\";float: left;margin-right: 0.25em;color: #696969;}#sk-container-id-8 label.sk-toggleable__label-arrow:hover:before {color: black;}#sk-container-id-8 div.sk-estimator:hover label.sk-toggleable__label-arrow:before {color: black;}#sk-container-id-8 div.sk-toggleable__content {max-height: 0;max-width: 0;overflow: hidden;text-align: left;background-color: #f0f8ff;}#sk-container-id-8 div.sk-toggleable__content pre {margin: 0.2em;color: black;border-radius: 0.25em;background-color: #f0f8ff;}#sk-container-id-8 input.sk-toggleable__control:checked~div.sk-toggleable__content {max-height: 200px;max-width: 100%;overflow: auto;}#sk-container-id-8 input.sk-toggleable__control:checked~label.sk-toggleable__label-arrow:before {content: \"▾\";}#sk-container-id-8 div.sk-estimator input.sk-toggleable__control:checked~label.sk-toggleable__label {background-color: #d4ebff;}#sk-container-id-8 div.sk-label input.sk-toggleable__control:checked~label.sk-toggleable__label {background-color: #d4ebff;}#sk-container-id-8 input.sk-hidden--visually {border: 0;clip: rect(1px 1px 1px 1px);clip: rect(1px, 1px, 1px, 1px);height: 1px;margin: -1px;overflow: hidden;padding: 0;position: absolute;width: 1px;}#sk-container-id-8 div.sk-estimator {font-family: monospace;background-color: #f0f8ff;border: 1px dotted black;border-radius: 0.25em;box-sizing: border-box;margin-bottom: 0.5em;}#sk-container-id-8 div.sk-estimator:hover {background-color: #d4ebff;}#sk-container-id-8 div.sk-parallel-item::after {content: \"\";width: 100%;border-bottom: 1px solid gray;flex-grow: 1;}#sk-container-id-8 div.sk-label:hover label.sk-toggleable__label {background-color: #d4ebff;}#sk-container-id-8 div.sk-serial::before {content: \"\";position: absolute;border-left: 1px solid gray;box-sizing: border-box;top: 0;bottom: 0;left: 50%;z-index: 0;}#sk-container-id-8 div.sk-serial {display: flex;flex-direction: column;align-items: center;background-color: white;padding-right: 0.2em;padding-left: 0.2em;position: relative;}#sk-container-id-8 div.sk-item {position: relative;z-index: 1;}#sk-container-id-8 div.sk-parallel {display: flex;align-items: stretch;justify-content: center;background-color: white;position: relative;}#sk-container-id-8 div.sk-item::before, #sk-container-id-8 div.sk-parallel-item::before {content: \"\";position: absolute;border-left: 1px solid gray;box-sizing: border-box;top: 0;bottom: 0;left: 50%;z-index: -1;}#sk-container-id-8 div.sk-parallel-item {display: flex;flex-direction: column;z-index: 1;position: relative;background-color: white;}#sk-container-id-8 div.sk-parallel-item:first-child::after {align-self: flex-end;width: 50%;}#sk-container-id-8 div.sk-parallel-item:last-child::after {align-self: flex-start;width: 50%;}#sk-container-id-8 div.sk-parallel-item:only-child::after {width: 0;}#sk-container-id-8 div.sk-dashed-wrapped {border: 1px dashed gray;margin: 0 0.4em 0.5em 0.4em;box-sizing: border-box;padding-bottom: 0.4em;background-color: white;}#sk-container-id-8 div.sk-label label {font-family: monospace;font-weight: bold;display: inline-block;line-height: 1.2em;}#sk-container-id-8 div.sk-label-container {text-align: center;}#sk-container-id-8 div.sk-container {/* jupyter's `normalize.less` sets `[hidden] { display: none; }` but bootstrap.min.css set `[hidden] { display: none !important; }` so we also need the `!important` here to be able to override the default hidden behavior on the sphinx rendered scikit-learn.org. See: https://github.com/scikit-learn/scikit-learn/issues/21755 */display: inline-block !important;position: relative;}#sk-container-id-8 div.sk-text-repr-fallback {display: none;}</style><div id=\"sk-container-id-8\" class=\"sk-top-container\"><div class=\"sk-text-repr-fallback\"><pre>MultinomialNB()</pre><b>In a Jupyter environment, please rerun this cell to show the HTML representation or trust the notebook. <br />On GitHub, the HTML representation is unable to render, please try loading this page with nbviewer.org.</b></div><div class=\"sk-container\" hidden><div class=\"sk-item\"><div class=\"sk-estimator sk-toggleable\"><input class=\"sk-toggleable__control sk-hidden--visually\" id=\"sk-estimator-id-8\" type=\"checkbox\" checked><label for=\"sk-estimator-id-8\" class=\"sk-toggleable__label sk-toggleable__label-arrow\">MultinomialNB</label><div class=\"sk-toggleable__content\"><pre>MultinomialNB()</pre></div></div></div></div></div>"
            ]
          },
          "metadata": {},
          "execution_count": 52
        }
      ]
    },
    {
      "cell_type": "code",
      "source": [
        "\n",
        "from sklearn.metrics import accuracy_score, confusion_matrix, precision_score, recall_score, classification_report\n",
        "\n",
        "X_test_vec_tfidf_authenticity = unigram_tfidf_vectorizer.transform(X_test_authenticity_text)\n",
        "\n",
        "y_pred_tfidf_authenticity = mnb_tfidf_model_authenticity.predict(X_test_vec_tfidf_authenticity)\n",
        "\n",
        "accuracy_tfidf_authenticity = accuracy_score(y_test_authenticity, y_pred_tfidf_authenticity)\n",
        "print(\"Accuracy Score:\", accuracy_tfidf_authenticity)\n",
        "\n",
        "cm_tfidf_authenticity = confusion_matrix(y_test_authenticity, y_pred_tfidf_authenticity, labels=['f', 't'])\n",
        "print(\"Confusion Matrix:\")\n",
        "print(cm_tfidf_authenticity)\n",
        "\n",
        "precision_tfidf_authenticity = precision_score(y_test_authenticity, y_pred_tfidf_authenticity, average=None, labels=['f', 't'])\n",
        "recall_tfidf_authenticity = recall_score(y_test_authenticity, y_pred_tfidf_authenticity, average=None, labels=['f', 't'])\n",
        "\n",
        "target_authenticity = ['f', 't']\n",
        "class_report_tfidf_authenticity = classification_report(y_test_authenticity, y_pred_tfidf_authenticity, target_names=target_names_tfidf)\n",
        "print(\"Classification Report:\")\n",
        "print(class_report_tfidf_authenticity)\n"
      ],
      "metadata": {
        "colab": {
          "base_uri": "https://localhost:8080/"
        },
        "id": "DGe9o-fsEC65",
        "outputId": "3c3af796-ace6-41b1-db1f-0b788536684f"
      },
      "execution_count": 53,
      "outputs": [
        {
          "output_type": "stream",
          "name": "stdout",
          "text": [
            "Accuracy Score: 0.7857142857142857\n",
            "Confusion Matrix:\n",
            "[[13  2]\n",
            " [ 4  9]]\n",
            "Classification Report:\n",
            "              precision    recall  f1-score   support\n",
            "\n",
            "           n       0.76      0.87      0.81        15\n",
            "           p       0.82      0.69      0.75        13\n",
            "\n",
            "    accuracy                           0.79        28\n",
            "   macro avg       0.79      0.78      0.78        28\n",
            "weighted avg       0.79      0.79      0.78        28\n",
            "\n"
          ]
        }
      ]
    },
    {
      "cell_type": "markdown",
      "source": [
        "###Feature Analysis"
      ],
      "metadata": {
        "id": "JzKjA5D4KxO5"
      }
    },
    {
      "cell_type": "code",
      "source": [
        "# Get the feature log probabilities for MNB\n",
        "feature_log_probs_sentiment = mnb_tfidf_model_authenticity.feature_log_prob_\n",
        "features = unigram_tfidf_vectorizer.get_feature_names_out()\n",
        "\n",
        "# Calculate the log ratios between positive and negative sentiment\n",
        "log_ratios = [vpos - vneg for vpos, vneg in zip(feature_log_probs_sentiment[1], feature_log_probs_sentiment[0])]\n",
        "\n",
        "# Find the top N words for negative and positive sentiment\n",
        "topN = 10\n",
        "words_with_ratios = sorted(zip(log_ratios, features), reverse=True)\n",
        "\n",
        "# Print the top negative and positive words\n",
        "for label, words in [(\"Negative\", words_with_ratios[-topN:]), (\"Positive\", words_with_ratios[:topN])]:\n",
        "    print(f\"\\nTop {topN} {label} Words:\")\n",
        "    for key, value in words:\n",
        "        print(f'{key:<30} | {value}')\n"
      ],
      "metadata": {
        "colab": {
          "base_uri": "https://localhost:8080/"
        },
        "id": "-rhOvdxvuAnO",
        "outputId": "564f23e8-683e-478d-d148-ea40fb8ccb63"
      },
      "execution_count": 54,
      "outputs": [
        {
          "output_type": "stream",
          "name": "stdout",
          "text": [
            "\n",
            "Top 10 Negative Words:\n",
            "-0.597436256903733             | minute\n",
            "-0.606574910128729             | recommend\n",
            "-0.6375129510800566            | worth\n",
            "-0.6627992204134543            | definitely\n",
            "-0.6876259888752196            | bring\n",
            "-0.7002325008128416            | said\n",
            "-0.7288095232766754            | 15\n",
            "-0.7365391042327545            | kind\n",
            "-0.9364140510308108            | drink\n",
            "-1.0860706786542051            | cold\n",
            "\n",
            "Top 10 Positive Words:\n",
            "0.879620510857487              | people\n",
            "0.83284333379736               | environment\n",
            "0.8003328463998223             | bar\n",
            "0.7942626999765015             | cheese\n",
            "0.7269690919079013             | home\n",
            "0.7217808301002977             | music\n",
            "0.6909807702730344             | make\n",
            "0.6707491758208679             | pretty\n",
            "0.6413832079039548             | worst\n",
            "0.5235047758310261             | time\n"
          ]
        }
      ]
    },
    {
      "cell_type": "markdown",
      "source": [
        "###Error Analysis"
      ],
      "metadata": {
        "id": "A7sLOWmPKxO5"
      }
    },
    {
      "cell_type": "code",
      "source": [
        "# Create a DataFrame to store the actual labels, predicted labels, and corresponding texts\n",
        "error_analysis_df_tfidf_authenticity = pd.DataFrame({'Actual': y_test_authenticity, 'Predicted': y_pred_tfidf_authenticity, 'Text': X_test_authenticity_text})\n",
        "\n",
        "# Filter the DataFrame to show only instances where the prediction was incorrect\n",
        "incorrect_predictions_tfidf_authenticity = error_analysis_df_tfidf_authenticity[error_analysis_df_tfidf_authenticity['Actual'] != error_analysis_df_tfidf_authenticity['Predicted']]\n",
        "\n",
        "# Increase the maximum width of displayed columns in pandas\n",
        "pd.set_option('display.max_colwidth', 100)\n",
        "\n",
        "# Display all available incorrect predictions for further analysis\n",
        "print(f\"All Incorrect Predictions ({len(incorrect_predictions_tfidf_authenticity)} instances):\")\n",
        "print(incorrect_predictions_tfidf_authenticity[['Actual', 'Predicted', 'Text']])\n"
      ],
      "metadata": {
        "colab": {
          "base_uri": "https://localhost:8080/"
        },
        "id": "oRgSyG8Q-zgW",
        "outputId": "f7847c93-0b63-4e5d-9181-5adacae1023e"
      },
      "execution_count": 55,
      "outputs": [
        {
          "output_type": "stream",
          "name": "stdout",
          "text": [
            "All Incorrect Predictions (6 instances):\n",
            "   Actual Predicted  \\\n",
            "55      f         t   \n",
            "72      t         f   \n",
            "39      t         f   \n",
            "83      t         f   \n",
            "12      f         t   \n",
            "28      t         f   \n",
            "\n",
            "                                                                                                   Text  \n",
            "55  day ago went rooftop restaurant nyc served brunch one best brunch ever view table serene could s...  \n",
            "72  cafe best owner great ethic food die pumpkin espresso milkshake named albert einstein 5 winning ...  \n",
            "39  restaurant quite popular recently went two friend 6pm really long queue waited almost 90 minute ...  \n",
            "83                                                                                                       \n",
            "12  entered restaurant waitress came blanking looking threw menu table said coldly help disappeared ...  \n",
            "28  went restaurant ordered complimentary salad waiter made bad face asked salad finished eating foo...  \n"
          ]
        }
      ]
    },
    {
      "cell_type": "markdown",
      "source": [
        "#SVM: Unigram Term freuqency vectorizer"
      ],
      "metadata": {
        "id": "UMXcPNKKE4PR"
      }
    },
    {
      "cell_type": "code",
      "source": [
        "X_authenticity = df['review']\n",
        "y_authenticity = df['lie']"
      ],
      "metadata": {
        "id": "Ju_yvwOvff1H"
      },
      "execution_count": 56,
      "outputs": []
    },
    {
      "cell_type": "code",
      "source": [
        "# Split the data into training and testing sets for authenticity classification\n",
        "X_train_authenticity, X_test_authenticity, y_train_authenticity, y_test_authenticity = train_test_split(\n",
        "    X_authenticity, y_authenticity, test_size=0.4, random_state=42)\n"
      ],
      "metadata": {
        "id": "DrZWqQHffwHj"
      },
      "execution_count": 57,
      "outputs": []
    },
    {
      "cell_type": "code",
      "source": [
        "import pandas as pd\n",
        "from sklearn.model_selection import train_test_split\n",
        "from sklearn.feature_extraction.text import CountVectorizer\n",
        "from sklearn.svm import SVC\n",
        "from sklearn.metrics import accuracy_score, classification_report, confusion_matrix\n",
        "\n",
        "# Assuming X_train_authenticity and X_test_authenticity are lists of tokenized text\n",
        "# Convert tokenized text back to strings\n",
        "X_train_authenticity_text = [' '.join(tokens) for tokens in X_train_authenticity]\n",
        "X_test_authenticity_text = [' '.join(tokens) for tokens in X_test_authenticity]\n",
        "\n",
        "# Count Vectorization\n",
        "count_vectorizer = CountVectorizer()\n",
        "X_train_count = count_vectorizer.fit_transform(X_train_authenticity_text)\n",
        "X_test_count = count_vectorizer.transform(X_test_authenticity_text)\n",
        "\n",
        "# Support Vector Machine (SVM) model with a linear kernel\n",
        "svm_model_linear_avm_a = SVC(kernel='linear')\n",
        "\n",
        "# Train the SVM model with linear kernel\n",
        "svm_model_linear_avm_a.fit(X_train_count, y_train_authenticity)\n",
        "\n",
        "# Make predictions on the test set\n",
        "y_pred_linear_svm_a = svm_model_linear_avm_a.predict(X_test_count)\n",
        "\n",
        "# Evaluate the model with linear kernel and Count Vectorizer\n",
        "print(\"Accuracy (Linear Kernel, Count Vectorizer):\", accuracy_score(y_test_authenticity, y_pred_linear_svm_a))\n",
        "print(\"\\nClassification Report (Linear Kernel, Count Vectorizer):\\n\", classification_report(y_test_authenticity, y_pred_linear_svm_a))\n",
        "print(\"\\nConfusion Matrix (Linear Kernel, Count Vectorizer):\\n\", confusion_matrix(y_test_authenticity, y_pred_linear_svm_a))\n"
      ],
      "metadata": {
        "colab": {
          "base_uri": "https://localhost:8080/"
        },
        "id": "6OQ27qB5bnqi",
        "outputId": "87922f37-2d0c-4bf8-b113-fe438b6fd116"
      },
      "execution_count": 58,
      "outputs": [
        {
          "output_type": "stream",
          "name": "stdout",
          "text": [
            "Accuracy (Linear Kernel, Count Vectorizer): 0.5675675675675675\n",
            "\n",
            "Classification Report (Linear Kernel, Count Vectorizer):\n",
            "               precision    recall  f1-score   support\n",
            "\n",
            "           f       0.62      0.42      0.50        19\n",
            "           t       0.54      0.72      0.62        18\n",
            "\n",
            "    accuracy                           0.57        37\n",
            "   macro avg       0.58      0.57      0.56        37\n",
            "weighted avg       0.58      0.57      0.56        37\n",
            "\n",
            "\n",
            "Confusion Matrix (Linear Kernel, Count Vectorizer):\n",
            " [[ 8 11]\n",
            " [ 5 13]]\n"
          ]
        }
      ]
    },
    {
      "cell_type": "markdown",
      "source": [
        "###Feature Analysis"
      ],
      "metadata": {
        "id": "PF_sLsCkKylY"
      }
    },
    {
      "cell_type": "code",
      "source": [
        "# Get feature names from the Binary Vectorizer's vocabulary\n",
        "feature_names_binary = count_vectorizer.get_feature_names_out()\n",
        "\n",
        "# Get coefficients from the trained SVM model\n",
        "coefficients_binary = svm_model_linear_avm_a.coef_.toarray()[0]\n",
        "\n",
        "# Sort feature indices by coefficient values in ascending order for negative features\n",
        "negative_feature_indices_binary = coefficients_binary.argsort()[:10]\n",
        "\n",
        "# Sort feature indices by coefficient values in descending order for positive features\n",
        "positive_feature_indices_binary = coefficients_binary.argsort()[-10:][::-1]\n",
        "\n",
        "# Get the top 10 negative features\n",
        "top_negative_features_binary = [feature_names_binary[i] for i in negative_feature_indices_binary]\n",
        "\n",
        "# Get the top 10 positive features\n",
        "top_positive_features_binary = [feature_names_binary[i] for i in positive_feature_indices_binary]\n",
        "\n",
        "print(\"Top 10 Negative Features\")\n",
        "print( top_negative_features_binary)\n",
        "print(\"Top 10 Positive Features\")\n",
        "print(top_positive_features_binary)\n"
      ],
      "metadata": {
        "colab": {
          "base_uri": "https://localhost:8080/"
        },
        "id": "jWbwI7WdweYc",
        "outputId": "9d6e9115-db79-4668-860a-760303240ed1"
      },
      "execution_count": 59,
      "outputs": [
        {
          "output_type": "stream",
          "name": "stdout",
          "text": [
            "Top 10 Negative Features\n",
            "['went', 'noodle', 'great', 'quality', 'kind', 'service', 'cold', 'love', 'best', 'together']\n",
            "Top 10 Positive Features\n",
            "['time', 'make', 'people', 'indian', 'gone', 'environment', 'clean', 'nice', 'delicious', 'packed']\n"
          ]
        }
      ]
    },
    {
      "cell_type": "markdown",
      "source": [
        "###Error Analysis"
      ],
      "metadata": {
        "id": "MdBrzygWKylZ"
      }
    },
    {
      "cell_type": "code",
      "source": [
        "# Create a DataFrame to store the actual labels, predicted labels, and corresponding texts\n",
        "error_analysis_df = pd.DataFrame({'Actual': y_test_authenticity, 'Predicted': y_pred_linear_svm_a, 'Text': X_test_authenticity_text})\n",
        "\n",
        "# Add a column to indicate whether the prediction was correct\n",
        "error_analysis_df['Correct'] = error_analysis_df['Actual'] == error_analysis_df['Predicted']\n",
        "\n",
        "# Filter the DataFrame to show only instances where the prediction was incorrect\n",
        "incorrect_predictions = error_analysis_df[error_analysis_df['Correct'] == False]\n",
        "\n",
        "# Increase the maximum width of displayed columns in pandas\n",
        "pd.set_option('display.max_colwidth', 200)\n",
        "\n",
        "# Display all available incorrect predictions for further analysis\n",
        "print(f\"All Incorrect Predictions ({len(incorrect_predictions)} instances):\")\n",
        "print(incorrect_predictions[['Actual', 'Predicted', 'Text']])"
      ],
      "metadata": {
        "colab": {
          "base_uri": "https://localhost:8080/"
        },
        "id": "rFzx6QjqBRFA",
        "outputId": "1c712e00-ae6a-4055-878e-d8898123a837"
      },
      "execution_count": 60,
      "outputs": [
        {
          "output_type": "stream",
          "name": "stdout",
          "text": [
            "All Incorrect Predictions (16 instances):\n",
            "   Actual Predicted  \\\n",
            "22      f         t   \n",
            "72      t         f   \n",
            "10      f         t   \n",
            "44      t         f   \n",
            "12      f         t   \n",
            "4       f         t   \n",
            "18      f         t   \n",
            "28      t         f   \n",
            "49      f         t   \n",
            "15      f         t   \n",
            "78      t         f   \n",
            "66      f         t   \n",
            "69      t         f   \n",
            "9       f         t   \n",
            "47      f         t   \n",
            "16      f         t   \n",
            "\n",
            "                                                                                                                                                                                                       Text  \n",
            "22  recently ate restaurant called white castle dine wait 20 minute waiter came table take order even though busy wait another 30 minute order come ordered veggie burger fry iced tea veggie patty prop...  \n",
            "72  cafe best owner great ethic food die pumpkin espresso milkshake named albert einstein 5 winning food though vegan amazing fresh ingredient presentation speed service great reading material wifi ma...  \n",
            "10  weekend went place called ratastic shocked company numerous rat would expect someone shut place seems like everyone around romanticized certain disney movie would never take friend may come back q...  \n",
            "44  food lemongrass restaurant mixed bag mango burrata salad best salad life main entree dish ordered tofu bland prosecco good dessert adorable giant red balloon made raspberry sorbet great however re...  \n",
            "12  entered restaurant waitress came blanking looking threw menu table said coldly help disappeared waited waited one even notice went directly front desk order food long time later finally terrible f...  \n",
            "4   seven heaven restaurant never known superior service experienced last week disaster waiter would notice u asked 4 time bring u menu food exceptional either took though 2 minute bring u check spott...  \n",
            "18              service way average wait 10 minute could seated wait 20 minute menu shown u let tell food kitty hoynes irish pub restaurant terrible vegies cooked lamb cooked bread dry beer flat need say  \n",
            "28  went restaurant ordered complimentary salad waiter made bad face asked salad finished eating food waiter actually came back said order salad finish aghast asked bill promptly would never ever go b...  \n",
            "49                        restaurant amazing felt like life worth living bit carmelized onion tofurky extravaganzaburger highly reccommend going delicious food fun atmosphere decent price vegetarian good  \n",
            "15                    diner dish least one fly waiting hour dish cooked done taste reminds smell never want try food mouth could nightmare really want wake attitude waiter bad enough want step restaurant  \n",
            "78  went cruise dinner nyc spirit cruise far best dining experience ever life cruise kicked taking u uptown hudson river bar deck good chill music dance boat open air deck encircling manhattan gave on...  \n",
            "66  france restaurant michelin three star enter restaurant would feel drop new world waiter guide table need choose menu would accord customer help choose best menu menu consisted 16 course everyone a...  \n",
            "69     tree cicero ny huge salad bar high quality italian dish place kid friendly affordable sure get dessert take home later even stuffed big portion waitstaff attentive need quick check customer status  \n",
            "9   went called first thought name later blackjack table ordered attendant get round jack coke instead saying attendant said 6 preposterous never paid drink casino clearly casino understand people dri...  \n",
            "47                                                                                                    really like food best sushi town always fresh place great atmosphere well definitely coming back soon  \n",
            "16  went two friend 6pm long queue take u long wait waiter nice worked hurry ordered drink two icecream steak little bit salty acceptable friend like lamb chop cod filet much costed u almost 100 worth...  \n"
          ]
        }
      ]
    },
    {
      "cell_type": "markdown",
      "source": [
        "#SVM: Unigram & Bigram Term Frequency Vectorizer"
      ],
      "metadata": {
        "id": "VxWR5EAQJWeD"
      }
    },
    {
      "cell_type": "code",
      "source": [
        "from sklearn.metrics import accuracy_score, classification_report, confusion_matrix\n",
        "\n",
        "# Assuming X_train_authenticity and X_test_authenticity are lists of text data\n",
        "# Convert tokenized text back to strings\n",
        "X_train_authenticity_text = [' '.join(tokens) for tokens in X_train_authenticity]\n",
        "X_test_authenticity_text = [' '.join(tokens) for tokens in X_test_authenticity]\n",
        "\n",
        "# Create an SVM model with a linear kernel\n",
        "svm_gram12_model_authenticity = SVC(kernel='linear')\n",
        "\n",
        "# Perform unigram and bigram term frequency vectorization\n",
        "gram12_count_vectorizer = CountVectorizer(ngram_range=(1, 2))\n",
        "X_train_gram12_count_authenticity = gram12_count_vectorizer.fit_transform(X_train_authenticity_text)\n",
        "X_test_gram12_count_authenticity = gram12_count_vectorizer.transform(X_test_authenticity_text)\n",
        "\n",
        "# Fit the SVM model with unigram and bigram TF vectorization\n",
        "svm_gram12_model_authenticity.fit(X_train_gram12_count_authenticity, y_train_authenticity)\n",
        "\n",
        "# Make predictions on the test set\n",
        "y_pred_gram12_svm_authenticity = svm_gram12_model_authenticity.predict(X_test_gram12_count_authenticity)\n",
        "\n",
        "# Evaluate the model\n",
        "print(\"Accuracy (Linear Kernel, Unigram and Bigram TF Vectorizer):\", accuracy_score(y_test_authenticity, y_pred_gram12_svm_authenticity))\n",
        "print(\"\\nClassification Report (Linear Kernel, Unigram and Bigram TF Vectorizer):\\n\", classification_report(y_test_authenticity, y_pred_gram12_svm_authenticity))\n",
        "print(\"\\nConfusion Matrix (Linear Kernel, Unigram and Bigram TF Vectorizer):\\n\", confusion_matrix(y_test_authenticity, y_pred_gram12_svm_authenticity))\n"
      ],
      "metadata": {
        "colab": {
          "base_uri": "https://localhost:8080/"
        },
        "id": "bRr4qgVug6r2",
        "outputId": "1c60e046-5f81-4eb4-c652-e5f6ec3a8572"
      },
      "execution_count": 61,
      "outputs": [
        {
          "output_type": "stream",
          "name": "stdout",
          "text": [
            "Accuracy (Linear Kernel, Unigram and Bigram TF Vectorizer): 0.4864864864864865\n",
            "\n",
            "Classification Report (Linear Kernel, Unigram and Bigram TF Vectorizer):\n",
            "               precision    recall  f1-score   support\n",
            "\n",
            "           f       0.50      0.26      0.34        19\n",
            "           t       0.48      0.72      0.58        18\n",
            "\n",
            "    accuracy                           0.49        37\n",
            "   macro avg       0.49      0.49      0.46        37\n",
            "weighted avg       0.49      0.49      0.46        37\n",
            "\n",
            "\n",
            "Confusion Matrix (Linear Kernel, Unigram and Bigram TF Vectorizer):\n",
            " [[ 5 14]\n",
            " [ 5 13]]\n"
          ]
        }
      ]
    },
    {
      "cell_type": "markdown",
      "source": [
        "###Feature Analysis"
      ],
      "metadata": {
        "id": "VBefEP1aK1Id"
      }
    },
    {
      "cell_type": "code",
      "source": [
        "# Get feature names from the Binary Vectorizer's vocabulary\n",
        "feature_names_binary = gram12_count_vectorizer.get_feature_names_out()\n",
        "\n",
        "# Get coefficients from the trained SVM model\n",
        "coefficients_binary = svm_gram12_model_authenticity.coef_.toarray()[0]\n",
        "\n",
        "# Sort feature indices by coefficient values in ascending order for negative features\n",
        "negative_feature_indices_binary = coefficients_binary.argsort()[:10]\n",
        "\n",
        "# Sort feature indices by coefficient values in descending order for positive features\n",
        "positive_feature_indices_binary = coefficients_binary.argsort()[-10:][::-1]\n",
        "\n",
        "# Get the top 10 negative features\n",
        "top_negative_features_binary = [feature_names_binary[i] for i in negative_feature_indices_binary]\n",
        "\n",
        "# Get the top 10 positive features\n",
        "top_positive_features_binary = [feature_names_binary[i] for i in positive_feature_indices_binary]\n",
        "\n",
        "print(\"Top 10 Negative Features\")\n",
        "print( top_negative_features_binary)\n",
        "print(\"Top 10 Positive Features\")\n",
        "print(top_positive_features_binary)\n"
      ],
      "metadata": {
        "colab": {
          "base_uri": "https://localhost:8080/"
        },
        "id": "0hAJq_LIw7KX",
        "outputId": "9ed1fdfc-5fe0-4ac5-b989-7ea5787e2ba7"
      },
      "execution_count": 62,
      "outputs": [
        {
          "output_type": "stream",
          "name": "stdout",
          "text": [
            "Top 10 Negative Features\n",
            "['went', 'great', 'best', 'cold', 'service', 'kind', 'quality', 'noodle', 'dish', 'restaurant']\n",
            "Top 10 Positive Features\n",
            "['best restaurant', 'time', 'indian', 'make', 'restaurant ever', 'people', 'environment', 'gone', 'clean', 'food delicious']\n"
          ]
        }
      ]
    },
    {
      "cell_type": "markdown",
      "source": [
        "###Error Analysis"
      ],
      "metadata": {
        "id": "uXx-2uWEK1Ie"
      }
    },
    {
      "cell_type": "code",
      "source": [
        "# Create a DataFrame to store the actual labels, predicted labels, and corresponding texts\n",
        "error_analysis_df_svm_gram12 = pd.DataFrame({'Actual': y_test_authenticity, 'Predicted': y_pred_gram12_svm_authenticity, 'Text': X_test_authenticity_text})\n",
        "\n",
        "# Add a column to indicate whether the prediction was correct\n",
        "error_analysis_df_svm_gram12['Correct'] = error_analysis_df_svm_gram12['Actual'] == error_analysis_df_svm_gram12['Predicted']\n",
        "\n",
        "# Filter the DataFrame to show only instances where the prediction was incorrect\n",
        "incorrect_predictions_svm_gram12 = error_analysis_df_svm_gram12[error_analysis_df_svm_gram12['Correct'] == False]\n",
        "\n",
        "# Increase the maximum width of displayed columns in pandas\n",
        "pd.set_option('display.max_colwidth', 200)\n",
        "\n",
        "# Display all available incorrect predictions for further analysis\n",
        "print(f\"\\nAll Incorrect Predictions ({len(incorrect_predictions_svm_gram12)} instances):\")\n",
        "print(incorrect_predictions_svm_gram12[['Actual', 'Predicted', 'Text']])"
      ],
      "metadata": {
        "colab": {
          "base_uri": "https://localhost:8080/"
        },
        "id": "toD9IjwoBwlH",
        "outputId": "643f7739-e27c-47b7-aa39-65d79632e798"
      },
      "execution_count": 63,
      "outputs": [
        {
          "output_type": "stream",
          "name": "stdout",
          "text": [
            "\n",
            "All Incorrect Predictions (19 instances):\n",
            "   Actual Predicted  \\\n",
            "22      f         t   \n",
            "0       f         t   \n",
            "10      f         t   \n",
            "44      t         f   \n",
            "12      f         t   \n",
            "4       f         t   \n",
            "18      f         t   \n",
            "28      t         f   \n",
            "49      f         t   \n",
            "15      f         t   \n",
            "68      f         t   \n",
            "78      t         f   \n",
            "11      f         t   \n",
            "66      f         t   \n",
            "69      t         f   \n",
            "9       f         t   \n",
            "42      t         f   \n",
            "47      f         t   \n",
            "16      f         t   \n",
            "\n",
            "                                                                                                                                                                                                       Text  \n",
            "22  recently ate restaurant called white castle dine wait 20 minute waiter came table take order even though busy wait another 30 minute order come ordered veggie burger fry iced tea veggie patty prop...  \n",
            "0                                                        pizza high point ny service slow quality low would think would know least make good pizza stick dish like stuffed pasta salad consider dining else  \n",
            "10  weekend went place called ratastic shocked company numerous rat would expect someone shut place seems like everyone around romanticized certain disney movie would never take friend may come back q...  \n",
            "44  food lemongrass restaurant mixed bag mango burrata salad best salad life main entree dish ordered tofu bland prosecco good dessert adorable giant red balloon made raspberry sorbet great however re...  \n",
            "12  entered restaurant waitress came blanking looking threw menu table said coldly help disappeared waited waited one even notice went directly front desk order food long time later finally terrible f...  \n",
            "4   seven heaven restaurant never known superior service experienced last week disaster waiter would notice u asked 4 time bring u menu food exceptional either took though 2 minute bring u check spott...  \n",
            "18              service way average wait 10 minute could seated wait 20 minute menu shown u let tell food kitty hoynes irish pub restaurant terrible vegies cooked lamb cooked bread dry beer flat need say  \n",
            "28  went restaurant ordered complimentary salad waiter made bad face asked salad finished eating food waiter actually came back said order salad finish aghast asked bill promptly would never ever go b...  \n",
            "49                        restaurant amazing felt like life worth living bit carmelized onion tofurky extravaganzaburger highly reccommend going delicious food fun atmosphere decent price vegetarian good  \n",
            "15                    diner dish least one fly waiting hour dish cooked done taste reminds smell never want try food mouth could nightmare really want wake attitude waiter bad enough want step restaurant  \n",
            "68  ate restaurant called banana leaf entered restaurant really liked ambiance ordered noodle soup fried rice spicy black bean curry service pretty fast food tasted amazing lot flavor food truly enjoy...  \n",
            "78  went cruise dinner nyc spirit cruise far best dining experience ever life cruise kicked taking u uptown hudson river bar deck good chill music dance boat open air deck encircling manhattan gave on...  \n",
            "11  went chipotle marshall street dinner experience horrible began order found steak chicken want steak burrito chipotle steak chicken worse sauce kind sauce believe eye never go chipotle marshall str...  \n",
            "66  france restaurant michelin three star enter restaurant would feel drop new world waiter guide table need choose menu would accord customer help choose best menu menu consisted 16 course everyone a...  \n",
            "69     tree cicero ny huge salad bar high quality italian dish place kid friendly affordable sure get dessert take home later even stuffed big portion waitstaff attentive need quick check customer status  \n",
            "9   went called first thought name later blackjack table ordered attendant get round jack coke instead saying attendant said 6 preposterous never paid drink casino clearly casino understand people dri...  \n",
            "42  samrat food ordered dal tadka baigan bharta kadhai paneer jaljeera food ordered scrumptiously delicious place went saturday night went around 6 pm place bunch 6 people food came 10 minute environm...  \n",
            "47                                                                                                    really like food best sushi town always fresh place great atmosphere well definitely coming back soon  \n",
            "16  went two friend 6pm long queue take u long wait waiter nice worked hurry ordered drink two icecream steak little bit salty acceptable friend like lamb chop cod filet much costed u almost 100 worth...  \n"
          ]
        }
      ]
    },
    {
      "cell_type": "markdown",
      "source": [
        "#SVM: Unigram TF-IDF Vectorizer"
      ],
      "metadata": {
        "id": "4ac0as9KJcH8"
      }
    },
    {
      "cell_type": "code",
      "source": [
        "from sklearn.metrics import accuracy_score, classification_report, confusion_matrix\n",
        "\n",
        "# Assuming X_train_authenticity and X_test_authenticity are lists of text data\n",
        "# Convert tokenized text back to strings\n",
        "X_train_authenticity_text = [' '.join(tokens) for tokens in X_train_authenticity]\n",
        "X_test_authenticity_text = [' '.join(tokens) for tokens in X_test_authenticity]\n",
        "\n",
        "# Create an SVM model with a linear kernel\n",
        "svm_tfidf_model_authenticity = SVC(kernel='linear')\n",
        "\n",
        "# Perform unigram TF-IDF vectorization\n",
        "unigram_tfidf_vectorizer = TfidfVectorizer(ngram_range=(1, 1))\n",
        "X_train_unigram_tfidf_authenticity = unigram_tfidf_vectorizer.fit_transform(X_train_authenticity_text)\n",
        "X_test_unigram_tfidf_authenticity = unigram_tfidf_vectorizer.transform(X_test_authenticity_text)\n",
        "\n",
        "# Fit the SVM model with unigram TF-IDF vectorization\n",
        "svm_tfidf_model_authenticity.fit(X_train_unigram_tfidf_authenticity, y_train_authenticity)\n",
        "\n",
        "# Make predictions on the test set\n",
        "y_pred_unigram_tfidf_svm_authenticity = svm_tfidf_model_authenticity.predict(X_test_unigram_tfidf_authenticity)\n",
        "\n",
        "# Evaluate the model\n",
        "print(\"Accuracy (Linear Kernel, Unigram TF-IDF Vectorizer):\", accuracy_score(y_test_authenticity, y_pred_unigram_tfidf_svm_authenticity))\n",
        "print(\"\\nClassification Report (Linear Kernel, Unigram TF-IDF Vectorizer):\\n\", classification_report(y_test_authenticity, y_pred_unigram_tfidf_svm_authenticity))\n",
        "print(\"\\nConfusion Matrix (Linear Kernel, Unigram TF-IDF Vectorizer):\\n\", confusion_matrix(y_test_authenticity, y_pred_unigram_tfidf_svm_authenticity))\n"
      ],
      "metadata": {
        "id": "KnfFNodCFr3x",
        "colab": {
          "base_uri": "https://localhost:8080/"
        },
        "outputId": "7792f2bc-eccb-4b19-e2e1-40665da62ba1"
      },
      "execution_count": 64,
      "outputs": [
        {
          "output_type": "stream",
          "name": "stdout",
          "text": [
            "Accuracy (Linear Kernel, Unigram TF-IDF Vectorizer): 0.4864864864864865\n",
            "\n",
            "Classification Report (Linear Kernel, Unigram TF-IDF Vectorizer):\n",
            "               precision    recall  f1-score   support\n",
            "\n",
            "           f       0.50      0.26      0.34        19\n",
            "           t       0.48      0.72      0.58        18\n",
            "\n",
            "    accuracy                           0.49        37\n",
            "   macro avg       0.49      0.49      0.46        37\n",
            "weighted avg       0.49      0.49      0.46        37\n",
            "\n",
            "\n",
            "Confusion Matrix (Linear Kernel, Unigram TF-IDF Vectorizer):\n",
            " [[ 5 14]\n",
            " [ 5 13]]\n"
          ]
        }
      ]
    },
    {
      "cell_type": "markdown",
      "source": [
        "###Feature Analysis"
      ],
      "metadata": {
        "id": "heQfiOsUK3hb"
      }
    },
    {
      "cell_type": "code",
      "source": [
        "# Get feature names from the Binary Vectorizer's vocabulary\n",
        "feature_names_binary = unigram_tfidf_vectorizer.get_feature_names_out()\n",
        "\n",
        "# Get coefficients from the trained SVM model\n",
        "coefficients_binary = svm_tfidf_model_authenticity.coef_.toarray()[0]\n",
        "\n",
        "# Sort feature indices by coefficient values in ascending order for negative features\n",
        "negative_feature_indices_binary = coefficients_binary.argsort()[:10]\n",
        "\n",
        "# Sort feature indices by coefficient values in descending order for positive features\n",
        "positive_feature_indices_binary = coefficients_binary.argsort()[-10:][::-1]\n",
        "\n",
        "# Get the top 10 negative features\n",
        "top_negative_features_binary = [feature_names_binary[i] for i in negative_feature_indices_binary]\n",
        "\n",
        "# Get the top 10 positive features\n",
        "top_positive_features_binary = [feature_names_binary[i] for i in positive_feature_indices_binary]\n",
        "\n",
        "print(\"Top 10 Negative Features\")\n",
        "print( top_negative_features_binary)\n",
        "print(\"Top 10 Positive Features\")\n",
        "print(top_positive_features_binary)\n"
      ],
      "metadata": {
        "colab": {
          "base_uri": "https://localhost:8080/"
        },
        "id": "T1eMCprFsT2H",
        "outputId": "31536e9d-9bed-49cf-82da-cf6bd93aa393"
      },
      "execution_count": 65,
      "outputs": [
        {
          "output_type": "stream",
          "name": "stdout",
          "text": [
            "Top 10 Negative Features\n",
            "['cold', 'ice', 'plate', 'minute', 'waiter', 'birthday', 'kind', 'chocolate', 'came', 'area']\n",
            "Top 10 Positive Features\n",
            "['time', 'people', 'gone', 'restaurant', 'environment', 'make', 'indian', 'cheese', 'bad', 'noisy']\n"
          ]
        }
      ]
    },
    {
      "cell_type": "markdown",
      "source": [
        "###Error Analysis"
      ],
      "metadata": {
        "id": "Xbdyn3KFK3hb"
      }
    },
    {
      "cell_type": "code",
      "source": [
        "# Create a DataFrame to store the actual labels, predicted labels, and corresponding texts\n",
        "error_analysis_df_svm_tfidf = pd.DataFrame({'Actual': y_test_authenticity, 'Predicted': y_pred_unigram_tfidf_svm_authenticity, 'Text': X_test_authenticity_text})\n",
        "\n",
        "# Add a column to indicate whether the prediction was correct\n",
        "error_analysis_df_svm_tfidf['Correct'] = error_analysis_df_svm_tfidf['Actual'] == error_analysis_df_svm_tfidf['Predicted']\n",
        "\n",
        "# Filter the DataFrame to show only instances where the prediction was incorrect\n",
        "incorrect_predictions_svm_tfidf = error_analysis_df_svm_tfidf[error_analysis_df_svm_tfidf['Correct'] == False]\n",
        "\n",
        "# Increase the maximum width of displayed columns in pandas\n",
        "pd.set_option('display.max_colwidth', 200)\n",
        "\n",
        "# Display all available incorrect predictions for further analysis\n",
        "print(f\"\\nAll Incorrect Predictions ({len(incorrect_predictions_svm_tfidf)} instances):\")\n",
        "print(incorrect_predictions_svm_tfidf[['Actual', 'Predicted', 'Text']])"
      ],
      "metadata": {
        "colab": {
          "base_uri": "https://localhost:8080/"
        },
        "id": "lg2vFIVuCAbF",
        "outputId": "b97bb353-d5d1-49c4-cf11-e506c92def4e"
      },
      "execution_count": 66,
      "outputs": [
        {
          "output_type": "stream",
          "name": "stdout",
          "text": [
            "\n",
            "All Incorrect Predictions (19 instances):\n",
            "   Actual Predicted  \\\n",
            "55      f         t   \n",
            "72      t         f   \n",
            "39      t         f   \n",
            "67      f         t   \n",
            "10      f         t   \n",
            "44      t         f   \n",
            "12      f         t   \n",
            "18      f         t   \n",
            "28      t         f   \n",
            "49      f         t   \n",
            "65      f         t   \n",
            "15      f         t   \n",
            "68      f         t   \n",
            "66      f         t   \n",
            "69      t         f   \n",
            "9       f         t   \n",
            "5       f         t   \n",
            "47      f         t   \n",
            "16      f         t   \n",
            "\n",
            "                                                                                                                                                                                                       Text  \n",
            "55  day ago went rooftop restaurant nyc served brunch one best brunch ever view table serene could see hudson river east river outstanding view empire state building chryslers tower freedom tower cent...  \n",
            "72  cafe best owner great ethic food die pumpkin espresso milkshake named albert einstein 5 winning food though vegan amazing fresh ingredient presentation speed service great reading material wifi ma...  \n",
            "39  restaurant quite popular recently went two friend 6pm really long queue waited almost 90 minute seated seat narrow easy hear clearly neighbor talking waitress impatient wondering whether get paid ...  \n",
            "67  hard pick favorite dining experience cioccolato frizzante waitstaff consistently nice food always great fiance say best italian food outside italy know lived 10 minute away italy childhood however...  \n",
            "10  weekend went place called ratastic shocked company numerous rat would expect someone shut place seems like everyone around romanticized certain disney movie would never take friend may come back q...  \n",
            "44  food lemongrass restaurant mixed bag mango burrata salad best salad life main entree dish ordered tofu bland prosecco good dessert adorable giant red balloon made raspberry sorbet great however re...  \n",
            "12  entered restaurant waitress came blanking looking threw menu table said coldly help disappeared waited waited one even notice went directly front desk order food long time later finally terrible f...  \n",
            "18              service way average wait 10 minute could seated wait 20 minute menu shown u let tell food kitty hoynes irish pub restaurant terrible vegies cooked lamb cooked bread dry beer flat need say  \n",
            "28  went restaurant ordered complimentary salad waiter made bad face asked salad finished eating food waiter actually came back said order salad finish aghast asked bill promptly would never ever go b...  \n",
            "49                        restaurant amazing felt like life worth living bit carmelized onion tofurky extravaganzaburger highly reccommend going delicious food fun atmosphere decent price vegetarian good  \n",
            "65  kaap one best thai restaurant best location put word point pointer amazing experience celebration dinner family rim kaap amazing outdoor garden ambiance authentic thai flavor ask special thai pepp...  \n",
            "15                    diner dish least one fly waiting hour dish cooked done taste reminds smell never want try food mouth could nightmare really want wake attitude waiter bad enough want step restaurant  \n",
            "68  ate restaurant called banana leaf entered restaurant really liked ambiance ordered noodle soup fried rice spicy black bean curry service pretty fast food tasted amazing lot flavor food truly enjoy...  \n",
            "66  france restaurant michelin three star enter restaurant would feel drop new world waiter guide table need choose menu would accord customer help choose best menu menu consisted 16 course everyone a...  \n",
            "69     tree cicero ny huge salad bar high quality italian dish place kid friendly affordable sure get dessert take home later even stuffed big portion waitstaff attentive need quick check customer status  \n",
            "9   went called first thought name later blackjack table ordered attendant get round jack coke instead saying attendant said 6 preposterous never paid drink casino clearly casino understand people dri...  \n",
            "5   went xyz restaurant terrible experience yelp free appetizer coupon could applied upon checking restaurant person serving u rude acknowledge coupon asked rudely replied back saying already applied ...  \n",
            "47                                                                                                    really like food best sushi town always fresh place great atmosphere well definitely coming back soon  \n",
            "16  went two friend 6pm long queue take u long wait waiter nice worked hurry ordered drink two icecream steak little bit salty acceptable friend like lamb chop cod filet much costed u almost 100 worth...  \n"
          ]
        }
      ]
    },
    {
      "cell_type": "code",
      "source": [],
      "metadata": {
        "id": "EsYtl7IWCcT4"
      },
      "execution_count": 66,
      "outputs": []
    }
  ]
}
